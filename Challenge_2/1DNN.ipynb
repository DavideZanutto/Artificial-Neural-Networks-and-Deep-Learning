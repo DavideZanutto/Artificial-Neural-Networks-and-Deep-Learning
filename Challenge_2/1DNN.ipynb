{
 "nbformat": 4,
 "nbformat_minor": 0,
 "metadata": {
  "colab": {
   "provenance": [],
   "collapsed_sections": [
    "bAP1pRLKN_v9",
    "t5VrQa_OMu74",
    "FqTU7SDgjWgV"
   ]
  },
  "kernelspec": {
   "name": "python3",
   "display_name": "Python 3"
  },
  "language_info": {
   "name": "python"
  }
 },
 "cells": [
  {
   "cell_type": "markdown",
   "metadata": {
    "id": "1FdqcMXk96rS"
   },
   "source": [
    "### Connect to Drive"
   ]
  },
  {
   "cell_type": "code",
   "metadata": {
    "id": "PxUZy3U-fjcm",
    "colab": {
     "base_uri": "https://localhost:8080/"
    },
    "executionInfo": {
     "status": "ok",
     "timestamp": 1670660760045,
     "user_tz": -60,
     "elapsed": 18987,
     "user": {
      "displayName": "Nicola Cecere",
      "userId": "00597015809844887639"
     }
    },
    "outputId": "2e8e4c30-70a3-4df1-fed7-8695566ea199"
   },
   "source": [
    "from google.colab import drive\n",
    "drive.mount('/gdrive')"
   ],
   "execution_count": 1,
   "outputs": [
    {
     "output_type": "stream",
     "name": "stdout",
     "text": [
      "Mounted at /gdrive\n"
     ]
    }
   ]
  },
  {
   "cell_type": "code",
   "metadata": {
    "id": "C_cUOiS9flQ8",
    "colab": {
     "base_uri": "https://localhost:8080/"
    },
    "executionInfo": {
     "status": "ok",
     "timestamp": 1670660793170,
     "user_tz": -60,
     "elapsed": 4,
     "user": {
      "displayName": "Nicola Cecere",
      "userId": "00597015809844887639"
     }
    },
    "outputId": "ee4d533b-4cce-49c1-c914-eec376de1308"
   },
   "source": [
    "%cd /gdrive/My Drive/Colab Notebooks/ANNDl2Homework/"
   ],
   "execution_count": 6,
   "outputs": [
    {
     "output_type": "stream",
     "name": "stdout",
     "text": [
      "/gdrive/My Drive/Colab Notebooks/ANNDl2Homework\n"
     ]
    }
   ]
  },
  {
   "cell_type": "code",
   "source": [
    "ls"
   ],
   "metadata": {
    "colab": {
     "base_uri": "https://localhost:8080/"
    },
    "id": "6GqH3h8XJA1M",
    "executionInfo": {
     "status": "ok",
     "timestamp": 1670660795810,
     "user_tz": -60,
     "elapsed": 348,
     "user": {
      "displayName": "Nicola Cecere",
      "userId": "00597015809844887639"
     }
    },
    "outputId": "5247dce1-aa12-42ce-84ef-87a4d53fb536"
   },
   "execution_count": 7,
   "outputs": [
    {
     "output_type": "stream",
     "name": "stdout",
     "text": [
      "'Copia di 7) Timeseries Classification.ipynb'   \u001B[0m\u001B[01;34mtraining_dataset_homework2\u001B[0m/\n"
     ]
    }
   ]
  },
  {
   "cell_type": "markdown",
   "metadata": {
    "id": "zfehjCy896Fd"
   },
   "source": [
    "### Import libraries"
   ]
  },
  {
   "cell_type": "code",
   "metadata": {
    "id": "Z_wVYNVVfr6q",
    "colab": {
     "base_uri": "https://localhost:8080/"
    },
    "executionInfo": {
     "status": "ok",
     "timestamp": 1670662999259,
     "user_tz": -60,
     "elapsed": 220,
     "user": {
      "displayName": "Nicola Cecere",
      "userId": "00597015809844887639"
     }
    },
    "outputId": "4e70ecce-d656-451f-cb4c-f72dd39eed63"
   },
   "source": [
    "import tensorflow as tf\n",
    "import numpy as np\n",
    "import os\n",
    "import random\n",
    "import pandas as pd\n",
    "import seaborn as sns\n",
    "import matplotlib.pyplot as plt\n",
    "plt.rc('font', size=16) \n",
    "from sklearn.metrics import accuracy_score, f1_score, precision_score, recall_score\n",
    "from sklearn.metrics import confusion_matrix\n",
    "from sklearn.preprocessing import MinMaxScaler\n",
    "import warnings\n",
    "import logging\n",
    "from sklearn.model_selection import train_test_split\n",
    "\n",
    "tfk = tf.keras\n",
    "tfkl = tf.keras.layers\n",
    "print(tf.__version__)"
   ],
   "execution_count": 35,
   "outputs": [
    {
     "output_type": "stream",
     "name": "stdout",
     "text": [
      "2.9.2\n"
     ]
    }
   ]
  },
  {
   "cell_type": "markdown",
   "metadata": {
    "id": "lQWEHP13tQsc"
   },
   "source": [
    "### Set seed for reproducibility"
   ]
  },
  {
   "cell_type": "code",
   "metadata": {
    "id": "imBtfhUPLwB-",
    "executionInfo": {
     "status": "ok",
     "timestamp": 1670660816995,
     "user_tz": -60,
     "elapsed": 255,
     "user": {
      "displayName": "Nicola Cecere",
      "userId": "00597015809844887639"
     }
    }
   },
   "source": [
    "# Random seed for reproducibility\n",
    "seed = 42\n",
    "\n",
    "random.seed(seed)\n",
    "os.environ['PYTHONHASHSEED'] = str(seed)\n",
    "np.random.seed(seed)\n",
    "tf.random.set_seed(seed)\n",
    "tf.compat.v1.set_random_seed(seed)"
   ],
   "execution_count": 9,
   "outputs": []
  },
  {
   "cell_type": "markdown",
   "metadata": {
    "id": "XRK9IPIc-ZEz"
   },
   "source": [
    "### Exploration Data Analysis (EDA)\n",
    "#### Human Activity Recognition"
   ]
  },
  {
   "cell_type": "markdown",
   "metadata": {
    "id": "GMysAd_I-lED"
   },
   "source": [
    "Load and clean the dataset"
   ]
  },
  {
   "cell_type": "code",
   "source": [
    "cd training_dataset_homework2/"
   ],
   "metadata": {
    "colab": {
     "base_uri": "https://localhost:8080/"
    },
    "id": "Fclkvu0AJ8_y",
    "executionInfo": {
     "status": "ok",
     "timestamp": 1670661017298,
     "user_tz": -60,
     "elapsed": 252,
     "user": {
      "displayName": "Nicola Cecere",
      "userId": "00597015809844887639"
     }
    },
    "outputId": "857fcecd-3e87-48b0-fbdf-0aedc16e1c98"
   },
   "execution_count": 11,
   "outputs": [
    {
     "output_type": "stream",
     "name": "stdout",
     "text": [
      "/gdrive/MyDrive/Colab Notebooks/ANNDl2Homework/training_dataset_homework2\n"
     ]
    }
   ]
  },
  {
   "cell_type": "code",
   "source": [
    "x_train= np.load(\"x_train.npy\")\n",
    "y_train= np.load(\"y_train.npy\")"
   ],
   "metadata": {
    "id": "EVplyAOEJkW6",
    "executionInfo": {
     "status": "ok",
     "timestamp": 1670663398624,
     "user_tz": -60,
     "elapsed": 481,
     "user": {
      "displayName": "Nicola Cecere",
      "userId": "00597015809844887639"
     }
    }
   },
   "execution_count": 44,
   "outputs": []
  },
  {
   "cell_type": "code",
   "source": [
    "x_train.shape"
   ],
   "metadata": {
    "colab": {
     "base_uri": "https://localhost:8080/"
    },
    "id": "JKvOUPl4M1B_",
    "executionInfo": {
     "status": "ok",
     "timestamp": 1670663406374,
     "user_tz": -60,
     "elapsed": 230,
     "user": {
      "displayName": "Nicola Cecere",
      "userId": "00597015809844887639"
     }
    },
    "outputId": "259aa913-0172-4756-bba6-eb1965210ef7"
   },
   "execution_count": 46,
   "outputs": [
    {
     "output_type": "execute_result",
     "data": {
      "text/plain": [
       "(2429, 36, 6)"
      ]
     },
     "metadata": {},
     "execution_count": 46
    }
   ]
  },
  {
   "cell_type": "code",
   "source": [
    "y_train.shape"
   ],
   "metadata": {
    "colab": {
     "base_uri": "https://localhost:8080/"
    },
    "id": "VeEYuQYJM5eZ",
    "executionInfo": {
     "status": "ok",
     "timestamp": 1670663421416,
     "user_tz": -60,
     "elapsed": 344,
     "user": {
      "displayName": "Nicola Cecere",
      "userId": "00597015809844887639"
     }
    },
    "outputId": "2769209a-6987-4b68-912b-86f16fb67d89"
   },
   "execution_count": 47,
   "outputs": [
    {
     "output_type": "execute_result",
     "data": {
      "text/plain": [
       "(2429,)"
      ]
     },
     "metadata": {},
     "execution_count": 47
    }
   ]
  },
  {
   "cell_type": "code",
   "source": [
    "x_train, x_test, y_train, y_test = train_test_split(x_train, y_train, random_state=seed, test_size=.1)\n",
    "x_train.shape, y_train.shape, x_test.shape, y_test.shape"
   ],
   "metadata": {
    "colab": {
     "base_uri": "https://localhost:8080/"
    },
    "id": "ZQcQOCEURy3N",
    "executionInfo": {
     "status": "ok",
     "timestamp": 1670663425227,
     "user_tz": -60,
     "elapsed": 236,
     "user": {
      "displayName": "Nicola Cecere",
      "userId": "00597015809844887639"
     }
    },
    "outputId": "f57edb06-a27a-43cc-ca26-b03fa0b7ca05"
   },
   "execution_count": 48,
   "outputs": [
    {
     "output_type": "execute_result",
     "data": {
      "text/plain": [
       "((2186, 36, 6), (2186,), (243, 36, 6), (243,))"
      ]
     },
     "metadata": {},
     "execution_count": 48
    }
   ]
  },
  {
   "cell_type": "markdown",
   "metadata": {
    "id": "1LfzQzLbGGrd"
   },
   "source": [
    "### Preprocessing"
   ]
  },
  {
   "cell_type": "markdown",
   "metadata": {
    "id": "JcYYaYkh_BVY"
   },
   "source": [
    "Split, Encode and Normalize"
   ]
  },
  {
   "cell_type": "code",
   "metadata": {
    "id": "Ec5AFCLqFvd0",
    "executionInfo": {
     "status": "ok",
     "timestamp": 1670665254405,
     "user_tz": -60,
     "elapsed": 228,
     "user": {
      "displayName": "Nicola Cecere",
      "userId": "00597015809844887639"
     }
    }
   },
   "source": [
    "# Map activities to integers\n",
    "label_mapping = {\n",
    "     \"Wish\": 0,\n",
    "      \"Another\": 1,\n",
    "\"Comfortably\": 2,\n",
    "\"Money\": 3,\n",
    "\"Breathe\":4,\n",
    " \"Time\":5,\n",
    " \"Brain\":6,\n",
    " \"Echoes\":7,\n",
    "\"Wearing\":8,\n",
    "\"Sorrow\":9,\n",
    "\"Hey\":10,\n",
    " \"Shine\":11\n",
    "}\n"
   ],
   "execution_count": 60,
   "outputs": []
  },
  {
   "cell_type": "code",
   "metadata": {
    "id": "tguCut77u6bL",
    "colab": {
     "base_uri": "https://localhost:8080/"
    },
    "executionInfo": {
     "status": "ok",
     "timestamp": 1670663442303,
     "user_tz": -60,
     "elapsed": 341,
     "user": {
      "displayName": "Nicola Cecere",
      "userId": "00597015809844887639"
     }
    },
    "outputId": "7101b7ae-4848-4d1d-944b-0546c0bef483"
   },
   "source": [
    "# Convert the sparse labels to categorical values\n",
    "y_train = tfk.utils.to_categorical(y_train)\n",
    "y_test = tfk.utils.to_categorical(y_test)\n",
    "x_train.shape, y_train.shape, y_test.shape, y_test.shape"
   ],
   "execution_count": 49,
   "outputs": [
    {
     "output_type": "execute_result",
     "data": {
      "text/plain": [
       "((2186, 36, 6), (2186, 12), (243, 12), (243, 12))"
      ]
     },
     "metadata": {},
     "execution_count": 49
    }
   ]
  },
  {
   "cell_type": "markdown",
   "metadata": {
    "id": "g_0wmrz3MGsd"
   },
   "source": [
    "### Build and train models"
   ]
  },
  {
   "cell_type": "code",
   "metadata": {
    "id": "XkUqhy__KMnr",
    "executionInfo": {
     "status": "ok",
     "timestamp": 1670663446281,
     "user_tz": -60,
     "elapsed": 230,
     "user": {
      "displayName": "Nicola Cecere",
      "userId": "00597015809844887639"
     }
    }
   },
   "source": [
    "input_shape = x_train.shape[1:]\n",
    "classes = y_train.shape[-1]\n",
    "batch_size = 32\n",
    "epochs = 200"
   ],
   "execution_count": 50,
   "outputs": []
  },
  {
   "cell_type": "markdown",
   "metadata": {
    "id": "FqTU7SDgjWgV"
   },
   "source": [
    "#### 1D Convolutional Neural Network\n",
    "\n",
    "![](https://drive.google.com/uc?export=view&id=10B7c-F58-eNr6CP7D_UZeVp0gTeYMrFQ\n",
    ")"
   ]
  },
  {
   "cell_type": "code",
   "metadata": {
    "id": "7nxJrPoojt3z",
    "executionInfo": {
     "status": "ok",
     "timestamp": 1670663449122,
     "user_tz": -60,
     "elapsed": 561,
     "user": {
      "displayName": "Nicola Cecere",
      "userId": "00597015809844887639"
     }
    }
   },
   "source": [
    "def build_1DCNN_classifier(input_shape, classes):\n",
    "    # Build the neural network layer by layer\n",
    "    input_layer = tfkl.Input(shape=input_shape, name='Input')\n",
    "\n",
    "    # Feature extractor\n",
    "    cnn = tfkl.Conv1D(128,3,padding='same',activation='relu')(input_layer)\n",
    "    cnn = tfkl.MaxPooling1D()(cnn)\n",
    "    cnn = tfkl.Conv1D(128,3,padding='same',activation='relu')(cnn)\n",
    "    gap = tfkl.GlobalAveragePooling1D()(cnn)\n",
    "    dropout = tfkl.Dropout(.5, seed=seed)(gap)\n",
    "\n",
    "    # Classifier\n",
    "    classifier = tfkl.Dense(128, activation='relu')(dropout)\n",
    "    output_layer = tfkl.Dense(classes, activation='softmax')(classifier)\n",
    "\n",
    "    # Connect input and output through the Model class\n",
    "    model = tfk.Model(inputs=input_layer, outputs=output_layer, name='model')\n",
    "\n",
    "    # Compile the model\n",
    "    model.compile(loss=tfk.losses.CategoricalCrossentropy(), optimizer=tfk.optimizers.Adam(), metrics='accuracy')\n",
    "\n",
    "    # Return the model\n",
    "    return model"
   ],
   "execution_count": 51,
   "outputs": []
  },
  {
   "cell_type": "code",
   "metadata": {
    "id": "d1zEtb3Hjt1O",
    "colab": {
     "base_uri": "https://localhost:8080/"
    },
    "executionInfo": {
     "status": "ok",
     "timestamp": 1670663450923,
     "user_tz": -60,
     "elapsed": 272,
     "user": {
      "displayName": "Nicola Cecere",
      "userId": "00597015809844887639"
     }
    },
    "outputId": "c6f52982-34af-4972-be6d-0e06031e5bfb"
   },
   "source": [
    "model = build_1DCNN_classifier(input_shape, classes)\n",
    "model.summary()"
   ],
   "execution_count": 52,
   "outputs": [
    {
     "output_type": "stream",
     "name": "stdout",
     "text": [
      "Model: \"model\"\n",
      "_________________________________________________________________\n",
      " Layer (type)                Output Shape              Param #   \n",
      "=================================================================\n",
      " Input (InputLayer)          [(None, 36, 6)]           0         \n",
      "                                                                 \n",
      " conv1d_4 (Conv1D)           (None, 36, 128)           2432      \n",
      "                                                                 \n",
      " max_pooling1d_2 (MaxPooling  (None, 18, 128)          0         \n",
      " 1D)                                                             \n",
      "                                                                 \n",
      " conv1d_5 (Conv1D)           (None, 18, 128)           49280     \n",
      "                                                                 \n",
      " global_average_pooling1d_2   (None, 128)              0         \n",
      " (GlobalAveragePooling1D)                                        \n",
      "                                                                 \n",
      " dropout_2 (Dropout)         (None, 128)               0         \n",
      "                                                                 \n",
      " dense_4 (Dense)             (None, 128)               16512     \n",
      "                                                                 \n",
      " dense_5 (Dense)             (None, 12)                1548      \n",
      "                                                                 \n",
      "=================================================================\n",
      "Total params: 69,772\n",
      "Trainable params: 69,772\n",
      "Non-trainable params: 0\n",
      "_________________________________________________________________\n"
     ]
    }
   ]
  },
  {
   "cell_type": "code",
   "metadata": {
    "id": "LQOYU2X0jty5",
    "colab": {
     "base_uri": "https://localhost:8080/"
    },
    "executionInfo": {
     "status": "ok",
     "timestamp": 1670663499602,
     "user_tz": -60,
     "elapsed": 46296,
     "user": {
      "displayName": "Nicola Cecere",
      "userId": "00597015809844887639"
     }
    },
    "outputId": "5d9de8ba-a960-4de6-9ac1-c9a7cbe2870e"
   },
   "source": [
    "# Train the model\n",
    "history = model.fit(\n",
    "    x = x_train,\n",
    "    y = y_train,\n",
    "    batch_size = batch_size,\n",
    "    epochs = epochs,\n",
    "    validation_split=.1,\n",
    "    callbacks = [\n",
    "        tfk.callbacks.EarlyStopping(monitor='val_accuracy', mode='max', patience=10, restore_best_weights=True),\n",
    "        tfk.callbacks.ReduceLROnPlateau(monitor='val_accuracy', mode='max', patience=5, factor=0.5, min_lr=1e-5)\n",
    "    ]\n",
    ").history"
   ],
   "execution_count": 53,
   "outputs": [
    {
     "output_type": "stream",
     "name": "stdout",
     "text": [
      "Epoch 1/200\n",
      "62/62 [==============================] - 2s 12ms/step - loss: 16.6924 - accuracy: 0.1159 - val_loss: 6.2928 - val_accuracy: 0.2283 - lr: 0.0010\n",
      "Epoch 2/200\n",
      "62/62 [==============================] - 1s 10ms/step - loss: 6.8387 - accuracy: 0.2400 - val_loss: 3.3064 - val_accuracy: 0.3653 - lr: 0.0010\n",
      "Epoch 3/200\n",
      "62/62 [==============================] - 1s 11ms/step - loss: 3.7311 - accuracy: 0.2949 - val_loss: 2.4977 - val_accuracy: 0.4155 - lr: 0.0010\n",
      "Epoch 4/200\n",
      "62/62 [==============================] - 1s 15ms/step - loss: 2.6565 - accuracy: 0.3864 - val_loss: 2.0503 - val_accuracy: 0.4384 - lr: 0.0010\n",
      "Epoch 5/200\n",
      "62/62 [==============================] - 1s 11ms/step - loss: 2.3717 - accuracy: 0.3965 - val_loss: 1.8803 - val_accuracy: 0.4338 - lr: 0.0010\n",
      "Epoch 6/200\n",
      "62/62 [==============================] - 1s 9ms/step - loss: 2.1265 - accuracy: 0.4042 - val_loss: 1.8520 - val_accuracy: 0.4749 - lr: 0.0010\n",
      "Epoch 7/200\n",
      "62/62 [==============================] - 1s 9ms/step - loss: 1.9864 - accuracy: 0.4133 - val_loss: 1.9530 - val_accuracy: 0.4566 - lr: 0.0010\n",
      "Epoch 8/200\n",
      "62/62 [==============================] - 1s 10ms/step - loss: 1.8730 - accuracy: 0.4047 - val_loss: 1.9606 - val_accuracy: 0.4612 - lr: 0.0010\n",
      "Epoch 9/200\n",
      "62/62 [==============================] - 1s 10ms/step - loss: 1.9204 - accuracy: 0.4220 - val_loss: 1.7971 - val_accuracy: 0.4612 - lr: 0.0010\n",
      "Epoch 10/200\n",
      "62/62 [==============================] - 1s 9ms/step - loss: 1.8183 - accuracy: 0.4311 - val_loss: 1.7956 - val_accuracy: 0.4521 - lr: 0.0010\n",
      "Epoch 11/200\n",
      "62/62 [==============================] - 1s 9ms/step - loss: 1.8722 - accuracy: 0.4306 - val_loss: 1.8017 - val_accuracy: 0.4703 - lr: 0.0010\n",
      "Epoch 12/200\n",
      "62/62 [==============================] - 1s 8ms/step - loss: 1.7310 - accuracy: 0.4428 - val_loss: 1.8678 - val_accuracy: 0.4840 - lr: 5.0000e-04\n",
      "Epoch 13/200\n",
      "62/62 [==============================] - 1s 9ms/step - loss: 1.7083 - accuracy: 0.4525 - val_loss: 1.7189 - val_accuracy: 0.5114 - lr: 5.0000e-04\n",
      "Epoch 14/200\n",
      "62/62 [==============================] - 1s 9ms/step - loss: 1.7005 - accuracy: 0.4550 - val_loss: 1.8557 - val_accuracy: 0.4932 - lr: 5.0000e-04\n",
      "Epoch 15/200\n",
      "62/62 [==============================] - 1s 9ms/step - loss: 1.7590 - accuracy: 0.4565 - val_loss: 1.6179 - val_accuracy: 0.4749 - lr: 5.0000e-04\n",
      "Epoch 16/200\n",
      "62/62 [==============================] - 1s 10ms/step - loss: 1.6967 - accuracy: 0.4499 - val_loss: 1.6033 - val_accuracy: 0.5023 - lr: 5.0000e-04\n",
      "Epoch 17/200\n",
      "62/62 [==============================] - 1s 11ms/step - loss: 1.6197 - accuracy: 0.4682 - val_loss: 1.6354 - val_accuracy: 0.5114 - lr: 5.0000e-04\n",
      "Epoch 18/200\n",
      "62/62 [==============================] - 1s 9ms/step - loss: 1.6209 - accuracy: 0.4703 - val_loss: 1.6493 - val_accuracy: 0.5160 - lr: 5.0000e-04\n",
      "Epoch 19/200\n",
      "62/62 [==============================] - 1s 9ms/step - loss: 1.6394 - accuracy: 0.4708 - val_loss: 1.7850 - val_accuracy: 0.5205 - lr: 5.0000e-04\n",
      "Epoch 20/200\n",
      "62/62 [==============================] - 1s 8ms/step - loss: 1.6783 - accuracy: 0.4774 - val_loss: 1.6859 - val_accuracy: 0.5068 - lr: 5.0000e-04\n",
      "Epoch 21/200\n",
      "62/62 [==============================] - 1s 10ms/step - loss: 1.6054 - accuracy: 0.4779 - val_loss: 1.6956 - val_accuracy: 0.5297 - lr: 5.0000e-04\n",
      "Epoch 22/200\n",
      "62/62 [==============================] - 1s 10ms/step - loss: 1.5617 - accuracy: 0.4855 - val_loss: 1.7851 - val_accuracy: 0.5114 - lr: 5.0000e-04\n",
      "Epoch 23/200\n",
      "62/62 [==============================] - 1s 10ms/step - loss: 1.6140 - accuracy: 0.4835 - val_loss: 1.8087 - val_accuracy: 0.5205 - lr: 5.0000e-04\n",
      "Epoch 24/200\n",
      "62/62 [==============================] - 1s 9ms/step - loss: 1.5761 - accuracy: 0.4921 - val_loss: 1.7178 - val_accuracy: 0.5251 - lr: 5.0000e-04\n",
      "Epoch 25/200\n",
      "62/62 [==============================] - 1s 10ms/step - loss: 1.5663 - accuracy: 0.5018 - val_loss: 1.6316 - val_accuracy: 0.5251 - lr: 5.0000e-04\n",
      "Epoch 26/200\n",
      "62/62 [==============================] - 1s 11ms/step - loss: 1.5189 - accuracy: 0.5074 - val_loss: 1.6794 - val_accuracy: 0.5160 - lr: 5.0000e-04\n",
      "Epoch 27/200\n",
      "62/62 [==============================] - 1s 13ms/step - loss: 1.5174 - accuracy: 0.5175 - val_loss: 1.5381 - val_accuracy: 0.5388 - lr: 2.5000e-04\n",
      "Epoch 28/200\n",
      "62/62 [==============================] - 1s 12ms/step - loss: 1.4853 - accuracy: 0.5058 - val_loss: 1.5192 - val_accuracy: 0.5525 - lr: 2.5000e-04\n",
      "Epoch 29/200\n",
      "62/62 [==============================] - 1s 12ms/step - loss: 1.4657 - accuracy: 0.5262 - val_loss: 1.5721 - val_accuracy: 0.5525 - lr: 2.5000e-04\n",
      "Epoch 30/200\n",
      "62/62 [==============================] - 1s 10ms/step - loss: 1.4972 - accuracy: 0.5099 - val_loss: 1.5201 - val_accuracy: 0.5616 - lr: 2.5000e-04\n",
      "Epoch 31/200\n",
      "62/62 [==============================] - 1s 9ms/step - loss: 1.4670 - accuracy: 0.5165 - val_loss: 1.6236 - val_accuracy: 0.5662 - lr: 2.5000e-04\n",
      "Epoch 32/200\n",
      "62/62 [==============================] - 1s 11ms/step - loss: 1.4766 - accuracy: 0.5358 - val_loss: 1.9225 - val_accuracy: 0.5571 - lr: 2.5000e-04\n",
      "Epoch 33/200\n",
      "62/62 [==============================] - 1s 11ms/step - loss: 1.4497 - accuracy: 0.5262 - val_loss: 1.6440 - val_accuracy: 0.5708 - lr: 2.5000e-04\n",
      "Epoch 34/200\n",
      "62/62 [==============================] - 1s 8ms/step - loss: 1.4501 - accuracy: 0.5358 - val_loss: 1.5620 - val_accuracy: 0.5662 - lr: 2.5000e-04\n",
      "Epoch 35/200\n",
      "62/62 [==============================] - 1s 9ms/step - loss: 1.4651 - accuracy: 0.5241 - val_loss: 1.4583 - val_accuracy: 0.5753 - lr: 2.5000e-04\n",
      "Epoch 36/200\n",
      "62/62 [==============================] - 1s 9ms/step - loss: 1.4480 - accuracy: 0.5125 - val_loss: 1.4236 - val_accuracy: 0.5662 - lr: 2.5000e-04\n",
      "Epoch 37/200\n",
      "62/62 [==============================] - 1s 10ms/step - loss: 1.4390 - accuracy: 0.5241 - val_loss: 1.5023 - val_accuracy: 0.5525 - lr: 2.5000e-04\n",
      "Epoch 38/200\n",
      "62/62 [==============================] - 1s 11ms/step - loss: 1.4661 - accuracy: 0.5211 - val_loss: 1.4778 - val_accuracy: 0.5845 - lr: 2.5000e-04\n",
      "Epoch 39/200\n",
      "62/62 [==============================] - 1s 11ms/step - loss: 1.4383 - accuracy: 0.5262 - val_loss: 1.6657 - val_accuracy: 0.5753 - lr: 2.5000e-04\n",
      "Epoch 40/200\n",
      "62/62 [==============================] - 1s 10ms/step - loss: 1.4341 - accuracy: 0.5374 - val_loss: 1.5357 - val_accuracy: 0.5799 - lr: 2.5000e-04\n",
      "Epoch 41/200\n",
      "62/62 [==============================] - 1s 9ms/step - loss: 1.4616 - accuracy: 0.5379 - val_loss: 1.5015 - val_accuracy: 0.5708 - lr: 2.5000e-04\n",
      "Epoch 42/200\n",
      "62/62 [==============================] - 1s 10ms/step - loss: 1.3844 - accuracy: 0.5506 - val_loss: 1.4842 - val_accuracy: 0.5890 - lr: 2.5000e-04\n",
      "Epoch 43/200\n",
      "62/62 [==============================] - 1s 12ms/step - loss: 1.4007 - accuracy: 0.5348 - val_loss: 1.4015 - val_accuracy: 0.5982 - lr: 2.5000e-04\n",
      "Epoch 44/200\n",
      "62/62 [==============================] - 1s 10ms/step - loss: 1.4086 - accuracy: 0.5419 - val_loss: 1.3507 - val_accuracy: 0.5845 - lr: 2.5000e-04\n",
      "Epoch 45/200\n",
      "62/62 [==============================] - 1s 10ms/step - loss: 1.3812 - accuracy: 0.5491 - val_loss: 1.3563 - val_accuracy: 0.5845 - lr: 2.5000e-04\n",
      "Epoch 46/200\n",
      "62/62 [==============================] - 1s 11ms/step - loss: 1.3723 - accuracy: 0.5516 - val_loss: 1.3736 - val_accuracy: 0.5616 - lr: 2.5000e-04\n",
      "Epoch 47/200\n",
      "62/62 [==============================] - 1s 10ms/step - loss: 1.3256 - accuracy: 0.5516 - val_loss: 1.3004 - val_accuracy: 0.6073 - lr: 2.5000e-04\n",
      "Epoch 48/200\n",
      "62/62 [==============================] - 1s 10ms/step - loss: 1.3164 - accuracy: 0.5663 - val_loss: 1.2970 - val_accuracy: 0.5982 - lr: 2.5000e-04\n",
      "Epoch 49/200\n",
      "62/62 [==============================] - 1s 10ms/step - loss: 1.3094 - accuracy: 0.5592 - val_loss: 1.3940 - val_accuracy: 0.6027 - lr: 2.5000e-04\n",
      "Epoch 50/200\n",
      "62/62 [==============================] - 1s 11ms/step - loss: 1.3176 - accuracy: 0.5577 - val_loss: 1.4199 - val_accuracy: 0.6027 - lr: 2.5000e-04\n",
      "Epoch 51/200\n",
      "62/62 [==============================] - 1s 11ms/step - loss: 1.3663 - accuracy: 0.5623 - val_loss: 1.3229 - val_accuracy: 0.6119 - lr: 2.5000e-04\n",
      "Epoch 52/200\n",
      "62/62 [==============================] - 1s 11ms/step - loss: 1.3162 - accuracy: 0.5638 - val_loss: 1.2885 - val_accuracy: 0.6164 - lr: 2.5000e-04\n",
      "Epoch 53/200\n",
      "62/62 [==============================] - 1s 9ms/step - loss: 1.3313 - accuracy: 0.5587 - val_loss: 1.4935 - val_accuracy: 0.6164 - lr: 2.5000e-04\n",
      "Epoch 54/200\n",
      "62/62 [==============================] - 1s 9ms/step - loss: 1.3012 - accuracy: 0.5618 - val_loss: 1.4240 - val_accuracy: 0.6119 - lr: 2.5000e-04\n",
      "Epoch 55/200\n",
      "62/62 [==============================] - 1s 9ms/step - loss: 1.4079 - accuracy: 0.5587 - val_loss: 1.3792 - val_accuracy: 0.6027 - lr: 2.5000e-04\n",
      "Epoch 56/200\n",
      "62/62 [==============================] - 1s 10ms/step - loss: 1.3421 - accuracy: 0.5643 - val_loss: 1.5947 - val_accuracy: 0.5982 - lr: 2.5000e-04\n",
      "Epoch 57/200\n",
      "62/62 [==============================] - 1s 11ms/step - loss: 1.3791 - accuracy: 0.5592 - val_loss: 1.3819 - val_accuracy: 0.6164 - lr: 2.5000e-04\n",
      "Epoch 58/200\n",
      "62/62 [==============================] - 1s 9ms/step - loss: 1.3150 - accuracy: 0.5577 - val_loss: 1.4881 - val_accuracy: 0.6164 - lr: 1.2500e-04\n",
      "Epoch 59/200\n",
      "62/62 [==============================] - 1s 9ms/step - loss: 1.2707 - accuracy: 0.5745 - val_loss: 1.4691 - val_accuracy: 0.6164 - lr: 1.2500e-04\n",
      "Epoch 60/200\n",
      "62/62 [==============================] - 1s 9ms/step - loss: 1.2501 - accuracy: 0.5801 - val_loss: 1.3943 - val_accuracy: 0.6347 - lr: 1.2500e-04\n",
      "Epoch 61/200\n",
      "62/62 [==============================] - 1s 9ms/step - loss: 1.2633 - accuracy: 0.5730 - val_loss: 1.3222 - val_accuracy: 0.6210 - lr: 1.2500e-04\n",
      "Epoch 62/200\n",
      "62/62 [==============================] - 1s 10ms/step - loss: 1.2616 - accuracy: 0.5821 - val_loss: 1.4267 - val_accuracy: 0.6484 - lr: 1.2500e-04\n",
      "Epoch 63/200\n",
      "62/62 [==============================] - 1s 10ms/step - loss: 1.2504 - accuracy: 0.5892 - val_loss: 1.3877 - val_accuracy: 0.6347 - lr: 1.2500e-04\n",
      "Epoch 64/200\n",
      "62/62 [==============================] - 1s 9ms/step - loss: 1.2815 - accuracy: 0.5791 - val_loss: 1.3307 - val_accuracy: 0.6484 - lr: 1.2500e-04\n",
      "Epoch 65/200\n",
      "62/62 [==============================] - 1s 11ms/step - loss: 1.2438 - accuracy: 0.5816 - val_loss: 1.4408 - val_accuracy: 0.6210 - lr: 1.2500e-04\n",
      "Epoch 66/200\n",
      "62/62 [==============================] - 1s 10ms/step - loss: 1.2159 - accuracy: 0.5918 - val_loss: 1.3879 - val_accuracy: 0.6256 - lr: 1.2500e-04\n",
      "Epoch 67/200\n",
      "62/62 [==============================] - 1s 11ms/step - loss: 1.2667 - accuracy: 0.5857 - val_loss: 1.4866 - val_accuracy: 0.6073 - lr: 1.2500e-04\n",
      "Epoch 68/200\n",
      "62/62 [==============================] - 1s 9ms/step - loss: 1.2199 - accuracy: 0.5968 - val_loss: 1.4221 - val_accuracy: 0.6164 - lr: 6.2500e-05\n",
      "Epoch 69/200\n",
      "62/62 [==============================] - 1s 9ms/step - loss: 1.2711 - accuracy: 0.5897 - val_loss: 1.3809 - val_accuracy: 0.6210 - lr: 6.2500e-05\n",
      "Epoch 70/200\n",
      "62/62 [==============================] - 1s 10ms/step - loss: 1.2324 - accuracy: 0.5918 - val_loss: 1.3573 - val_accuracy: 0.6256 - lr: 6.2500e-05\n",
      "Epoch 71/200\n",
      "62/62 [==============================] - 1s 10ms/step - loss: 1.2036 - accuracy: 0.5963 - val_loss: 1.3425 - val_accuracy: 0.6210 - lr: 6.2500e-05\n",
      "Epoch 72/200\n",
      "62/62 [==============================] - 1s 10ms/step - loss: 1.2073 - accuracy: 0.5953 - val_loss: 1.3606 - val_accuracy: 0.6256 - lr: 6.2500e-05\n"
     ]
    }
   ]
  },
  {
   "cell_type": "code",
   "metadata": {
    "id": "rzrqDHgijtwW",
    "colab": {
     "base_uri": "https://localhost:8080/",
     "height": 764
    },
    "executionInfo": {
     "status": "ok",
     "timestamp": 1670663510164,
     "user_tz": -60,
     "elapsed": 1461,
     "user": {
      "displayName": "Nicola Cecere",
      "userId": "00597015809844887639"
     }
    },
    "outputId": "5f27fdfc-7b02-4e86-b598-7386b9454b9e"
   },
   "source": [
    "best_epoch = np.argmax(history['val_accuracy'])\n",
    "plt.figure(figsize=(17,4))\n",
    "plt.plot(history['loss'], label='Training loss', alpha=.8, color='#ff7f0e')\n",
    "plt.plot(history['val_loss'], label='Validation loss', alpha=.9, color='#5a9aa5')\n",
    "plt.axvline(x=best_epoch, label='Best epoch', alpha=.3, ls='--', color='#5a9aa5')\n",
    "plt.title('Categorical Crossentropy')\n",
    "plt.legend()\n",
    "plt.grid(alpha=.3)\n",
    "plt.show()\n",
    "\n",
    "plt.figure(figsize=(17,4))\n",
    "plt.plot(history['accuracy'], label='Training accuracy', alpha=.8, color='#ff7f0e')\n",
    "plt.plot(history['val_accuracy'], label='Validation accuracy', alpha=.9, color='#5a9aa5')\n",
    "plt.axvline(x=best_epoch, label='Best epoch', alpha=.3, ls='--', color='#5a9aa5')\n",
    "plt.title('Accuracy')\n",
    "plt.legend()\n",
    "plt.grid(alpha=.3)\n",
    "plt.show()\n",
    "\n",
    "plt.figure(figsize=(18,3))\n",
    "plt.plot(history['lr'], label='Learning Rate', alpha=.8, color='#ff7f0e')\n",
    "plt.axvline(x=best_epoch, label='Best epoch', alpha=.3, ls='--', color='#5a9aa5')\n",
    "plt.legend()\n",
    "plt.grid(alpha=.3)\n",
    "plt.show()"
   ],
   "execution_count": 54,
   "outputs": [
    {
     "output_type": "display_data",
     "data": {
      "text/plain": [
       "<Figure size 1224x288 with 1 Axes>"
      ],
      "image/png": "[encoded data removed]"
     },
     "metadata": {
      "needs_background": "light"
     }
    },
    {
     "output_type": "display_data",
     "data": {
      "text/plain": [
       "<Figure size 1224x288 with 1 Axes>"
      ],
      "image/png": "[encoded data removed]"
     },
     "metadata": {
      "needs_background": "light"
     }
    },
    {
     "output_type": "display_data",
     "data": {
      "text/plain": [
       "<Figure size 1296x216 with 1 Axes>"
      ],
      "image/png": "[encoded data removed]"
     },
     "metadata": {
      "needs_background": "light"
     }
    }
   ]
  },
  {
   "cell_type": "code",
   "metadata": {
    "id": "ZmNPtx9VjtuC",
    "colab": {
     "base_uri": "https://localhost:8080/"
    },
    "executionInfo": {
     "status": "ok",
     "timestamp": 1670663537378,
     "user_tz": -60,
     "elapsed": 1195,
     "user": {
      "displayName": "Nicola Cecere",
      "userId": "00597015809844887639"
     }
    },
    "outputId": "c690f518-53e9-47e6-9cee-ef8734de9724"
   },
   "source": [
    "model.save('1DCNN')\n",
    "# model = tfk.models.load_model('1DCNN')"
   ],
   "execution_count": 55,
   "outputs": [
    {
     "output_type": "stream",
     "name": "stderr",
     "text": [
      "WARNING:absl:Function `_wrapped_model` contains input name(s) Input with unsupported characters which will be renamed to input in the SavedModel.\n",
      "WARNING:absl:Found untraced functions such as _jit_compiled_convolution_op, _jit_compiled_convolution_op while saving (showing 2 of 2). These functions will not be directly callable after loading.\n"
     ]
    }
   ]
  },
  {
   "cell_type": "code",
   "metadata": {
    "id": "fvKkbmnujtrS",
    "colab": {
     "base_uri": "https://localhost:8080/"
    },
    "executionInfo": {
     "status": "ok",
     "timestamp": 1670663549811,
     "user_tz": -60,
     "elapsed": 608,
     "user": {
      "displayName": "Nicola Cecere",
      "userId": "00597015809844887639"
     }
    },
    "outputId": "9a247530-1fe4-4912-83ef-59a2453030fa"
   },
   "source": [
    "# Predict the test set with the 1DCNN\n",
    "predictions = model.predict(x_test)\n",
    "predictions.shape"
   ],
   "execution_count": 57,
   "outputs": [
    {
     "output_type": "stream",
     "name": "stdout",
     "text": [
      "8/8 [==============================] - 0s 6ms/step\n"
     ]
    },
    {
     "output_type": "execute_result",
     "data": {
      "text/plain": [
       "(243, 12)"
      ]
     },
     "metadata": {},
     "execution_count": 57
    }
   ]
  },
  {
   "cell_type": "code",
   "metadata": {
    "id": "KRdpbCqCjtpR",
    "colab": {
     "base_uri": "https://localhost:8080/",
     "height": 713
    },
    "executionInfo": {
     "status": "ok",
     "timestamp": 1670665262178,
     "user_tz": -60,
     "elapsed": 530,
     "user": {
      "displayName": "Nicola Cecere",
      "userId": "00597015809844887639"
     }
    },
    "outputId": "9a18b3c7-e217-4130-e1d3-bff78b16e600"
   },
   "source": [
    "# Compute the confusion matrix\n",
    "cm = confusion_matrix(np.argmax(y_test, axis=-1), np.argmax(predictions, axis=-1))\n",
    "\n",
    "# Compute the classification metrics\n",
    "accuracy = accuracy_score(np.argmax(y_test, axis=-1), np.argmax(predictions, axis=-1))\n",
    "precision = precision_score(np.argmax(y_test, axis=-1), np.argmax(predictions, axis=-1), average='macro')\n",
    "recall = recall_score(np.argmax(y_test, axis=-1), np.argmax(predictions, axis=-1), average='macro')\n",
    "f1 = f1_score(np.argmax(y_test, axis=-1), np.argmax(predictions, axis=-1), average='macro')\n",
    "print('Accuracy:',accuracy.round(4))\n",
    "print('Precision:',precision.round(4))\n",
    "print('Recall:',recall.round(4))\n",
    "print('F1:',f1.round(4))\n",
    "\n",
    "# Plot the confusion matrix\n",
    "plt.figure(figsize=(10,8))\n",
    "sns.heatmap(cm.T, cmap='Blues', xticklabels=list(label_mapping.keys()), yticklabels=list(label_mapping.keys()))\n",
    "plt.xlabel('True labels')\n",
    "plt.ylabel('Predicted labels')\n",
    "plt.show()"
   ],
   "execution_count": 61,
   "outputs": [
    {
     "output_type": "stream",
     "name": "stderr",
     "text": [
      "/usr/local/lib/python3.8/dist-packages/sklearn/metrics/_classification.py:1318: UndefinedMetricWarning: Precision is ill-defined and being set to 0.0 in labels with no predicted samples. Use `zero_division` parameter to control this behavior.\n",
      "  _warn_prf(average, modifier, msg_start, len(result))\n"
     ]
    },
    {
     "output_type": "stream",
     "name": "stdout",
     "text": [
      "Accuracy: 0.6543\n",
      "Precision: 0.5659\n",
      "Recall: 0.5261\n",
      "F1: 0.5008\n"
     ]
    },
    {
     "output_type": "display_data",
     "data": {
      "text/plain": [
       "<Figure size 720x576 with 2 Axes>"
      ],
      "image/png": "[encoded data removed]"
     },
     "metadata": {
      "needs_background": "light"
     }
    }
   ]
  },
  {
   "cell_type": "markdown",
   "metadata": {
    "id": "et_9CJzIBsRt"
   },
   "source": [
    "Damn, once again no free lunch"
   ]
  }
 ]
}
