{
  "cells": [
    {
      "cell_type": "markdown",
      "metadata": {
        "id": "1FdqcMXk96rS"
      },
      "source": [
        "### Connect to Drive"
      ]
    },
    {
      "cell_type": "code",
      "execution_count": 2,
      "metadata": {
        "colab": {
          "base_uri": "https://localhost:8080/"
        },
        "id": "PxUZy3U-fjcm",
        "outputId": "4b1b70aa-53d5-4bb0-906c-f612295aa090"
      },
      "outputs": [
        {
          "output_type": "stream",
          "name": "stdout",
          "text": [
            "Mounted at /gdrive\n"
          ]
        }
      ],
      "source": [
        "from google.colab import drive\n",
        "drive.mount('/gdrive')"
      ]
    },
    {
      "cell_type": "code",
      "execution_count": 3,
      "metadata": {
        "colab": {
          "base_uri": "https://localhost:8080/"
        },
        "id": "C_cUOiS9flQ8",
        "outputId": "40d7c6fd-7b12-470d-e633-70bc31ab014a"
      },
      "outputs": [
        {
          "output_type": "stream",
          "name": "stdout",
          "text": [
            "/gdrive/My Drive/Challenge2\n"
          ]
        }
      ],
      "source": [
        "%cd /gdrive/My Drive/Challenge2"
      ]
    },
    {
      "cell_type": "code",
      "execution_count": null,
      "metadata": {
        "colab": {
          "base_uri": "https://localhost:8080/"
        },
        "id": "6GqH3h8XJA1M",
        "outputId": "689cef19-99f6-4670-9a3b-56bbc2262269"
      },
      "outputs": [
        {
          "output_type": "stream",
          "name": "stdout",
          "text": [
            " 1DNN.ipynb                                     LSTM.ipynb\n",
            " BiLSTM.ipynb                                   \u001b[0m\u001b[01;34mtraining_dataset_homework2\u001b[0m/\n",
            "'Copia di 7) Timeseries Classification.ipynb'\n"
          ]
        }
      ],
      "source": [
        "ls"
      ]
    },
    {
      "cell_type": "markdown",
      "metadata": {
        "id": "zfehjCy896Fd"
      },
      "source": [
        "### Import libraries"
      ]
    },
    {
      "cell_type": "code",
      "execution_count": 4,
      "metadata": {
        "colab": {
          "base_uri": "https://localhost:8080/"
        },
        "id": "Z_wVYNVVfr6q",
        "outputId": "b5b42d93-d235-4de7-c374-1c7574b534b3"
      },
      "outputs": [
        {
          "output_type": "stream",
          "name": "stdout",
          "text": [
            "2.9.2\n"
          ]
        }
      ],
      "source": [
        "import tensorflow as tf\n",
        "import numpy as np\n",
        "import os\n",
        "import random\n",
        "import pandas as pd\n",
        "import seaborn as sns\n",
        "import matplotlib.pyplot as plt\n",
        "plt.rc('font', size=16) \n",
        "from sklearn.metrics import accuracy_score, f1_score, precision_score, recall_score\n",
        "from sklearn.metrics import confusion_matrix\n",
        "from sklearn.preprocessing import MinMaxScaler\n",
        "import warnings\n",
        "import logging\n",
        "from sklearn.model_selection import train_test_split\n",
        "from sklearn.preprocessing import RobustScaler\n",
        "\n",
        "tfk = tf.keras\n",
        "tfkl = tf.keras.layers\n",
        "print(tf.__version__)"
      ]
    },
    {
      "cell_type": "markdown",
      "metadata": {
        "id": "lQWEHP13tQsc"
      },
      "source": [
        "### Set seed for reproducibility"
      ]
    },
    {
      "cell_type": "code",
      "execution_count": 37,
      "metadata": {
        "id": "imBtfhUPLwB-"
      },
      "outputs": [],
      "source": [
        "# Random seed for reproducibility\n",
        "seed = 46\n",
        "\n",
        "random.seed(seed)\n",
        "os.environ['PYTHONHASHSEED'] = str(seed)\n",
        "np.random.seed(seed)\n",
        "tf.random.set_seed(seed)\n",
        "tf.compat.v1.set_random_seed(seed)"
      ]
    },
    {
      "cell_type": "markdown",
      "metadata": {
        "id": "XRK9IPIc-ZEz"
      },
      "source": [
        "### Exploration Data Analysis (EDA)\n",
        "#### Human Activity Recognition"
      ]
    },
    {
      "cell_type": "markdown",
      "metadata": {
        "id": "GMysAd_I-lED"
      },
      "source": [
        "Load and clean the dataset"
      ]
    },
    {
      "cell_type": "code",
      "execution_count": 6,
      "metadata": {
        "id": "EVplyAOEJkW6"
      },
      "outputs": [],
      "source": [
        "x_train= np.load(\"training_dataset_homework2/x_train.npy\")\n",
        "y_train= np.load(\"training_dataset_homework2/y_train.npy\")"
      ]
    },
    {
      "cell_type": "code",
      "execution_count": 7,
      "metadata": {
        "colab": {
          "base_uri": "https://localhost:8080/"
        },
        "id": "JKvOUPl4M1B_",
        "outputId": "4a986867-f2c3-442a-9517-8ea9a0577f75"
      },
      "outputs": [
        {
          "output_type": "execute_result",
          "data": {
            "text/plain": [
              "(2429, 36, 6)"
            ]
          },
          "metadata": {},
          "execution_count": 7
        }
      ],
      "source": [
        "x_train.shape"
      ]
    },
    {
      "cell_type": "code",
      "execution_count": 8,
      "metadata": {
        "colab": {
          "base_uri": "https://localhost:8080/"
        },
        "id": "VeEYuQYJM5eZ",
        "outputId": "adc89231-dba1-4ec1-ac98-caec99998aa0"
      },
      "outputs": [
        {
          "output_type": "execute_result",
          "data": {
            "text/plain": [
              "(2429,)"
            ]
          },
          "metadata": {},
          "execution_count": 8
        }
      ],
      "source": [
        "y_train.shape"
      ]
    },
    {
      "cell_type": "markdown",
      "metadata": {
        "id": "1LfzQzLbGGrd"
      },
      "source": [
        "### Preprocessing"
      ]
    },
    {
      "cell_type": "markdown",
      "metadata": {
        "id": "JcYYaYkh_BVY"
      },
      "source": [
        "Split, Encode and Normalize"
      ]
    },
    {
      "cell_type": "code",
      "execution_count": 9,
      "metadata": {
        "id": "Ec5AFCLqFvd0"
      },
      "outputs": [],
      "source": [
        "# Map activities to integers\n",
        "label_mapping = {\n",
        "     \"Wish\": 0,\n",
        "      \"Another\": 1,\n",
        "\"Comfortably\": 2,\n",
        "\"Money\": 3,\n",
        "\"Breathe\":4,\n",
        " \"Time\":5,\n",
        " \"Brain\":6,\n",
        " \"Echoes\":7,\n",
        "\"Wearing\":8,\n",
        "\"Sorrow\":9,\n",
        "\"Hey\":10,\n",
        " \"Shine\":11\n",
        "}\n"
      ]
    },
    {
      "cell_type": "code",
      "execution_count": 10,
      "metadata": {
        "colab": {
          "base_uri": "https://localhost:8080/"
        },
        "id": "hndLIEskvgm1",
        "outputId": "aad90ecb-a0a7-466d-9eb6-2eebce17feca"
      },
      "outputs": [
        {
          "output_type": "execute_result",
          "data": {
            "text/plain": [
              "25.295960919260704"
            ]
          },
          "metadata": {},
          "execution_count": 10
        }
      ],
      "source": [
        "x_mean = x_train.mean()\n",
        "x_mean"
      ]
    },
    {
      "cell_type": "code",
      "execution_count": 11,
      "metadata": {
        "colab": {
          "base_uri": "https://localhost:8080/"
        },
        "id": "_e2U4E4TwdoT",
        "outputId": "dd5b31b2-8670-4983-c181-2eb70f7f3324"
      },
      "outputs": [
        {
          "output_type": "execute_result",
          "data": {
            "text/plain": [
              "658.4301638513654"
            ]
          },
          "metadata": {},
          "execution_count": 11
        }
      ],
      "source": [
        "x_std = x_train.std()\n",
        "x_std"
      ]
    },
    {
      "cell_type": "code",
      "execution_count": 12,
      "metadata": {
        "id": "Hadleptrwtvq"
      },
      "outputs": [],
      "source": [
        "#x_train = (x_train - x_mean) / x_std"
      ]
    },
    {
      "cell_type": "code",
      "execution_count": 13,
      "metadata": {
        "colab": {
          "base_uri": "https://localhost:8080/"
        },
        "id": "Nl4AI36UxTEG",
        "outputId": "96efd5b4-aaea-4a32-d5ee-79309f5c4e89"
      },
      "outputs": [
        {
          "output_type": "execute_result",
          "data": {
            "text/plain": [
              "((2186, 36, 6), (2186,), (243, 36, 6), (243,))"
            ]
          },
          "metadata": {},
          "execution_count": 13
        }
      ],
      "source": [
        "x_train, x_test, y_train, y_test = train_test_split(x_train, y_train, random_state=seed, test_size=.1)\n",
        "x_train.shape, y_train.shape, x_test.shape, y_test.shape"
      ]
    },
    {
      "cell_type": "code",
      "execution_count": 14,
      "metadata": {
        "id": "4KVDcUb2sLod",
        "colab": {
          "base_uri": "https://localhost:8080/",
          "height": 53
        },
        "outputId": "ee2877d8-20b2-4d05-c2f1-85e9babe89ac"
      },
      "outputs": [
        {
          "output_type": "execute_result",
          "data": {
            "text/plain": [
              "'\\n# train\\nfor i in range(x_train.shape[0]):\\n  transformer = RobustScaler().fit(x_train[i])\\n  x_train[i] = transformer.transform(x_train[i])\\n\\n#test\\nfor i in range(x_test.shape[0]):\\n  transformer = RobustScaler().fit(x_test[i])\\n  x_test[i] = transformer.transform(x_test[i])\\n'"
            ],
            "application/vnd.google.colaboratory.intrinsic+json": {
              "type": "string"
            }
          },
          "metadata": {},
          "execution_count": 14
        }
      ],
      "source": [
        "'''\n",
        "# train\n",
        "for i in range(x_train.shape[0]):\n",
        "  transformer = RobustScaler().fit(x_train[i])\n",
        "  x_train[i] = transformer.transform(x_train[i])\n",
        "\n",
        "#test\n",
        "for i in range(x_test.shape[0]):\n",
        "  transformer = RobustScaler().fit(x_test[i])\n",
        "  x_test[i] = transformer.transform(x_test[i])\n",
        "'''"
      ]
    },
    {
      "cell_type": "code",
      "execution_count": 15,
      "metadata": {
        "colab": {
          "base_uri": "https://localhost:8080/"
        },
        "id": "tguCut77u6bL",
        "outputId": "f6cd29b4-a339-4c19-b0bc-f322e8950af6"
      },
      "outputs": [
        {
          "output_type": "execute_result",
          "data": {
            "text/plain": [
              "((2186, 36, 6), (2186, 12), (243, 12), (243, 12))"
            ]
          },
          "metadata": {},
          "execution_count": 15
        }
      ],
      "source": [
        "# Convert the sparse labels to categorical values\n",
        "y_train = tfk.utils.to_categorical(y_train)\n",
        "y_test = tfk.utils.to_categorical(y_test)\n",
        "x_train.shape, y_train.shape, y_test.shape, y_test.shape"
      ]
    },
    {
      "cell_type": "markdown",
      "metadata": {
        "id": "g_0wmrz3MGsd"
      },
      "source": [
        "### Build and train models"
      ]
    },
    {
      "cell_type": "code",
      "execution_count": 16,
      "metadata": {
        "id": "XkUqhy__KMnr"
      },
      "outputs": [],
      "source": [
        "input_shape = x_train.shape[1:]\n",
        "classes = y_train.shape[-1]\n",
        "batch_size = 512\n",
        "epochs = 200"
      ]
    },
    {
      "cell_type": "markdown",
      "metadata": {
        "id": "et_9CJzIBsRt"
      },
      "source": [
        "Damn, once again no free lunch"
      ]
    },
    {
      "cell_type": "markdown",
      "source": [
        "### MIX"
      ],
      "metadata": {
        "id": "nY9ORQzWHMXZ"
      }
    },
    {
      "cell_type": "code",
      "source": [
        "def build_mix_classifier(input_shape, classes):\n",
        "    # Build the neural network layer by layer\n",
        "    input_layer = tfkl.Input(shape=input_shape, name='Input')\n",
        "\n",
        "    #1D\n",
        "    cnn = tfkl.Conv1D(1024,3,padding='same')(input_layer)\n",
        "    cnn = tfkl.LeakyReLU(alpha=0.2)(cnn)\n",
        "    cnn = tfkl.MaxPooling1D()(cnn)\n",
        "    cnn = tfkl.Conv1D(256,3,padding='same')(cnn)\n",
        "    cnn = tfkl.LeakyReLU(alpha=0.2)(cnn)\n",
        "    cnn = tfkl.MaxPooling1D()(cnn)\n",
        "    #gap = tfkl.GlobalAveragePooling1D()(cnn)\n",
        "    #dropout = tfkl.Dropout(.5, seed=seed)(gap)\n",
        "\n",
        "    # Classifier\n",
        "    #classifier = tfkl.Dense(128, activation='relu')(dropout)\n",
        "\n",
        "    #LSTM\n",
        "    lstm = tfkl.Bidirectional(tfkl.LSTM(1024, return_sequences=True))(cnn)\n",
        "    #lstm = tfkl.LSTM(128, return_sequences=True)(cnn)\n",
        "    lstm = tfkl.Bidirectional(tfkl.LSTM(256))(lstm)\n",
        "    #dropout = tfkl.Dropout(.5, seed=seed)(lstm)\n",
        "\n",
        "    # Classifier\n",
        "    #classifier = tfkl.Dense(128, activation='relu')(dropout)\n",
        "\n",
        "    # Classifier\n",
        "    classifier = tfkl.Dense(1024)(lstm)\n",
        "    classifier = tfkl.LeakyReLU(alpha=0.2)(classifier)\n",
        "    classifier = tfkl.Dense(512)(classifier)\n",
        "    classifier = tfkl.LeakyReLU(alpha=0.2)(classifier)\n",
        "    classifier = tfkl.Dense(256)(classifier)\n",
        "    classifier = tfkl.LeakyReLU(alpha=0.2)(classifier)\n",
        "    dropout = tfkl.Dropout(.3, seed=seed)(classifier)\n",
        "\n",
        "    output_layer = tfkl.Dense(classes, activation='softmax')(dropout)\n",
        "\n",
        "    # Connect input and output through the Model class\n",
        "    model = tfk.Model(inputs=input_layer, outputs=output_layer, name='model')\n",
        "\n",
        "    # Compile the model\n",
        "    model.compile(loss=tfk.losses.CategoricalCrossentropy(), optimizer=tfk.optimizers.Adam(), metrics='accuracy')\n",
        "\n",
        "    # Return the model\n",
        "    return model"
      ],
      "metadata": {
        "id": "ZlkUpwJ4HPef"
      },
      "execution_count": 73,
      "outputs": []
    },
    {
      "cell_type": "code",
      "source": [
        "model = build_mix_classifier(input_shape, classes)\n",
        "model.summary()"
      ],
      "metadata": {
        "colab": {
          "base_uri": "https://localhost:8080/"
        },
        "id": "_fhMbxAEIk4S",
        "outputId": "b543c76a-39ee-4046-9f5b-608141a2ad3d"
      },
      "execution_count": 74,
      "outputs": [
        {
          "output_type": "stream",
          "name": "stdout",
          "text": [
            "Model: \"model\"\n",
            "_________________________________________________________________\n",
            " Layer (type)                Output Shape              Param #   \n",
            "=================================================================\n",
            " Input (InputLayer)          [(None, 36, 6)]           0         \n",
            "                                                                 \n",
            " conv1d_19 (Conv1D)          (None, 36, 1024)          19456     \n",
            "                                                                 \n",
            " p_re_lu_16 (PReLU)          (None, 36, 1024)          36864     \n",
            "                                                                 \n",
            " max_pooling1d_18 (MaxPoolin  (None, 18, 1024)         0         \n",
            " g1D)                                                            \n",
            "                                                                 \n",
            " conv1d_20 (Conv1D)          (None, 18, 512)           1573376   \n",
            "                                                                 \n",
            " p_re_lu_17 (PReLU)          (None, 18, 512)           9216      \n",
            "                                                                 \n",
            " max_pooling1d_19 (MaxPoolin  (None, 9, 512)           0         \n",
            " g1D)                                                            \n",
            "                                                                 \n",
            " bidirectional_18 (Bidirecti  (None, 9, 2048)          12591104  \n",
            " onal)                                                           \n",
            "                                                                 \n",
            " bidirectional_19 (Bidirecti  (None, 1024)             10489856  \n",
            " onal)                                                           \n",
            "                                                                 \n",
            " dense_34 (Dense)            (None, 1024)              1049600   \n",
            "                                                                 \n",
            " p_re_lu_18 (PReLU)          (None, 1024)              1024      \n",
            "                                                                 \n",
            " dense_35 (Dense)            (None, 512)               524800    \n",
            "                                                                 \n",
            " p_re_lu_19 (PReLU)          (None, 512)               512       \n",
            "                                                                 \n",
            " dense_36 (Dense)            (None, 256)               131328    \n",
            "                                                                 \n",
            " p_re_lu_20 (PReLU)          (None, 256)               256       \n",
            "                                                                 \n",
            " dropout_8 (Dropout)         (None, 256)               0         \n",
            "                                                                 \n",
            " dense_37 (Dense)            (None, 12)                3084      \n",
            "                                                                 \n",
            "=================================================================\n",
            "Total params: 26,430,476\n",
            "Trainable params: 26,430,476\n",
            "Non-trainable params: 0\n",
            "_________________________________________________________________\n"
          ]
        }
      ]
    },
    {
      "cell_type": "code",
      "source": [
        "# Train the model\n",
        "history = model.fit(\n",
        "    x = x_train,\n",
        "    y = y_train,\n",
        "    batch_size = batch_size,\n",
        "    epochs = epochs,\n",
        "    validation_split=.1,\n",
        "    callbacks = [\n",
        "        tfk.callbacks.EarlyStopping(monitor='val_accuracy', mode='max', patience=10, restore_best_weights=True),\n",
        "        tfk.callbacks.ReduceLROnPlateau(monitor='val_accuracy', mode='max', patience=5, factor=0.5, min_lr=1e-5)\n",
        "    ]\n",
        ").history"
      ],
      "metadata": {
        "colab": {
          "base_uri": "https://localhost:8080/"
        },
        "id": "lUBQqMM_Ip03",
        "outputId": "ff53b800-83a8-478f-f2d9-a42fa53cfdec"
      },
      "execution_count": 75,
      "outputs": [
        {
          "output_type": "stream",
          "name": "stdout",
          "text": [
            "Epoch 1/200\n",
            "4/4 [==============================] - 8s 698ms/step - loss: 2.4433 - accuracy: 0.1998 - val_loss: 2.0964 - val_accuracy: 0.3014 - lr: 0.0010\n",
            "Epoch 2/200\n",
            "4/4 [==============================] - 1s 262ms/step - loss: 2.0987 - accuracy: 0.3127 - val_loss: 2.0458 - val_accuracy: 0.3333 - lr: 0.0010\n",
            "Epoch 3/200\n",
            "4/4 [==============================] - 1s 260ms/step - loss: 1.9303 - accuracy: 0.3808 - val_loss: 1.8782 - val_accuracy: 0.3607 - lr: 0.0010\n",
            "Epoch 4/200\n",
            "4/4 [==============================] - 1s 240ms/step - loss: 1.8154 - accuracy: 0.4042 - val_loss: 1.8686 - val_accuracy: 0.3562 - lr: 0.0010\n",
            "Epoch 5/200\n",
            "4/4 [==============================] - 1s 266ms/step - loss: 1.7494 - accuracy: 0.4174 - val_loss: 1.8262 - val_accuracy: 0.3653 - lr: 0.0010\n",
            "Epoch 6/200\n",
            "4/4 [==============================] - 1s 272ms/step - loss: 1.6872 - accuracy: 0.4347 - val_loss: 1.7114 - val_accuracy: 0.3973 - lr: 0.0010\n",
            "Epoch 7/200\n",
            "4/4 [==============================] - 1s 238ms/step - loss: 1.6371 - accuracy: 0.4514 - val_loss: 1.6585 - val_accuracy: 0.3973 - lr: 0.0010\n",
            "Epoch 8/200\n",
            "4/4 [==============================] - 1s 266ms/step - loss: 1.5722 - accuracy: 0.4682 - val_loss: 1.5471 - val_accuracy: 0.4292 - lr: 0.0010\n",
            "Epoch 9/200\n",
            "4/4 [==============================] - 1s 268ms/step - loss: 1.5370 - accuracy: 0.4637 - val_loss: 1.4979 - val_accuracy: 0.4475 - lr: 0.0010\n",
            "Epoch 10/200\n",
            "4/4 [==============================] - 1s 265ms/step - loss: 1.4498 - accuracy: 0.5018 - val_loss: 1.4791 - val_accuracy: 0.4612 - lr: 0.0010\n",
            "Epoch 11/200\n",
            "4/4 [==============================] - 1s 242ms/step - loss: 1.3925 - accuracy: 0.5348 - val_loss: 1.4576 - val_accuracy: 0.4612 - lr: 0.0010\n",
            "Epoch 12/200\n",
            "4/4 [==============================] - 1s 268ms/step - loss: 1.3518 - accuracy: 0.5308 - val_loss: 1.3771 - val_accuracy: 0.4886 - lr: 0.0010\n",
            "Epoch 13/200\n",
            "4/4 [==============================] - 1s 244ms/step - loss: 1.2955 - accuracy: 0.5394 - val_loss: 1.4175 - val_accuracy: 0.4612 - lr: 0.0010\n",
            "Epoch 14/200\n",
            "4/4 [==============================] - 1s 268ms/step - loss: 1.2826 - accuracy: 0.5623 - val_loss: 1.3320 - val_accuracy: 0.5114 - lr: 0.0010\n",
            "Epoch 15/200\n",
            "4/4 [==============================] - 1s 246ms/step - loss: 1.2636 - accuracy: 0.5674 - val_loss: 1.3754 - val_accuracy: 0.4886 - lr: 0.0010\n",
            "Epoch 16/200\n",
            "4/4 [==============================] - 1s 268ms/step - loss: 1.2371 - accuracy: 0.5653 - val_loss: 1.3063 - val_accuracy: 0.5297 - lr: 0.0010\n",
            "Epoch 17/200\n",
            "4/4 [==============================] - 1s 244ms/step - loss: 1.2222 - accuracy: 0.5714 - val_loss: 1.3442 - val_accuracy: 0.5023 - lr: 0.0010\n",
            "Epoch 18/200\n",
            "4/4 [==============================] - 1s 255ms/step - loss: 1.2077 - accuracy: 0.5831 - val_loss: 1.2964 - val_accuracy: 0.5251 - lr: 0.0010\n",
            "Epoch 19/200\n",
            "4/4 [==============================] - 1s 248ms/step - loss: 1.2130 - accuracy: 0.5735 - val_loss: 1.4168 - val_accuracy: 0.4795 - lr: 0.0010\n",
            "Epoch 20/200\n",
            "4/4 [==============================] - 1s 247ms/step - loss: 1.1916 - accuracy: 0.5877 - val_loss: 1.3148 - val_accuracy: 0.5205 - lr: 0.0010\n",
            "Epoch 21/200\n",
            "4/4 [==============================] - 1s 247ms/step - loss: 1.1416 - accuracy: 0.6075 - val_loss: 1.3350 - val_accuracy: 0.5251 - lr: 0.0010\n",
            "Epoch 22/200\n",
            "4/4 [==============================] - 1s 271ms/step - loss: 1.1129 - accuracy: 0.6172 - val_loss: 1.2559 - val_accuracy: 0.5571 - lr: 5.0000e-04\n",
            "Epoch 23/200\n",
            "4/4 [==============================] - 1s 246ms/step - loss: 1.0802 - accuracy: 0.6355 - val_loss: 1.2606 - val_accuracy: 0.5388 - lr: 5.0000e-04\n",
            "Epoch 24/200\n",
            "4/4 [==============================] - 1s 270ms/step - loss: 1.0577 - accuracy: 0.6401 - val_loss: 1.2358 - val_accuracy: 0.5845 - lr: 5.0000e-04\n",
            "Epoch 25/200\n",
            "4/4 [==============================] - 1s 246ms/step - loss: 1.0476 - accuracy: 0.6396 - val_loss: 1.2994 - val_accuracy: 0.5388 - lr: 5.0000e-04\n",
            "Epoch 26/200\n",
            "4/4 [==============================] - 1s 272ms/step - loss: 1.0421 - accuracy: 0.6396 - val_loss: 1.1994 - val_accuracy: 0.5982 - lr: 5.0000e-04\n",
            "Epoch 27/200\n",
            "4/4 [==============================] - 1s 245ms/step - loss: 0.9915 - accuracy: 0.6614 - val_loss: 1.1943 - val_accuracy: 0.5890 - lr: 5.0000e-04\n",
            "Epoch 28/200\n",
            "4/4 [==============================] - 1s 247ms/step - loss: 0.9721 - accuracy: 0.6706 - val_loss: 1.1882 - val_accuracy: 0.5890 - lr: 5.0000e-04\n",
            "Epoch 29/200\n",
            "4/4 [==============================] - 1s 249ms/step - loss: 0.9350 - accuracy: 0.6853 - val_loss: 1.1948 - val_accuracy: 0.5799 - lr: 5.0000e-04\n",
            "Epoch 30/200\n",
            "4/4 [==============================] - 1s 271ms/step - loss: 0.9015 - accuracy: 0.6929 - val_loss: 1.1858 - val_accuracy: 0.6073 - lr: 5.0000e-04\n",
            "Epoch 31/200\n",
            "4/4 [==============================] - 1s 249ms/step - loss: 0.8970 - accuracy: 0.6909 - val_loss: 1.1963 - val_accuracy: 0.5936 - lr: 5.0000e-04\n",
            "Epoch 32/200\n",
            "4/4 [==============================] - 1s 250ms/step - loss: 0.8812 - accuracy: 0.7011 - val_loss: 1.1872 - val_accuracy: 0.5845 - lr: 5.0000e-04\n",
            "Epoch 33/200\n",
            "4/4 [==============================] - 1s 249ms/step - loss: 0.8560 - accuracy: 0.7046 - val_loss: 1.2817 - val_accuracy: 0.5708 - lr: 5.0000e-04\n",
            "Epoch 34/200\n",
            "4/4 [==============================] - 1s 251ms/step - loss: 0.9364 - accuracy: 0.6614 - val_loss: 1.5232 - val_accuracy: 0.5342 - lr: 5.0000e-04\n",
            "Epoch 35/200\n",
            "4/4 [==============================] - 1s 252ms/step - loss: 1.0189 - accuracy: 0.6396 - val_loss: 1.2205 - val_accuracy: 0.5571 - lr: 5.0000e-04\n",
            "Epoch 36/200\n",
            "4/4 [==============================] - 1s 252ms/step - loss: 0.9398 - accuracy: 0.6741 - val_loss: 1.2185 - val_accuracy: 0.5799 - lr: 2.5000e-04\n",
            "Epoch 37/200\n",
            "4/4 [==============================] - 1s 249ms/step - loss: 0.8870 - accuracy: 0.7056 - val_loss: 1.1624 - val_accuracy: 0.5890 - lr: 2.5000e-04\n",
            "Epoch 38/200\n",
            "4/4 [==============================] - 1s 252ms/step - loss: 0.8517 - accuracy: 0.7001 - val_loss: 1.2233 - val_accuracy: 0.5982 - lr: 2.5000e-04\n",
            "Epoch 39/200\n",
            "4/4 [==============================] - 1s 258ms/step - loss: 0.8179 - accuracy: 0.7148 - val_loss: 1.1796 - val_accuracy: 0.5936 - lr: 2.5000e-04\n",
            "Epoch 40/200\n",
            "4/4 [==============================] - 1s 277ms/step - loss: 0.8023 - accuracy: 0.7285 - val_loss: 1.1650 - val_accuracy: 0.6119 - lr: 2.5000e-04\n",
            "Epoch 41/200\n",
            "4/4 [==============================] - 1s 259ms/step - loss: 0.7774 - accuracy: 0.7331 - val_loss: 1.1430 - val_accuracy: 0.5982 - lr: 2.5000e-04\n",
            "Epoch 42/200\n",
            "4/4 [==============================] - 1s 285ms/step - loss: 0.7628 - accuracy: 0.7458 - val_loss: 1.1879 - val_accuracy: 0.6210 - lr: 2.5000e-04\n",
            "Epoch 43/200\n",
            "4/4 [==============================] - 1s 277ms/step - loss: 0.7494 - accuracy: 0.7392 - val_loss: 1.1621 - val_accuracy: 0.6393 - lr: 2.5000e-04\n",
            "Epoch 44/200\n",
            "4/4 [==============================] - 1s 253ms/step - loss: 0.7303 - accuracy: 0.7605 - val_loss: 1.1991 - val_accuracy: 0.6119 - lr: 2.5000e-04\n",
            "Epoch 45/200\n",
            "4/4 [==============================] - 1s 256ms/step - loss: 0.7130 - accuracy: 0.7473 - val_loss: 1.2121 - val_accuracy: 0.6210 - lr: 2.5000e-04\n",
            "Epoch 46/200\n",
            "4/4 [==============================] - 1s 254ms/step - loss: 0.7028 - accuracy: 0.7692 - val_loss: 1.1827 - val_accuracy: 0.6164 - lr: 2.5000e-04\n",
            "Epoch 47/200\n",
            "4/4 [==============================] - 1s 256ms/step - loss: 0.6864 - accuracy: 0.7682 - val_loss: 1.1355 - val_accuracy: 0.6256 - lr: 2.5000e-04\n",
            "Epoch 48/200\n",
            "4/4 [==============================] - 1s 256ms/step - loss: 0.6519 - accuracy: 0.7794 - val_loss: 1.2008 - val_accuracy: 0.6027 - lr: 2.5000e-04\n",
            "Epoch 49/200\n",
            "4/4 [==============================] - 1s 255ms/step - loss: 0.6217 - accuracy: 0.7941 - val_loss: 1.1884 - val_accuracy: 0.6164 - lr: 1.2500e-04\n",
            "Epoch 50/200\n",
            "4/4 [==============================] - 1s 255ms/step - loss: 0.6047 - accuracy: 0.7966 - val_loss: 1.1888 - val_accuracy: 0.6164 - lr: 1.2500e-04\n",
            "Epoch 51/200\n",
            "4/4 [==============================] - 1s 255ms/step - loss: 0.6040 - accuracy: 0.8017 - val_loss: 1.2039 - val_accuracy: 0.6347 - lr: 1.2500e-04\n",
            "Epoch 52/200\n",
            "4/4 [==============================] - 1s 256ms/step - loss: 0.5824 - accuracy: 0.8160 - val_loss: 1.1829 - val_accuracy: 0.6256 - lr: 1.2500e-04\n",
            "Epoch 53/200\n",
            "4/4 [==============================] - 1s 268ms/step - loss: 0.5649 - accuracy: 0.8099 - val_loss: 1.2091 - val_accuracy: 0.6393 - lr: 1.2500e-04\n"
          ]
        }
      ]
    },
    {
      "cell_type": "code",
      "source": [
        "best_epoch = np.argmax(history['val_accuracy'])\n",
        "plt.figure(figsize=(17,4))\n",
        "plt.plot(history['loss'], label='Training loss', alpha=.8, color='#ff7f0e')\n",
        "plt.plot(history['val_loss'], label='Validation loss', alpha=.9, color='#5a9aa5')\n",
        "plt.axvline(x=best_epoch, label='Best epoch', alpha=.3, ls='--', color='#5a9aa5')\n",
        "plt.title('Categorical Crossentropy')\n",
        "plt.legend()\n",
        "plt.grid(alpha=.3)\n",
        "plt.show()\n",
        "\n",
        "plt.figure(figsize=(17,4))\n",
        "plt.plot(history['accuracy'], label='Training accuracy', alpha=.8, color='#ff7f0e')\n",
        "plt.plot(history['val_accuracy'], label='Validation accuracy', alpha=.9, color='#5a9aa5')\n",
        "plt.axvline(x=best_epoch, label='Best epoch', alpha=.3, ls='--', color='#5a9aa5')\n",
        "plt.title('Accuracy')\n",
        "plt.legend()\n",
        "plt.grid(alpha=.3)\n",
        "plt.show()\n",
        "\n",
        "plt.figure(figsize=(18,3))\n",
        "plt.plot(history['lr'], label='Learning Rate', alpha=.8, color='#ff7f0e')\n",
        "plt.axvline(x=best_epoch, label='Best epoch', alpha=.3, ls='--', color='#5a9aa5')\n",
        "plt.legend()\n",
        "plt.grid(alpha=.3)\n",
        "plt.show()"
      ],
      "metadata": {
        "id": "3Os2bcPRJiVt",
        "colab": {
          "base_uri": "https://localhost:8080/",
          "height": 764
        },
        "outputId": "077ca123-e30d-4e55-a3cb-5a55d72bfa11"
      },
      "execution_count": 76,
      "outputs": [
        {
          "output_type": "display_data",
          "data": {
            "text/plain": [
              "<Figure size 1224x288 with 1 Axes>"
            ],
            "image/png": "[encoded data removed]"
          },
          "metadata": {
            "needs_background": "light"
          }
        },
        {
          "output_type": "display_data",
          "data": {
            "text/plain": [
              "<Figure size 1224x288 with 1 Axes>"
            ],
            "image/png": "[encoded data removed]"
          },
          "metadata": {
            "needs_background": "light"
          }
        },
        {
          "output_type": "display_data",
          "data": {
            "text/plain": [
              "<Figure size 1296x216 with 1 Axes>"
            ],
            "image/png": "[encoded data removed]"
          },
          "metadata": {
            "needs_background": "light"
          }
        }
      ]
    },
    {
      "cell_type": "code",
      "source": [
        "# Predict the test set with the 1DCNN\n",
        "predictions = model.predict(x_test)\n",
        "predictions.shape"
      ],
      "metadata": {
        "colab": {
          "base_uri": "https://localhost:8080/"
        },
        "id": "pWQc4DUTJoet",
        "outputId": "1b36e1d6-c2e2-4396-fa1c-6663924f158e"
      },
      "execution_count": 77,
      "outputs": [
        {
          "output_type": "stream",
          "name": "stdout",
          "text": [
            "8/8 [==============================] - 1s 15ms/step\n"
          ]
        },
        {
          "output_type": "execute_result",
          "data": {
            "text/plain": [
              "(243, 12)"
            ]
          },
          "metadata": {},
          "execution_count": 77
        }
      ]
    },
    {
      "cell_type": "code",
      "source": [
        "# Compute the confusion matrix\n",
        "cm = confusion_matrix(np.argmax(y_test, axis=-1), np.argmax(predictions, axis=-1))\n",
        "\n",
        "# Compute the classification metrics\n",
        "accuracy = accuracy_score(np.argmax(y_test, axis=-1), np.argmax(predictions, axis=-1))\n",
        "precision = precision_score(np.argmax(y_test, axis=-1), np.argmax(predictions, axis=-1), average='macro')\n",
        "recall = recall_score(np.argmax(y_test, axis=-1), np.argmax(predictions, axis=-1), average='macro')\n",
        "f1 = f1_score(np.argmax(y_test, axis=-1), np.argmax(predictions, axis=-1), average='macro')\n",
        "print('Accuracy:',accuracy.round(4))\n",
        "print('Precision:',precision.round(4))\n",
        "print('Recall:',recall.round(4))\n",
        "print('F1:',f1.round(4))\n",
        "\n",
        "# Plot the confusion matrix\n",
        "plt.figure(figsize=(10,8))\n",
        "sns.heatmap(cm.T, cmap='Blues', xticklabels=list(label_mapping.keys()), yticklabels=list(label_mapping.keys()))\n",
        "plt.xlabel('True labels')\n",
        "plt.ylabel('Predicted labels')\n",
        "plt.show()"
      ],
      "metadata": {
        "colab": {
          "base_uri": "https://localhost:8080/",
          "height": 715
        },
        "id": "nVtOtMPXJuD-",
        "outputId": "76ced29a-a387-4bff-ae65-adefa9816b47"
      },
      "execution_count": 78,
      "outputs": [
        {
          "output_type": "stream",
          "name": "stdout",
          "text": [
            "Accuracy: 0.7202\n",
            "Precision: 0.5255\n",
            "Recall: 0.5551\n",
            "F1: 0.5336\n"
          ]
        },
        {
          "output_type": "stream",
          "name": "stderr",
          "text": [
            "/usr/local/lib/python3.8/dist-packages/sklearn/metrics/_classification.py:1318: UndefinedMetricWarning: Precision is ill-defined and being set to 0.0 in labels with no predicted samples. Use `zero_division` parameter to control this behavior.\n",
            "  _warn_prf(average, modifier, msg_start, len(result))\n"
          ]
        },
        {
          "output_type": "display_data",
          "data": {
            "text/plain": [
              "<Figure size 720x576 with 2 Axes>"
            ],
            "image/png": "[encoded data removed]"
          },
          "metadata": {
            "needs_background": "light"
          }
        }
      ]
    },
    {
      "cell_type": "code",
      "source": [
        "model.save('MIX_2')\n",
        "# model = tfk.models.load_model('1DCNN')"
      ],
      "metadata": {
        "colab": {
          "base_uri": "https://localhost:8080/"
        },
        "id": "WiwwGI4zKLJk",
        "outputId": "b4dfbef9-2eb0-485c-b841-12fdb7e53e76"
      },
      "execution_count": 79,
      "outputs": [
        {
          "output_type": "stream",
          "name": "stderr",
          "text": [
            "WARNING:absl:Function `_wrapped_model` contains input name(s) Input with unsupported characters which will be renamed to input in the SavedModel.\n",
            "WARNING:absl:Found untraced functions such as _jit_compiled_convolution_op, _jit_compiled_convolution_op, lstm_cell_55_layer_call_fn, lstm_cell_55_layer_call_and_return_conditional_losses, lstm_cell_56_layer_call_fn while saving (showing 5 of 10). These functions will not be directly callable after loading.\n"
          ]
        }
      ]
    }
  ],
  "metadata": {
    "colab": {
      "collapsed_sections": [
        "bAP1pRLKN_v9",
        "t5VrQa_OMu74",
        "FqTU7SDgjWgV"
      ],
      "provenance": []
    },
    "kernelspec": {
      "display_name": "Python 3",
      "name": "python3"
    },
    "language_info": {
      "name": "python"
    },
    "accelerator": "GPU",
    "gpuClass": "standard"
  },
  "nbformat": 4,
  "nbformat_minor": 0
}