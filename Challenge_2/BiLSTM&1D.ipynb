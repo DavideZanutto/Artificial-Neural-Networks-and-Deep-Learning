{
 "cells": [
  {
   "cell_type": "markdown",
   "metadata": {
    "id": "1FdqcMXk96rS"
   },
   "source": [
    "### Connect to Drive"
   ]
  },
  {
   "cell_type": "code",
   "execution_count": 1,
   "metadata": {
    "colab": {
     "base_uri": "https://localhost:8080/"
    },
    "executionInfo": {
     "elapsed": 49274,
     "status": "ok",
     "timestamp": 1671272099427,
     "user": {
      "displayName": "Nicola Cecere",
      "userId": "00597015809844887639"
     },
     "user_tz": -60
    },
    "id": "PxUZy3U-fjcm",
    "outputId": "0c7bbd04-3c2d-4d0d-8934-d1b3351794a9"
   },
   "outputs": [
    {
     "output_type": "stream",
     "name": "stdout",
     "text": [
      "Mounted at /gdrive\n"
     ]
    }
   ],
   "source": [
    "from google.colab import drive\n",
    "drive.mount('/gdrive')"
   ]
  },
  {
   "cell_type": "code",
   "execution_count": 2,
   "metadata": {
    "colab": {
     "base_uri": "https://localhost:8080/"
    },
    "executionInfo": {
     "elapsed": 8,
     "status": "ok",
     "timestamp": 1671272099428,
     "user": {
      "displayName": "Nicola Cecere",
      "userId": "00597015809844887639"
     },
     "user_tz": -60
    },
    "id": "C_cUOiS9flQ8",
    "outputId": "90d88fd2-32d1-40d7-db06-e74ad567b08a"
   },
   "outputs": [
    {
     "output_type": "stream",
     "name": "stdout",
     "text": [
      "/gdrive/My Drive/Colab Notebooks/ANNDl2Homework\n"
     ]
    }
   ],
   "source": [
    "%cd /gdrive/My Drive/Colab Notebooks/ANNDl2Homework/"
   ]
  },
  {
   "cell_type": "code",
   "execution_count": null,
   "metadata": {
    "colab": {
     "base_uri": "https://localhost:8080/"
    },
    "executionInfo": {
     "elapsed": 521,
     "status": "ok",
     "timestamp": 1671196565016,
     "user": {
      "displayName": "Francesco Mattioli",
      "userId": "04484224637759618080"
     },
     "user_tz": -60
    },
    "id": "6GqH3h8XJA1M",
    "outputId": "689cef19-99f6-4670-9a3b-56bbc2262269"
   },
   "outputs": [
    {
     "output_type": "stream",
     "name": "stdout",
     "text": [
      " 1DNN.ipynb                                     LSTM.ipynb\n",
      " BiLSTM.ipynb                                   \u001B[0m\u001B[01;34mtraining_dataset_homework2\u001B[0m/\n",
      "'Copia di 7) Timeseries Classification.ipynb'\n"
     ]
    }
   ],
   "source": [
    "ls"
   ]
  },
  {
   "cell_type": "markdown",
   "metadata": {
    "id": "zfehjCy896Fd"
   },
   "source": [
    "### Import libraries"
   ]
  },
  {
   "cell_type": "code",
   "execution_count": 21,
   "metadata": {
    "colab": {
     "base_uri": "https://localhost:8080/"
    },
    "executionInfo": {
     "elapsed": 286,
     "status": "ok",
     "timestamp": 1671272274436,
     "user": {
      "displayName": "Nicola Cecere",
      "userId": "00597015809844887639"
     },
     "user_tz": -60
    },
    "id": "Z_wVYNVVfr6q",
    "outputId": "973ffac3-ad08-42eb-8fa1-a8ed7e72563c"
   },
   "outputs": [
    {
     "output_type": "stream",
     "name": "stdout",
     "text": [
      "2.9.2\n"
     ]
    }
   ],
   "source": [
    "import tensorflow as tf\n",
    "import numpy as np\n",
    "import os\n",
    "import random\n",
    "import pandas as pd\n",
    "import seaborn as sns\n",
    "import matplotlib.pyplot as plt\n",
    "plt.rc('font', size=16) \n",
    "from sklearn.metrics import accuracy_score, f1_score, precision_score, recall_score\n",
    "from sklearn.metrics import confusion_matrix\n",
    "from sklearn.preprocessing import MinMaxScaler\n",
    "import warnings\n",
    "import logging\n",
    "from sklearn.model_selection import train_test_split\n",
    "from sklearn.preprocessing import RobustScaler\n",
    "\n",
    "tfk = tf.keras\n",
    "tfkl = tf.keras.layers\n",
    "print(tf.__version__)"
   ]
  },
  {
   "cell_type": "markdown",
   "metadata": {
    "id": "lQWEHP13tQsc"
   },
   "source": [
    "### Set seed for reproducibility"
   ]
  },
  {
   "cell_type": "code",
   "execution_count": 22,
   "metadata": {
    "executionInfo": {
     "elapsed": 3,
     "status": "ok",
     "timestamp": 1671272275787,
     "user": {
      "displayName": "Nicola Cecere",
      "userId": "00597015809844887639"
     },
     "user_tz": -60
    },
    "id": "imBtfhUPLwB-"
   },
   "outputs": [],
   "source": [
    "# Random seed for reproducibility\n",
    "seed = 42\n",
    "\n",
    "random.seed(seed)\n",
    "os.environ['PYTHONHASHSEED'] = str(seed)\n",
    "np.random.seed(seed)\n",
    "tf.random.set_seed(seed)\n",
    "tf.compat.v1.set_random_seed(seed)"
   ]
  },
  {
   "cell_type": "markdown",
   "metadata": {
    "id": "XRK9IPIc-ZEz"
   },
   "source": [
    "### Exploration Data Analysis (EDA)\n",
    "#### Human Activity Recognition"
   ]
  },
  {
   "cell_type": "markdown",
   "metadata": {
    "id": "GMysAd_I-lED"
   },
   "source": [
    "Load and clean the dataset"
   ]
  },
  {
   "cell_type": "code",
   "execution_count": 23,
   "metadata": {
    "executionInfo": {
     "elapsed": 354,
     "status": "ok",
     "timestamp": 1671272284484,
     "user": {
      "displayName": "Nicola Cecere",
      "userId": "00597015809844887639"
     },
     "user_tz": -60
    },
    "id": "EVplyAOEJkW6"
   },
   "outputs": [],
   "source": [
    "x_train= np.load(\"training_dataset_homework2/x_train.npy\")\n",
    "y_train= np.load(\"training_dataset_homework2/y_train.npy\")"
   ]
  },
  {
   "cell_type": "code",
   "execution_count": 24,
   "metadata": {
    "colab": {
     "base_uri": "https://localhost:8080/"
    },
    "executionInfo": {
     "elapsed": 3,
     "status": "ok",
     "timestamp": 1671272284818,
     "user": {
      "displayName": "Nicola Cecere",
      "userId": "00597015809844887639"
     },
     "user_tz": -60
    },
    "id": "JKvOUPl4M1B_",
    "outputId": "f1e87af3-eb46-4849-8ab1-c29f43eef4fe"
   },
   "outputs": [
    {
     "output_type": "execute_result",
     "data": {
      "text/plain": [
       "(2429, 36, 6)"
      ]
     },
     "metadata": {},
     "execution_count": 24
    }
   ],
   "source": [
    "x_train.shape"
   ]
  },
  {
   "cell_type": "code",
   "execution_count": 25,
   "metadata": {
    "colab": {
     "base_uri": "https://localhost:8080/"
    },
    "executionInfo": {
     "elapsed": 3,
     "status": "ok",
     "timestamp": 1671272284819,
     "user": {
      "displayName": "Nicola Cecere",
      "userId": "00597015809844887639"
     },
     "user_tz": -60
    },
    "id": "VeEYuQYJM5eZ",
    "outputId": "f2db169d-6260-442a-d586-b47fd3053fb5"
   },
   "outputs": [
    {
     "output_type": "execute_result",
     "data": {
      "text/plain": [
       "(2429,)"
      ]
     },
     "metadata": {},
     "execution_count": 25
    }
   ],
   "source": [
    "y_train.shape"
   ]
  },
  {
   "cell_type": "markdown",
   "metadata": {
    "id": "1LfzQzLbGGrd"
   },
   "source": [
    "### Preprocessing"
   ]
  },
  {
   "cell_type": "markdown",
   "metadata": {
    "id": "JcYYaYkh_BVY"
   },
   "source": [
    "Split, Encode and Normalize"
   ]
  },
  {
   "cell_type": "code",
   "execution_count": 26,
   "metadata": {
    "executionInfo": {
     "elapsed": 9,
     "status": "ok",
     "timestamp": 1671272286725,
     "user": {
      "displayName": "Nicola Cecere",
      "userId": "00597015809844887639"
     },
     "user_tz": -60
    },
    "id": "Ec5AFCLqFvd0"
   },
   "outputs": [],
   "source": [
    "# Map activities to integers\n",
    "label_mapping = {\n",
    "     \"Wish\": 0,\n",
    "      \"Another\": 1,\n",
    "\"Comfortably\": 2,\n",
    "\"Money\": 3,\n",
    "\"Breathe\":4,\n",
    " \"Time\":5,\n",
    " \"Brain\":6,\n",
    " \"Echoes\":7,\n",
    "\"Wearing\":8,\n",
    "\"Sorrow\":9,\n",
    "\"Hey\":10,\n",
    " \"Shine\":11\n",
    "}\n"
   ]
  },
  {
   "cell_type": "code",
   "execution_count": 27,
   "metadata": {
    "colab": {
     "base_uri": "https://localhost:8080/"
    },
    "executionInfo": {
     "elapsed": 9,
     "status": "ok",
     "timestamp": 1671272286726,
     "user": {
      "displayName": "Nicola Cecere",
      "userId": "00597015809844887639"
     },
     "user_tz": -60
    },
    "id": "hndLIEskvgm1",
    "outputId": "9560b1ef-9411-4b8b-bb36-97fec5b5c86e"
   },
   "outputs": [
    {
     "output_type": "execute_result",
     "data": {
      "text/plain": [
       "25.295960919260704"
      ]
     },
     "metadata": {},
     "execution_count": 27
    }
   ],
   "source": [
    "x_mean = x_train.mean()\n",
    "x_mean"
   ]
  },
  {
   "cell_type": "code",
   "execution_count": 28,
   "metadata": {
    "colab": {
     "base_uri": "https://localhost:8080/"
    },
    "executionInfo": {
     "elapsed": 9,
     "status": "ok",
     "timestamp": 1671272286727,
     "user": {
      "displayName": "Nicola Cecere",
      "userId": "00597015809844887639"
     },
     "user_tz": -60
    },
    "id": "_e2U4E4TwdoT",
    "outputId": "db5675c3-34f0-4cf5-8534-60afd48e8b44"
   },
   "outputs": [
    {
     "output_type": "execute_result",
     "data": {
      "text/plain": [
       "658.4301638513654"
      ]
     },
     "metadata": {},
     "execution_count": 28
    }
   ],
   "source": [
    "x_std = x_train.std()\n",
    "x_std"
   ]
  },
  {
   "cell_type": "code",
   "execution_count": 29,
   "metadata": {
    "id": "Hadleptrwtvq",
    "executionInfo": {
     "status": "ok",
     "timestamp": 1671272286727,
     "user_tz": -60,
     "elapsed": 8,
     "user": {
      "displayName": "Nicola Cecere",
      "userId": "00597015809844887639"
     }
    }
   },
   "outputs": [],
   "source": [
    "# na merda\n",
    "#x_train = (x_train - x_mean) / x_std"
   ]
  },
  {
   "cell_type": "code",
   "execution_count": 30,
   "metadata": {
    "colab": {
     "base_uri": "https://localhost:8080/"
    },
    "executionInfo": {
     "elapsed": 7,
     "status": "ok",
     "timestamp": 1671272286727,
     "user": {
      "displayName": "Nicola Cecere",
      "userId": "00597015809844887639"
     },
     "user_tz": -60
    },
    "id": "Nl4AI36UxTEG",
    "outputId": "78d25412-a48b-4be2-ab53-0893eb91aebf"
   },
   "outputs": [
    {
     "output_type": "execute_result",
     "data": {
      "text/plain": [
       "((2186, 36, 6), (2186,), (243, 36, 6), (243,))"
      ]
     },
     "metadata": {},
     "execution_count": 30
    }
   ],
   "source": [
    "x_train, x_test, y_train, y_test = train_test_split(x_train, y_train, random_state=seed, test_size=.1)\n",
    "x_train.shape, y_train.shape, x_test.shape, y_test.shape"
   ]
  },
  {
   "cell_type": "code",
   "execution_count": 31,
   "metadata": {
    "executionInfo": {
     "elapsed": 8,
     "status": "ok",
     "timestamp": 1671272286728,
     "user": {
      "displayName": "Nicola Cecere",
      "userId": "00597015809844887639"
     },
     "user_tz": -60
    },
    "id": "4KVDcUb2sLod",
    "colab": {
     "base_uri": "https://localhost:8080/",
     "height": 1000
    },
    "outputId": "313de10c-bacc-4097-89b2-304098e0ea74"
   },
   "outputs": [
    {
     "output_type": "execute_result",
     "data": {
      "text/plain": [
       "'\\n# train\\nfor i in range(x_train.shape[0]):\\n  transformer = RobustScaler().fit(x_train[i])\\n  x_train[i] = transformer.transform(x_train[i])\\n\\n#test\\nfor i in range(x_test.shape[0]):\\n  transformer = RobustScaler().fit(x_test[i])\\n  x_test[i] = transformer.transform(x_test[i])\\n'"
      ],
      "application/vnd.google.colaboratory.intrinsic+json": {
       "type": "string"
      }
     },
     "metadata": {},
     "execution_count": 31
    }
   ],
   "source": [
    "'''\n",
    "# train\n",
    "for i in range(x_train.shape[0]):\n",
    "  transformer = RobustScaler().fit(x_train[i])\n",
    "  x_train[i] = transformer.transform(x_train[i])\n",
    "\n",
    "#test\n",
    "for i in range(x_test.shape[0]):\n",
    "  transformer = RobustScaler().fit(x_test[i])\n",
    "  x_test[i] = transformer.transform(x_test[i])\n",
    "'''"
   ]
  },
  {
   "cell_type": "code",
   "execution_count": 32,
   "metadata": {
    "colab": {
     "base_uri": "https://localhost:8080/"
    },
    "executionInfo": {
     "elapsed": 6,
     "status": "ok",
     "timestamp": 1671272286728,
     "user": {
      "displayName": "Nicola Cecere",
      "userId": "00597015809844887639"
     },
     "user_tz": -60
    },
    "id": "tguCut77u6bL",
    "outputId": "9933ab8f-3ed9-4d62-85f3-5bfcb1fe7e0c"
   },
   "outputs": [
    {
     "output_type": "execute_result",
     "data": {
      "text/plain": [
       "((2186, 36, 6), (2186, 12), (243, 12), (243, 12))"
      ]
     },
     "metadata": {},
     "execution_count": 32
    }
   ],
   "source": [
    "# Convert the sparse labels to categorical values\n",
    "y_train = tfk.utils.to_categorical(y_train)\n",
    "y_test = tfk.utils.to_categorical(y_test)\n",
    "x_train.shape, y_train.shape, y_test.shape, y_test.shape"
   ]
  },
  {
   "cell_type": "markdown",
   "metadata": {
    "id": "g_0wmrz3MGsd"
   },
   "source": [
    "### Build and train models"
   ]
  },
  {
   "cell_type": "code",
   "execution_count": 33,
   "metadata": {
    "executionInfo": {
     "elapsed": 3,
     "status": "ok",
     "timestamp": 1671272288436,
     "user": {
      "displayName": "Nicola Cecere",
      "userId": "00597015809844887639"
     },
     "user_tz": -60
    },
    "id": "XkUqhy__KMnr"
   },
   "outputs": [],
   "source": [
    "input_shape = x_train.shape[1:]\n",
    "classes = y_train.shape[-1]\n",
    "batch_size = 512\n",
    "epochs = 200"
   ]
  },
  {
   "cell_type": "markdown",
   "metadata": {
    "id": "et_9CJzIBsRt"
   },
   "source": [
    "Damn, once again no free lunch"
   ]
  },
  {
   "cell_type": "markdown",
   "source": [
    "### MIX"
   ],
   "metadata": {
    "id": "nY9ORQzWHMXZ"
   }
  },
  {
   "cell_type": "code",
   "source": [
    "def build_mix_classifier(input_shape, classes):\n",
    "    # Build the neural network layer by layer\n",
    "    input_layer = tfkl.Input(shape=input_shape, name='Input')\n",
    "\n",
    "    #1D\n",
    "    cnn = tfkl.Conv1D(1024,3,padding='same')(input_layer)\n",
    "    cnn = tfkl.LeakyReLU(alpha=0.2)(cnn)\n",
    "    cnn = tfkl.MaxPooling1D()(cnn)\n",
    "    cnn = tfkl.Conv1D(64,3,padding='same')(cnn)\n",
    "    cnn = tfkl.LeakyReLU(alpha=0.2)(cnn)\n",
    "    cnn = tfkl.MaxPooling1D()(cnn)\n",
    "    #gap = tfkl.GlobalAveragePooling1D()(cnn)\n",
    "    #dropout = tfkl.Dropout(.5, seed=seed)(gap)\n",
    "\n",
    "    # Classifier\n",
    "    #classifier = tfkl.Dense(128, activation='relu')(dropout)\n",
    "\n",
    "    #LSTM\n",
    "    lstm = tfkl.Bidirectional(tfkl.LSTM(512, return_sequences=True))(cnn)\n",
    "    #lstm = tfkl.LSTM(128, return_sequences=True)(cnn)\n",
    "    lstm = tfkl.Bidirectional(tfkl.LSTM(256))(lstm)\n",
    "    #dropout = tfkl.Dropout(.5, seed=seed)(lstm)\n",
    "\n",
    "    # Classifier\n",
    "    #classifier = tfkl.Dense(128, activation='relu')(dropout)\n",
    "\n",
    "    # Classifier\n",
    "    classifier = tfkl.Dense(1024)(lstm)\n",
    "    classifier = tfkl.LeakyReLU(alpha=0.2)(classifier)\n",
    "    classifier = tfkl.Dense(256)(classifier)\n",
    "    classifier = tfkl.LeakyReLU(alpha=0.2)(classifier)\n",
    "    classifier = tfkl.Dense(256)(classifier)\n",
    "    classifier = tfkl.LeakyReLU(alpha=0.2)(classifier)\n",
    "    dropout = tfkl.Dropout(.3, seed=seed)(classifier)\n",
    "\n",
    "    output_layer = tfkl.Dense(classes, activation='softmax')(dropout)\n",
    "\n",
    "    # Connect input and output through the Model class\n",
    "    model = tfk.Model(inputs=input_layer, outputs=output_layer, name='model')\n",
    "\n",
    "    # Compile the model\n",
    "    model.compile(loss=tfk.losses.CategoricalCrossentropy(), optimizer=tfk.optimizers.Adam(), metrics='accuracy')\n",
    "\n",
    "    # Return the model\n",
    "    return model"
   ],
   "metadata": {
    "id": "ZlkUpwJ4HPef",
    "executionInfo": {
     "status": "ok",
     "timestamp": 1671272368982,
     "user_tz": -60,
     "elapsed": 523,
     "user": {
      "displayName": "Nicola Cecere",
      "userId": "00597015809844887639"
     }
    }
   },
   "execution_count": 42,
   "outputs": []
  },
  {
   "cell_type": "code",
   "source": [
    "model = build_mix_classifier(input_shape, classes)\n",
    "model.summary()"
   ],
   "metadata": {
    "colab": {
     "base_uri": "https://localhost:8080/"
    },
    "id": "_fhMbxAEIk4S",
    "executionInfo": {
     "status": "ok",
     "timestamp": 1671272371399,
     "user_tz": -60,
     "elapsed": 2107,
     "user": {
      "displayName": "Nicola Cecere",
      "userId": "00597015809844887639"
     }
    },
    "outputId": "78cf22a3-80d7-4759-a16f-a1a47d9d712b"
   },
   "execution_count": 43,
   "outputs": [
    {
     "output_type": "stream",
     "name": "stdout",
     "text": [
      "Model: \"model\"\n",
      "_________________________________________________________________\n",
      " Layer (type)                Output Shape              Param #   \n",
      "=================================================================\n",
      " Input (InputLayer)          [(None, 36, 6)]           0         \n",
      "                                                                 \n",
      " conv1d_6 (Conv1D)           (None, 36, 1024)          19456     \n",
      "                                                                 \n",
      " leaky_re_lu_15 (LeakyReLU)  (None, 36, 1024)          0         \n",
      "                                                                 \n",
      " max_pooling1d_6 (MaxPooling  (None, 18, 1024)         0         \n",
      " 1D)                                                             \n",
      "                                                                 \n",
      " conv1d_7 (Conv1D)           (None, 18, 64)            196672    \n",
      "                                                                 \n",
      " leaky_re_lu_16 (LeakyReLU)  (None, 18, 64)            0         \n",
      "                                                                 \n",
      " max_pooling1d_7 (MaxPooling  (None, 9, 64)            0         \n",
      " 1D)                                                             \n",
      "                                                                 \n",
      " bidirectional_6 (Bidirectio  (None, 9, 1024)          2363392   \n",
      " nal)                                                            \n",
      "                                                                 \n",
      " bidirectional_7 (Bidirectio  (None, 512)              2623488   \n",
      " nal)                                                            \n",
      "                                                                 \n",
      " dense_12 (Dense)            (None, 1024)              525312    \n",
      "                                                                 \n",
      " leaky_re_lu_17 (LeakyReLU)  (None, 1024)              0         \n",
      "                                                                 \n",
      " dense_13 (Dense)            (None, 256)               262400    \n",
      "                                                                 \n",
      " leaky_re_lu_18 (LeakyReLU)  (None, 256)               0         \n",
      "                                                                 \n",
      " dense_14 (Dense)            (None, 256)               65792     \n",
      "                                                                 \n",
      " leaky_re_lu_19 (LeakyReLU)  (None, 256)               0         \n",
      "                                                                 \n",
      " dropout_3 (Dropout)         (None, 256)               0         \n",
      "                                                                 \n",
      " dense_15 (Dense)            (None, 12)                3084      \n",
      "                                                                 \n",
      "=================================================================\n",
      "Total params: 6,059,596\n",
      "Trainable params: 6,059,596\n",
      "Non-trainable params: 0\n",
      "_________________________________________________________________\n"
     ]
    }
   ]
  },
  {
   "cell_type": "code",
   "source": [
    "# Train the model\n",
    "history = model.fit(\n",
    "    x = x_train,\n",
    "    y = y_train,\n",
    "    batch_size = batch_size,\n",
    "    epochs = epochs,\n",
    "    validation_split=.1,\n",
    "    callbacks = [\n",
    "        tfk.callbacks.EarlyStopping(monitor='val_accuracy', mode='max', patience=10, restore_best_weights=True),\n",
    "        tfk.callbacks.ReduceLROnPlateau(monitor='val_accuracy', mode='max', patience=5, factor=0.5, min_lr=1e-5)\n",
    "    ]\n",
    ").history"
   ],
   "metadata": {
    "colab": {
     "base_uri": "https://localhost:8080/"
    },
    "id": "lUBQqMM_Ip03",
    "executionInfo": {
     "status": "ok",
     "timestamp": 1671272390405,
     "user_tz": -60,
     "elapsed": 19018,
     "user": {
      "displayName": "Nicola Cecere",
      "userId": "00597015809844887639"
     }
    },
    "outputId": "c9e3552c-795f-4cfc-f596-5c5a25a06e61"
   },
   "execution_count": 44,
   "outputs": [
    {
     "output_type": "stream",
     "name": "stdout",
     "text": [
      "Epoch 1/200\n",
      "4/4 [==============================] - 8s 551ms/step - loss: 2.2676 - accuracy: 0.2481 - val_loss: 1.9954 - val_accuracy: 0.2055 - lr: 0.0010\n",
      "Epoch 2/200\n",
      "4/4 [==============================] - 0s 87ms/step - loss: 1.8711 - accuracy: 0.3620 - val_loss: 1.5835 - val_accuracy: 0.4521 - lr: 0.0010\n",
      "Epoch 3/200\n",
      "4/4 [==============================] - 0s 84ms/step - loss: 1.6730 - accuracy: 0.4128 - val_loss: 1.3581 - val_accuracy: 0.5708 - lr: 0.0010\n",
      "Epoch 4/200\n",
      "4/4 [==============================] - 0s 85ms/step - loss: 1.4932 - accuracy: 0.4992 - val_loss: 1.2277 - val_accuracy: 0.5936 - lr: 0.0010\n",
      "Epoch 5/200\n",
      "4/4 [==============================] - 0s 85ms/step - loss: 1.3679 - accuracy: 0.5379 - val_loss: 1.0910 - val_accuracy: 0.6073 - lr: 0.0010\n",
      "Epoch 6/200\n",
      "4/4 [==============================] - 0s 86ms/step - loss: 1.2372 - accuracy: 0.5735 - val_loss: 1.0688 - val_accuracy: 0.6530 - lr: 0.0010\n",
      "Epoch 7/200\n",
      "4/4 [==============================] - 0s 82ms/step - loss: 1.1231 - accuracy: 0.6106 - val_loss: 1.0256 - val_accuracy: 0.6347 - lr: 0.0010\n",
      "Epoch 8/200\n",
      "4/4 [==============================] - 0s 79ms/step - loss: 1.0872 - accuracy: 0.6279 - val_loss: 1.0124 - val_accuracy: 0.6484 - lr: 0.0010\n",
      "Epoch 9/200\n",
      "4/4 [==============================] - 0s 84ms/step - loss: 1.0877 - accuracy: 0.6350 - val_loss: 0.9662 - val_accuracy: 0.6667 - lr: 0.0010\n",
      "Epoch 10/200\n",
      "4/4 [==============================] - 0s 78ms/step - loss: 1.0175 - accuracy: 0.6426 - val_loss: 0.9341 - val_accuracy: 0.6621 - lr: 0.0010\n",
      "Epoch 11/200\n",
      "4/4 [==============================] - 0s 87ms/step - loss: 0.9616 - accuracy: 0.6660 - val_loss: 0.9915 - val_accuracy: 0.6621 - lr: 0.0010\n",
      "Epoch 12/200\n",
      "4/4 [==============================] - 0s 87ms/step - loss: 0.8863 - accuracy: 0.6914 - val_loss: 0.8919 - val_accuracy: 0.6986 - lr: 0.0010\n",
      "Epoch 13/200\n",
      "4/4 [==============================] - 0s 86ms/step - loss: 0.8526 - accuracy: 0.7097 - val_loss: 0.8910 - val_accuracy: 0.7169 - lr: 0.0010\n",
      "Epoch 14/200\n",
      "4/4 [==============================] - 0s 86ms/step - loss: 0.7828 - accuracy: 0.7351 - val_loss: 0.8316 - val_accuracy: 0.7443 - lr: 0.0010\n",
      "Epoch 15/200\n",
      "4/4 [==============================] - 0s 78ms/step - loss: 0.7609 - accuracy: 0.7306 - val_loss: 0.9110 - val_accuracy: 0.6941 - lr: 0.0010\n",
      "Epoch 16/200\n",
      "4/4 [==============================] - 0s 78ms/step - loss: 0.7676 - accuracy: 0.7326 - val_loss: 0.8835 - val_accuracy: 0.7169 - lr: 0.0010\n",
      "Epoch 17/200\n",
      "4/4 [==============================] - 0s 79ms/step - loss: 0.6855 - accuracy: 0.7585 - val_loss: 0.9459 - val_accuracy: 0.7123 - lr: 0.0010\n",
      "Epoch 18/200\n",
      "4/4 [==============================] - 0s 81ms/step - loss: 0.6416 - accuracy: 0.7712 - val_loss: 0.8837 - val_accuracy: 0.7215 - lr: 0.0010\n",
      "Epoch 19/200\n",
      "4/4 [==============================] - 0s 79ms/step - loss: 0.6107 - accuracy: 0.7865 - val_loss: 0.8436 - val_accuracy: 0.7397 - lr: 0.0010\n",
      "Epoch 20/200\n",
      "4/4 [==============================] - 0s 90ms/step - loss: 0.5243 - accuracy: 0.8185 - val_loss: 0.9222 - val_accuracy: 0.7489 - lr: 5.0000e-04\n",
      "Epoch 21/200\n",
      "4/4 [==============================] - 0s 79ms/step - loss: 0.4674 - accuracy: 0.8327 - val_loss: 0.9237 - val_accuracy: 0.7215 - lr: 5.0000e-04\n",
      "Epoch 22/200\n",
      "4/4 [==============================] - 0s 79ms/step - loss: 0.4080 - accuracy: 0.8592 - val_loss: 0.9196 - val_accuracy: 0.7397 - lr: 5.0000e-04\n",
      "Epoch 23/200\n",
      "4/4 [==============================] - 0s 79ms/step - loss: 0.3662 - accuracy: 0.8861 - val_loss: 0.9983 - val_accuracy: 0.7489 - lr: 5.0000e-04\n",
      "Epoch 24/200\n",
      "4/4 [==============================] - 0s 81ms/step - loss: 0.3254 - accuracy: 0.8937 - val_loss: 1.0454 - val_accuracy: 0.7306 - lr: 5.0000e-04\n",
      "Epoch 25/200\n",
      "4/4 [==============================] - 0s 79ms/step - loss: 0.2772 - accuracy: 0.9161 - val_loss: 1.0714 - val_accuracy: 0.7352 - lr: 5.0000e-04\n",
      "Epoch 26/200\n",
      "4/4 [==============================] - 0s 79ms/step - loss: 0.2288 - accuracy: 0.9339 - val_loss: 1.0932 - val_accuracy: 0.7443 - lr: 2.5000e-04\n",
      "Epoch 27/200\n",
      "4/4 [==============================] - 0s 88ms/step - loss: 0.1999 - accuracy: 0.9405 - val_loss: 1.0911 - val_accuracy: 0.7626 - lr: 2.5000e-04\n",
      "Epoch 28/200\n",
      "4/4 [==============================] - 0s 79ms/step - loss: 0.1765 - accuracy: 0.9481 - val_loss: 1.1154 - val_accuracy: 0.7626 - lr: 2.5000e-04\n",
      "Epoch 29/200\n",
      "4/4 [==============================] - 0s 79ms/step - loss: 0.1551 - accuracy: 0.9568 - val_loss: 1.1954 - val_accuracy: 0.7352 - lr: 2.5000e-04\n",
      "Epoch 30/200\n",
      "4/4 [==============================] - 0s 80ms/step - loss: 0.1342 - accuracy: 0.9603 - val_loss: 1.2501 - val_accuracy: 0.7489 - lr: 2.5000e-04\n",
      "Epoch 31/200\n",
      "4/4 [==============================] - 0s 80ms/step - loss: 0.1189 - accuracy: 0.9675 - val_loss: 1.2738 - val_accuracy: 0.7580 - lr: 2.5000e-04\n",
      "Epoch 32/200\n",
      "4/4 [==============================] - 0s 79ms/step - loss: 0.0992 - accuracy: 0.9746 - val_loss: 1.3260 - val_accuracy: 0.7580 - lr: 2.5000e-04\n",
      "Epoch 33/200\n",
      "4/4 [==============================] - 0s 79ms/step - loss: 0.0850 - accuracy: 0.9781 - val_loss: 1.3404 - val_accuracy: 0.7580 - lr: 1.2500e-04\n",
      "Epoch 34/200\n",
      "4/4 [==============================] - 0s 80ms/step - loss: 0.0773 - accuracy: 0.9807 - val_loss: 1.3783 - val_accuracy: 0.7352 - lr: 1.2500e-04\n",
      "Epoch 35/200\n",
      "4/4 [==============================] - 0s 79ms/step - loss: 0.0666 - accuracy: 0.9847 - val_loss: 1.3829 - val_accuracy: 0.7489 - lr: 1.2500e-04\n",
      "Epoch 36/200\n",
      "4/4 [==============================] - 0s 79ms/step - loss: 0.0635 - accuracy: 0.9822 - val_loss: 1.4046 - val_accuracy: 0.7352 - lr: 1.2500e-04\n",
      "Epoch 37/200\n",
      "4/4 [==============================] - 0s 84ms/step - loss: 0.0557 - accuracy: 0.9847 - val_loss: 1.4219 - val_accuracy: 0.7443 - lr: 1.2500e-04\n"
     ]
    }
   ]
  },
  {
   "cell_type": "code",
   "source": [
    "best_epoch = np.argmax(history['val_accuracy'])\n",
    "plt.figure(figsize=(17,4))\n",
    "plt.plot(history['loss'], label='Training loss', alpha=.8, color='#ff7f0e')\n",
    "plt.plot(history['val_loss'], label='Validation loss', alpha=.9, color='#5a9aa5')\n",
    "plt.axvline(x=best_epoch, label='Best epoch', alpha=.3, ls='--', color='#5a9aa5')\n",
    "plt.title('Categorical Crossentropy')\n",
    "plt.legend()\n",
    "plt.grid(alpha=.3)\n",
    "plt.show()\n",
    "\n",
    "plt.figure(figsize=(17,4))\n",
    "plt.plot(history['accuracy'], label='Training accuracy', alpha=.8, color='#ff7f0e')\n",
    "plt.plot(history['val_accuracy'], label='Validation accuracy', alpha=.9, color='#5a9aa5')\n",
    "plt.axvline(x=best_epoch, label='Best epoch', alpha=.3, ls='--', color='#5a9aa5')\n",
    "plt.title('Accuracy')\n",
    "plt.legend()\n",
    "plt.grid(alpha=.3)\n",
    "plt.show()\n",
    "\n",
    "plt.figure(figsize=(18,3))\n",
    "plt.plot(history['lr'], label='Learning Rate', alpha=.8, color='#ff7f0e')\n",
    "plt.axvline(x=best_epoch, label='Best epoch', alpha=.3, ls='--', color='#5a9aa5')\n",
    "plt.legend()\n",
    "plt.grid(alpha=.3)\n",
    "plt.show()"
   ],
   "metadata": {
    "id": "3Os2bcPRJiVt",
    "colab": {
     "base_uri": "https://localhost:8080/",
     "height": 764
    },
    "executionInfo": {
     "status": "ok",
     "timestamp": 1671272391389,
     "user_tz": -60,
     "elapsed": 992,
     "user": {
      "displayName": "Nicola Cecere",
      "userId": "00597015809844887639"
     }
    },
    "outputId": "3988b810-5600-470d-f701-7c240cc4ba87"
   },
   "execution_count": 45,
   "outputs": [
    {
     "output_type": "display_data",
     "data": {
      "text/plain": [
       "<Figure size 1224x288 with 1 Axes>"
      ],
      "image/png": "[encoded data removed]"
     },
     "metadata": {
      "needs_background": "light"
     }
    },
    {
     "output_type": "display_data",
     "data": {
      "text/plain": [
       "<Figure size 1224x288 with 1 Axes>"
      ],
      "image/png": "[encoded data removed]"
     },
     "metadata": {
      "needs_background": "light"
     }
    },
    {
     "output_type": "display_data",
     "data": {
      "text/plain": [
       "<Figure size 1296x216 with 1 Axes>"
      ],
      "image/png": "[encoded data removed]"
     },
     "metadata": {
      "needs_background": "light"
     }
    }
   ]
  },
  {
   "cell_type": "code",
   "source": [
    "# Predict the test set with the 1DCNN\n",
    "predictions = model.predict(x_test)\n",
    "predictions.shape"
   ],
   "metadata": {
    "colab": {
     "base_uri": "https://localhost:8080/"
    },
    "id": "pWQc4DUTJoet",
    "executionInfo": {
     "status": "ok",
     "timestamp": 1671272392694,
     "user_tz": -60,
     "elapsed": 1308,
     "user": {
      "displayName": "Nicola Cecere",
      "userId": "00597015809844887639"
     }
    },
    "outputId": "9a5b158d-0673-4681-9286-baaffd610d4f"
   },
   "execution_count": 46,
   "outputs": [
    {
     "output_type": "stream",
     "name": "stdout",
     "text": [
      "8/8 [==============================] - 1s 7ms/step\n"
     ]
    },
    {
     "output_type": "execute_result",
     "data": {
      "text/plain": [
       "(243, 12)"
      ]
     },
     "metadata": {},
     "execution_count": 46
    }
   ]
  },
  {
   "cell_type": "code",
   "source": [
    "# Compute the confusion matrix\n",
    "cm = confusion_matrix(np.argmax(y_test, axis=-1), np.argmax(predictions, axis=-1))\n",
    "\n",
    "# Compute the classification metrics\n",
    "accuracy = accuracy_score(np.argmax(y_test, axis=-1), np.argmax(predictions, axis=-1))\n",
    "precision = precision_score(np.argmax(y_test, axis=-1), np.argmax(predictions, axis=-1), average='macro')\n",
    "recall = recall_score(np.argmax(y_test, axis=-1), np.argmax(predictions, axis=-1), average='macro')\n",
    "f1 = f1_score(np.argmax(y_test, axis=-1), np.argmax(predictions, axis=-1), average='macro')\n",
    "print('Accuracy:',accuracy.round(4))\n",
    "print('Precision:',precision.round(4))\n",
    "print('Recall:',recall.round(4))\n",
    "print('F1:',f1.round(4))\n",
    "\n",
    "# Plot the confusion matrix\n",
    "plt.figure(figsize=(10,8))\n",
    "sns.heatmap(cm.T, cmap='Blues', xticklabels=list(label_mapping.keys()), yticklabels=list(label_mapping.keys()))\n",
    "plt.xlabel('True labels')\n",
    "plt.ylabel('Predicted labels')\n",
    "plt.show()"
   ],
   "metadata": {
    "colab": {
     "base_uri": "https://localhost:8080/",
     "height": 659
    },
    "id": "nVtOtMPXJuD-",
    "executionInfo": {
     "status": "ok",
     "timestamp": 1671272392694,
     "user_tz": -60,
     "elapsed": 10,
     "user": {
      "displayName": "Nicola Cecere",
      "userId": "00597015809844887639"
     }
    },
    "outputId": "a5aad06f-69ce-4753-b6be-af4c59deede6"
   },
   "execution_count": 47,
   "outputs": [
    {
     "output_type": "stream",
     "name": "stdout",
     "text": [
      "Accuracy: 0.7078\n",
      "Precision: 0.6492\n",
      "Recall: 0.6595\n",
      "F1: 0.6467\n"
     ]
    },
    {
     "output_type": "display_data",
     "data": {
      "text/plain": [
       "<Figure size 720x576 with 2 Axes>"
      ],
      "image/png": "[encoded data removed]"
     },
     "metadata": {
      "needs_background": "light"
     }
    }
   ]
  },
  {
   "cell_type": "code",
   "source": [
    "model.save('MIX_1')\n",
    "# model = tfk.models.load_model('1DCNN')"
   ],
   "metadata": {
    "colab": {
     "base_uri": "https://localhost:8080/"
    },
    "id": "WiwwGI4zKLJk",
    "executionInfo": {
     "status": "ok",
     "timestamp": 1671272449365,
     "user_tz": -60,
     "elapsed": 22479,
     "user": {
      "displayName": "Nicola Cecere",
      "userId": "00597015809844887639"
     }
    },
    "outputId": "5d644a12-8869-4248-ef0b-2258e804b7a9"
   },
   "execution_count": 49,
   "outputs": [
    {
     "output_type": "stream",
     "name": "stderr",
     "text": [
      "WARNING:absl:Function `_wrapped_model` contains input name(s) Input with unsupported characters which will be renamed to input in the SavedModel.\n",
      "WARNING:absl:Found untraced functions such as _jit_compiled_convolution_op, _jit_compiled_convolution_op, lstm_cell_19_layer_call_fn, lstm_cell_19_layer_call_and_return_conditional_losses, lstm_cell_20_layer_call_fn while saving (showing 5 of 10). These functions will not be directly callable after loading.\n"
     ]
    }
   ]
  }
 ],
 "metadata": {
  "colab": {
   "collapsed_sections": [
    "bAP1pRLKN_v9",
    "t5VrQa_OMu74",
    "FqTU7SDgjWgV"
   ],
   "provenance": []
  },
  "kernelspec": {
   "display_name": "Python 3",
   "name": "python3"
  },
  "language_info": {
   "name": "python"
  },
  "accelerator": "GPU",
  "gpuClass": "standard"
 },
 "nbformat": 4,
 "nbformat_minor": 0
}
