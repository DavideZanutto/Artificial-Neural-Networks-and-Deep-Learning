{
 "nbformat": 4,
 "nbformat_minor": 0,
 "metadata": {
  "colab": {
   "provenance": [],
   "collapsed_sections": [
    "bAP1pRLKN_v9",
    "t5VrQa_OMu74",
    "FqTU7SDgjWgV"
   ]
  },
  "kernelspec": {
   "name": "python3",
   "display_name": "Python 3"
  },
  "language_info": {
   "name": "python"
  }
 },
 "cells": [
  {
   "cell_type": "markdown",
   "metadata": {
    "id": "1FdqcMXk96rS"
   },
   "source": [
    "### Connect to Drive"
   ]
  },
  {
   "cell_type": "code",
   "metadata": {
    "id": "PxUZy3U-fjcm",
    "colab": {
     "base_uri": "https://localhost:8080/"
    },
    "executionInfo": {
     "status": "ok",
     "timestamp": 1670660760045,
     "user_tz": -60,
     "elapsed": 18987,
     "user": {
      "displayName": "Nicola Cecere",
      "userId": "00597015809844887639"
     }
    },
    "outputId": "2e8e4c30-70a3-4df1-fed7-8695566ea199"
   },
   "source": [
    "from google.colab import drive\n",
    "drive.mount('/gdrive')"
   ],
   "execution_count": null,
   "outputs": []
  },
  {
   "cell_type": "code",
   "metadata": {
    "id": "C_cUOiS9flQ8",
    "colab": {
     "base_uri": "https://localhost:8080/"
    },
    "executionInfo": {
     "status": "ok",
     "timestamp": 1670660793170,
     "user_tz": -60,
     "elapsed": 4,
     "user": {
      "displayName": "Nicola Cecere",
      "userId": "00597015809844887639"
     }
    },
    "outputId": "ee4d533b-4cce-49c1-c914-eec376de1308"
   },
   "source": [
    "%cd /gdrive/My Drive/Colab Notebooks/ANNDl2Homework/"
   ],
   "execution_count": null,
   "outputs": []
  },
  {
   "cell_type": "code",
   "source": [
    "ls"
   ],
   "metadata": {
    "colab": {
     "base_uri": "https://localhost:8080/"
    },
    "id": "6GqH3h8XJA1M",
    "executionInfo": {
     "status": "ok",
     "timestamp": 1670660795810,
     "user_tz": -60,
     "elapsed": 348,
     "user": {
      "displayName": "Nicola Cecere",
      "userId": "00597015809844887639"
     }
    },
    "outputId": "5247dce1-aa12-42ce-84ef-87a4d53fb536"
   },
   "execution_count": null,
   "outputs": []
  },
  {
   "cell_type": "markdown",
   "metadata": {
    "id": "zfehjCy896Fd"
   },
   "source": [
    "### Import libraries"
   ]
  },
  {
   "cell_type": "code",
   "metadata": {
    "id": "Z_wVYNVVfr6q",
    "colab": {
     "base_uri": "https://localhost:8080/"
    },
    "executionInfo": {
     "status": "ok",
     "timestamp": 1670662999259,
     "user_tz": -60,
     "elapsed": 220,
     "user": {
      "displayName": "Nicola Cecere",
      "userId": "00597015809844887639"
     }
    },
    "outputId": "4e70ecce-d656-451f-cb4c-f72dd39eed63"
   },
   "source": [
    "import tensorflow as tf\n",
    "import numpy as np\n",
    "import os\n",
    "import random\n",
    "import pandas as pd\n",
    "import seaborn as sns\n",
    "import matplotlib.pyplot as plt\n",
    "plt.rc('font', size=16) \n",
    "from sklearn.metrics import accuracy_score, f1_score, precision_score, recall_score\n",
    "from sklearn.metrics import confusion_matrix\n",
    "from sklearn.preprocessing import MinMaxScaler\n",
    "import warnings\n",
    "import logging\n",
    "from sklearn.model_selection import train_test_split\n",
    "\n",
    "tfk = tf.keras\n",
    "tfkl = tf.keras.layers\n",
    "print(tf.__version__)"
   ],
   "execution_count": null,
   "outputs": []
  },
  {
   "cell_type": "markdown",
   "metadata": {
    "id": "lQWEHP13tQsc"
   },
   "source": [
    "### Set seed for reproducibility"
   ]
  },
  {
   "cell_type": "code",
   "metadata": {
    "id": "imBtfhUPLwB-",
    "executionInfo": {
     "status": "ok",
     "timestamp": 1670660816995,
     "user_tz": -60,
     "elapsed": 255,
     "user": {
      "displayName": "Nicola Cecere",
      "userId": "00597015809844887639"
     }
    }
   },
   "source": [
    "# Random seed for reproducibility\n",
    "seed = 42\n",
    "\n",
    "random.seed(seed)\n",
    "os.environ['PYTHONHASHSEED'] = str(seed)\n",
    "np.random.seed(seed)\n",
    "tf.random.set_seed(seed)\n",
    "tf.compat.v1.set_random_seed(seed)"
   ],
   "execution_count": null,
   "outputs": []
  },
  {
   "cell_type": "markdown",
   "metadata": {
    "id": "XRK9IPIc-ZEz"
   },
   "source": [
    "### Exploration Data Analysis (EDA)\n",
    "#### Human Activity Recognition"
   ]
  },
  {
   "cell_type": "markdown",
   "metadata": {
    "id": "GMysAd_I-lED"
   },
   "source": [
    "Load and clean the dataset"
   ]
  },
  {
   "cell_type": "code",
   "source": [
    "cd training_dataset_homework2/"
   ],
   "metadata": {
    "colab": {
     "base_uri": "https://localhost:8080/"
    },
    "id": "Fclkvu0AJ8_y",
    "executionInfo": {
     "status": "ok",
     "timestamp": 1670661017298,
     "user_tz": -60,
     "elapsed": 252,
     "user": {
      "displayName": "Nicola Cecere",
      "userId": "00597015809844887639"
     }
    },
    "outputId": "857fcecd-3e87-48b0-fbdf-0aedc16e1c98"
   },
   "execution_count": null,
   "outputs": []
  },
  {
   "cell_type": "code",
   "source": [
    "x_train= np.load(\"x_train.npy\")\n",
    "y_train= np.load(\"y_train.npy\")"
   ],
   "metadata": {
    "id": "EVplyAOEJkW6",
    "executionInfo": {
     "status": "ok",
     "timestamp": 1670663398624,
     "user_tz": -60,
     "elapsed": 481,
     "user": {
      "displayName": "Nicola Cecere",
      "userId": "00597015809844887639"
     }
    }
   },
   "execution_count": null,
   "outputs": []
  },
  {
   "cell_type": "code",
   "source": [
    "x_train.shape"
   ],
   "metadata": {
    "colab": {
     "base_uri": "https://localhost:8080/"
    },
    "id": "JKvOUPl4M1B_",
    "executionInfo": {
     "status": "ok",
     "timestamp": 1670663406374,
     "user_tz": -60,
     "elapsed": 230,
     "user": {
      "displayName": "Nicola Cecere",
      "userId": "00597015809844887639"
     }
    },
    "outputId": "259aa913-0172-4756-bba6-eb1965210ef7"
   },
   "execution_count": null,
   "outputs": []
  },
  {
   "cell_type": "code",
   "source": [
    "y_train.shape"
   ],
   "metadata": {
    "colab": {
     "base_uri": "https://localhost:8080/"
    },
    "id": "VeEYuQYJM5eZ",
    "executionInfo": {
     "status": "ok",
     "timestamp": 1670663421416,
     "user_tz": -60,
     "elapsed": 344,
     "user": {
      "displayName": "Nicola Cecere",
      "userId": "00597015809844887639"
     }
    },
    "outputId": "2769209a-6987-4b68-912b-86f16fb67d89"
   },
   "execution_count": null,
   "outputs": []
  },
  {
   "cell_type": "code",
   "source": [
    "x_train, x_test, y_train, y_test = train_test_split(x_train, y_train, random_state=seed, test_size=.1)\n",
    "x_train.shape, y_train.shape, x_test.shape, y_test.shape"
   ],
   "metadata": {
    "colab": {
     "base_uri": "https://localhost:8080/"
    },
    "id": "ZQcQOCEURy3N",
    "executionInfo": {
     "status": "ok",
     "timestamp": 1670663425227,
     "user_tz": -60,
     "elapsed": 236,
     "user": {
      "displayName": "Nicola Cecere",
      "userId": "00597015809844887639"
     }
    },
    "outputId": "f57edb06-a27a-43cc-ca26-b03fa0b7ca05"
   },
   "execution_count": null,
   "outputs": []
  },
  {
   "cell_type": "markdown",
   "metadata": {
    "id": "1LfzQzLbGGrd"
   },
   "source": [
    "### Preprocessing"
   ]
  },
  {
   "cell_type": "markdown",
   "metadata": {
    "id": "JcYYaYkh_BVY"
   },
   "source": [
    "Split, Encode and Normalize"
   ]
  },
  {
   "cell_type": "code",
   "metadata": {
    "id": "Ec5AFCLqFvd0",
    "executionInfo": {
     "status": "ok",
     "timestamp": 1670665254405,
     "user_tz": -60,
     "elapsed": 228,
     "user": {
      "displayName": "Nicola Cecere",
      "userId": "00597015809844887639"
     }
    }
   },
   "source": [
    "# Map activities to integers\n",
    "label_mapping = {\n",
    "     \"Wish\": 0,\n",
    "      \"Another\": 1,\n",
    "\"Comfortably\": 2,\n",
    "\"Money\": 3,\n",
    "\"Breathe\":4,\n",
    " \"Time\":5,\n",
    " \"Brain\":6,\n",
    " \"Echoes\":7,\n",
    "\"Wearing\":8,\n",
    "\"Sorrow\":9,\n",
    "\"Hey\":10,\n",
    " \"Shine\":11\n",
    "}\n"
   ],
   "execution_count": null,
   "outputs": []
  },
  {
   "cell_type": "code",
   "metadata": {
    "id": "tguCut77u6bL",
    "colab": {
     "base_uri": "https://localhost:8080/"
    },
    "executionInfo": {
     "status": "ok",
     "timestamp": 1670663442303,
     "user_tz": -60,
     "elapsed": 341,
     "user": {
      "displayName": "Nicola Cecere",
      "userId": "00597015809844887639"
     }
    },
    "outputId": "7101b7ae-4848-4d1d-944b-0546c0bef483"
   },
   "source": [
    "# Convert the sparse labels to categorical values\n",
    "y_train = tfk.utils.to_categorical(y_train)\n",
    "y_test = tfk.utils.to_categorical(y_test)\n",
    "x_train.shape, y_train.shape, y_test.shape, y_test.shape"
   ],
   "execution_count": null,
   "outputs": []
  },
  {
   "cell_type": "markdown",
   "metadata": {
    "id": "g_0wmrz3MGsd"
   },
   "source": [
    "### Build and train models"
   ]
  },
  {
   "cell_type": "code",
   "metadata": {
    "id": "XkUqhy__KMnr",
    "executionInfo": {
     "status": "ok",
     "timestamp": 1670663446281,
     "user_tz": -60,
     "elapsed": 230,
     "user": {
      "displayName": "Nicola Cecere",
      "userId": "00597015809844887639"
     }
    }
   },
   "source": [
    "input_shape = x_train.shape[1:]\n",
    "classes = y_train.shape[-1]\n",
    "batch_size = 32\n",
    "epochs = 200"
   ],
   "execution_count": null,
   "outputs": []
  },
  {
   "cell_type": "markdown",
   "metadata": {
    "id": "FqTU7SDgjWgV"
   },
   "source": [
    "#### Vanilla Long Short Term Memory (LSTM) Neural Network\n",
    "\n",
    "![](https://drive.google.com/uc?export=view&id=10B7c-F58-eNr6CP7D_UZeVp0gTeYMrFQ\n",
    ")"
   ]
  },
  {
   "cell_type": "code",
   "metadata": {
    "id": "7nxJrPoojt3z",
    "executionInfo": {
     "status": "ok",
     "timestamp": 1670663449122,
     "user_tz": -60,
     "elapsed": 561,
     "user": {
      "displayName": "Nicola Cecere",
      "userId": "00597015809844887639"
     }
    }
   },
   "source": [
    "def build_LSTM_classifier(input_shape, classes):\n",
    "    # Build the neural network layer by layer\n",
    "    input_layer = tfkl.Input(shape=input_shape, name='Input')\n",
    "\n",
    "    # Feature extractor\n",
    "    lstm = tfkl.LSTM(128, return_sequences=True)(input_layer)\n",
    "    lstm = tfkl.LSTM(128)(lstm)\n",
    "    dropout = tfkl.Dropout(.5, seed=seed)(lstm)\n",
    "\n",
    "    # Classifier\n",
    "    classifier = tfkl.Dense(128, activation='relu')(dropout)\n",
    "    output_layer = tfkl.Dense(classes, activation='softmax')(classifier)\n",
    "\n",
    "    # Connect input and output through the Model class\n",
    "    model = tfk.Model(inputs=input_layer, outputs=output_layer, name='model')\n",
    "\n",
    "    # Compile the model\n",
    "    model.compile(loss=tfk.losses.CategoricalCrossentropy(), optimizer=tfk.optimizers.Adam(), metrics='accuracy')\n",
    "\n",
    "    # Return the model\n",
    "    return model"
   ],
   "execution_count": null,
   "outputs": []
  },
  {
   "cell_type": "code",
   "metadata": {
    "id": "d1zEtb3Hjt1O",
    "colab": {
     "base_uri": "https://localhost:8080/"
    },
    "executionInfo": {
     "status": "ok",
     "timestamp": 1670663450923,
     "user_tz": -60,
     "elapsed": 272,
     "user": {
      "displayName": "Nicola Cecere",
      "userId": "00597015809844887639"
     }
    },
    "outputId": "c6f52982-34af-4972-be6d-0e06031e5bfb"
   },
   "source": [
    "model = build_LSTM_classifier(input_shape, classes)\n",
    "model.summary()"
   ],
   "execution_count": null,
   "outputs": []
  },
  {
   "cell_type": "code",
   "metadata": {
    "id": "LQOYU2X0jty5",
    "colab": {
     "base_uri": "https://localhost:8080/"
    },
    "executionInfo": {
     "status": "ok",
     "timestamp": 1670663499602,
     "user_tz": -60,
     "elapsed": 46296,
     "user": {
      "displayName": "Nicola Cecere",
      "userId": "00597015809844887639"
     }
    },
    "outputId": "5d9de8ba-a960-4de6-9ac1-c9a7cbe2870e"
   },
   "source": [
    "# Train the model\n",
    "history = model.fit(\n",
    "    x = x_train,\n",
    "    y = y_train,\n",
    "    batch_size = batch_size,\n",
    "    epochs = epochs,\n",
    "    validation_split=.1,\n",
    "    callbacks = [\n",
    "        tfk.callbacks.EarlyStopping(monitor='val_accuracy', mode='max', patience=10, restore_best_weights=True),\n",
    "        tfk.callbacks.ReduceLROnPlateau(monitor='val_accuracy', mode='max', patience=5, factor=0.5, min_lr=1e-5)\n",
    "    ]\n",
    ").history"
   ],
   "execution_count": null,
   "outputs": []
  },
  {
   "cell_type": "code",
   "metadata": {
    "id": "rzrqDHgijtwW",
    "colab": {
     "base_uri": "https://localhost:8080/",
     "height": 764
    },
    "executionInfo": {
     "status": "ok",
     "timestamp": 1670663510164,
     "user_tz": -60,
     "elapsed": 1461,
     "user": {
      "displayName": "Nicola Cecere",
      "userId": "00597015809844887639"
     }
    },
    "outputId": "5f27fdfc-7b02-4e86-b598-7386b9454b9e"
   },
   "source": [
    "best_epoch = np.argmax(history['val_accuracy'])\n",
    "plt.figure(figsize=(17,4))\n",
    "plt.plot(history['loss'], label='Training loss', alpha=.8, color='#ff7f0e')\n",
    "plt.plot(history['val_loss'], label='Validation loss', alpha=.9, color='#5a9aa5')\n",
    "plt.axvline(x=best_epoch, label='Best epoch', alpha=.3, ls='--', color='#5a9aa5')\n",
    "plt.title('Categorical Crossentropy')\n",
    "plt.legend()\n",
    "plt.grid(alpha=.3)\n",
    "plt.show()\n",
    "\n",
    "plt.figure(figsize=(17,4))\n",
    "plt.plot(history['accuracy'], label='Training accuracy', alpha=.8, color='#ff7f0e')\n",
    "plt.plot(history['val_accuracy'], label='Validation accuracy', alpha=.9, color='#5a9aa5')\n",
    "plt.axvline(x=best_epoch, label='Best epoch', alpha=.3, ls='--', color='#5a9aa5')\n",
    "plt.title('Accuracy')\n",
    "plt.legend()\n",
    "plt.grid(alpha=.3)\n",
    "plt.show()\n",
    "\n",
    "plt.figure(figsize=(17,4))\n",
    "plt.plot(history['lr'], label='Learning Rate', alpha=.8, color='#ff7f0e')\n",
    "plt.axvline(x=best_epoch, label='Best epoch', alpha=.3, ls='--', color='#5a9aa5')\n",
    "plt.legend()\n",
    "plt.grid(alpha=.3)\n",
    "plt.show()"
   ],
   "execution_count": null,
   "outputs": []
  },
  {
   "cell_type": "code",
   "metadata": {
    "id": "ZmNPtx9VjtuC",
    "colab": {
     "base_uri": "https://localhost:8080/"
    },
    "executionInfo": {
     "status": "ok",
     "timestamp": 1670663537378,
     "user_tz": -60,
     "elapsed": 1195,
     "user": {
      "displayName": "Nicola Cecere",
      "userId": "00597015809844887639"
     }
    },
    "outputId": "c690f518-53e9-47e6-9cee-ef8734de9724"
   },
   "source": [
    "model.save('LSTM')\n",
    "# model = tfk.models.load_model('LSTM')"
   ],
   "execution_count": null,
   "outputs": []
  },
  {
   "cell_type": "code",
   "metadata": {
    "id": "fvKkbmnujtrS",
    "colab": {
     "base_uri": "https://localhost:8080/"
    },
    "executionInfo": {
     "status": "ok",
     "timestamp": 1670663549811,
     "user_tz": -60,
     "elapsed": 608,
     "user": {
      "displayName": "Nicola Cecere",
      "userId": "00597015809844887639"
     }
    },
    "outputId": "9a247530-1fe4-4912-83ef-59a2453030fa"
   },
   "source": [
    "# Predict the test set with the LSTM\n",
    "predictions = model.predict(x_test)\n",
    "predictions.shape"
   ],
   "execution_count": null,
   "outputs": []
  },
  {
   "cell_type": "code",
   "metadata": {
    "id": "KRdpbCqCjtpR",
    "colab": {
     "base_uri": "https://localhost:8080/",
     "height": 713
    },
    "executionInfo": {
     "status": "ok",
     "timestamp": 1670665262178,
     "user_tz": -60,
     "elapsed": 530,
     "user": {
      "displayName": "Nicola Cecere",
      "userId": "00597015809844887639"
     }
    },
    "outputId": "9a18b3c7-e217-4130-e1d3-bff78b16e600"
   },
   "source": [
    "# Compute the confusion matrix\n",
    "cm = confusion_matrix(np.argmax(y_test, axis=-1), np.argmax(predictions, axis=-1))\n",
    "\n",
    "# Compute the classification metrics\n",
    "accuracy = accuracy_score(np.argmax(y_test, axis=-1), np.argmax(predictions, axis=-1))\n",
    "precision = precision_score(np.argmax(y_test, axis=-1), np.argmax(predictions, axis=-1), average='macro')\n",
    "recall = recall_score(np.argmax(y_test, axis=-1), np.argmax(predictions, axis=-1), average='macro')\n",
    "f1 = f1_score(np.argmax(y_test, axis=-1), np.argmax(predictions, axis=-1), average='macro')\n",
    "print('Accuracy:',accuracy.round(4))\n",
    "print('Precision:',precision.round(4))\n",
    "print('Recall:',recall.round(4))\n",
    "print('F1:',f1.round(4))\n",
    "\n",
    "# Plot the confusion matrix\n",
    "plt.figure(figsize=(10,8))\n",
    "sns.heatmap(cm.T, cmap='Blues', xticklabels=list(label_mapping.keys()), yticklabels=list(label_mapping.keys()))\n",
    "plt.xlabel('True labels')\n",
    "plt.ylabel('Predicted labels')\n",
    "plt.show()"
   ],
   "execution_count": null,
   "outputs": []
  },
  {
   "cell_type": "markdown",
   "metadata": {
    "id": "et_9CJzIBsRt"
   },
   "source": [
    "Damn, once again no free lunch"
   ]
  }
 ]
}
