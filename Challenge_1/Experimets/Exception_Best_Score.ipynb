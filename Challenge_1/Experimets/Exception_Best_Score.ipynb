{
 "nbformat": 4,
 "nbformat_minor": 0,
 "metadata": {
  "accelerator": "GPU",
  "colab": {
   "provenance": []
  },
  "kernelspec": {
   "display_name": "Python 3",
   "language": "python",
   "name": "python3"
  },
  "language_info": {
   "codemirror_mode": {
    "name": "ipython",
    "version": 3
   },
   "file_extension": ".py",
   "mimetype": "text/x-python",
   "name": "python",
   "nbconvert_exporter": "python",
   "pygments_lexer": "ipython3",
   "version": "3.8.8"
  }
 },
 "cells": [
  {
   "cell_type": "markdown",
   "metadata": {
    "id": "l3FoTyRa9pLu"
   },
   "source": [
    "### Import libraries"
   ]
  },
  {
   "cell_type": "code",
   "metadata": {
    "id": "f_sOaV1Y8NsL",
    "colab": {
     "base_uri": "https://localhost:8080/"
    },
    "outputId": "2a8a2232-35c2-4761-8dde-8e0d887dc1d3"
   },
   "source": [
    "import tensorflow as tf\n",
    "import numpy as np\n",
    "import os\n",
    "import random\n",
    "\n",
    "\n",
    "tfk = tf.keras\n",
    "tfkl = tf.keras.layers\n",
    "print(tf.__version__)"
   ],
   "execution_count": 10,
   "outputs": [
    {
     "name": "stdout",
     "output_type": "stream",
     "text": [
      "2.10.0\n"
     ]
    }
   ]
  },
  {
   "cell_type": "markdown",
   "metadata": {
    "id": "pLb-N5JzUUQS"
   },
   "source": [
    "### Set seed for reproducibility"
   ]
  },
  {
   "cell_type": "code",
   "metadata": {
    "id": "C7HYua8HUHIj"
   },
   "source": [
    "# Random seed for reproducibility\n",
    "seed = 41\n",
    "\n",
    "random.seed(seed)\n",
    "os.environ['PYTHONHASHSEED'] = str(seed)\n",
    "np.random.seed(seed)\n",
    "tf.random.set_seed(seed)\n",
    "tf.compat.v1.set_random_seed(seed)"
   ],
   "execution_count": 11,
   "outputs": []
  },
  {
   "cell_type": "markdown",
   "source": [
    "### Suppress warnings"
   ],
   "metadata": {
    "id": "7yyZaEAH4PZM"
   }
  },
  {
   "cell_type": "code",
   "source": [
    "import warnings\n",
    "import logging\n",
    "\n",
    "os.environ['TF_CPP_MIN_LOG_LEVEL'] = '2'\n",
    "warnings.simplefilter(action='ignore', category=FutureWarning)\n",
    "warnings.simplefilter(action='ignore', category=Warning)\n",
    "tf.get_logger().setLevel('INFO')\n",
    "tf.autograph.set_verbosity(0)\n",
    "\n",
    "tf.get_logger().setLevel(logging.ERROR)\n",
    "tf.get_logger().setLevel('ERROR')\n",
    "tf.compat.v1.logging.set_verbosity(tf.compat.v1.logging.ERROR)"
   ],
   "metadata": {
    "id": "P_SmiYRG4O0L"
   },
   "execution_count": 12,
   "outputs": []
  },
  {
   "cell_type": "code",
   "execution_count": 13,
   "outputs": [],
   "source": [
    "#no test\n",
    "training = '/Users/nicolacecere/GitHub/Artificial-Neural-Networks-and-Deep-Learning/SplitData/data/output1/train'\n",
    "validation = '/Users/nicolacecere/GitHub/Artificial-Neural-Networks-and-Deep-Learning/SplitData/data/output1/val'"
   ],
   "metadata": {
    "collapsed": false,
    "pycharm": {
     "name": "#%%\n"
    }
   }
  },
  {
   "cell_type": "code",
   "execution_count": 15,
   "outputs": [
    {
     "name": "stdout",
     "output_type": "stream",
     "text": [
      "Found 5664 images belonging to 8 classes.\n"
     ]
    }
   ],
   "source": [
    "# Create an instance of ImageDataGenerator with Data Augmentation\n",
    "aug_train_data_gen = ImageDataGenerator(rotation_range=20,\n",
    "                                        horizontal_flip= True,\n",
    "                                        vertical_flip= True,\n",
    "                                        brightness_range=(0.6,1.4),\n",
    "                                        zoom_range=0.6,\n",
    "                                        fill_mode='nearest',\n",
    "                                        preprocessing_function = preprocess_input) # rescale value is multiplied to the image\n",
    "\n",
    "# Obtain a data generator with the 'ImageDataGenerator.flow_from_directory' method\n",
    "aug_train_gen = aug_train_data_gen.flow_from_directory(directory=training,\n",
    "                                                       target_size=(96,96),\n",
    "                                                       color_mode='rgb',\n",
    "                                                       classes=None, # can be set to labels\n",
    "                                                       class_mode='categorical',\n",
    "                                                       batch_size=32,\n",
    "                                                       shuffle=True,\n",
    "                                                       seed=seed)"
   ],
   "metadata": {
    "collapsed": false,
    "pycharm": {
     "name": "#%%\n"
    }
   }
  },
  {
   "cell_type": "code",
   "execution_count": 14,
   "outputs": [
    {
     "name": "stdout",
     "output_type": "stream",
     "text": [
      "Found 5664 images belonging to 8 classes.\n",
      "Found 1420 images belonging to 8 classes.\n"
     ]
    }
   ],
   "source": [
    "# Images are divided into folders, one for each class.\n",
    "# If the images are organized in such a way, we can exploit the\n",
    "# ImageDataGenerator to read them from disk.\n",
    "from tensorflow.keras.preprocessing.image import ImageDataGenerator\n",
    "from tensorflow.keras.applications.efficientnet_v2 import preprocess_input\n",
    "\n",
    "# Create an instance of ImageDataGenerator for training, validation, and test sets\n",
    "train_data_gen = ImageDataGenerator(preprocessing_function = preprocess_input)\n",
    "valid_data_gen = ImageDataGenerator(preprocessing_function = preprocess_input)\n",
    "test_data_gen = ImageDataGenerator(preprocessing_function = preprocess_input)\n",
    "\n",
    "# Obtain a data generator with the 'ImageDataGenerator.flow_from_directory' method\n",
    "train_gen = train_data_gen.flow_from_directory(directory=training,\n",
    "                                               target_size=(96,96),\n",
    "                                               color_mode='rgb',\n",
    "                                               classes=None, # can be set to labels\n",
    "                                               class_mode='categorical',\n",
    "                                               batch_size=32,\n",
    "                                               shuffle=True,\n",
    "                                               seed=seed\n",
    "                                               )\n",
    "valid_gen = train_data_gen.flow_from_directory(directory=validation,\n",
    "                                               target_size=(96,96),\n",
    "                                               color_mode='rgb',\n",
    "                                               classes=None, # can be set to labels\n",
    "                                               class_mode='categorical',\n",
    "                                               batch_size=32,\n",
    "                                               shuffle=True,\n",
    "                                               seed=seed\n",
    "                                               )"
   ],
   "metadata": {
    "collapsed": false,
    "pycharm": {
     "name": "#%%\n"
    }
   }
  },
  {
   "cell_type": "code",
   "metadata": {
    "id": "uEZnG9FLIAQR"
   },
   "source": [
    "dataset_dir = '/Users/nicolacecere/GitHub/Artificial-Neural-Networks-and-Deep-Learning/SplitData/data'\n",
    "training = '/Users/nicolacecere/GitHub/Artificial-Neural-Networks-and-Deep-Learning/SplitData/data/training'\n",
    "validation = '/Users/nicolacecere/GitHub/Artificial-Neural-Networks-and-Deep-Learning/SplitData/data/validation'\n",
    "test = '/Users/nicolacecere/GitHub/Artificial-Neural-Networks-and-Deep-Learning/SplitData/data/test'"
   ],
   "execution_count": 9,
   "outputs": []
  },
  {
   "cell_type": "code",
   "execution_count": 4,
   "outputs": [],
   "source": [
    "dataset_dir = '/Users/nicolacecere/GitHub/Artificial-Neural-Networks-and-Deep-Learning/SplitData/data/output'\n",
    "training = '/Users/nicolacecere/GitHub/Artificial-Neural-Networks-and-Deep-Learning/SplitData/data/output/train'\n",
    "validation = '/Users/nicolacecere/GitHub/Artificial-Neural-Networks-and-Deep-Learning/SplitData/data/output/val'\n",
    "test = '/Users/nicolacecere/GitHub/Artificial-Neural-Networks-and-Deep-Learning/SplitData/data/output/test'"
   ],
   "metadata": {
    "collapsed": false,
    "pycharm": {
     "name": "#%%\n"
    }
   }
  },
  {
   "cell_type": "code",
   "metadata": {
    "id": "HftmCCnssm6O"
   },
   "source": [
    "labels = {\n",
    "    0:'species1',\n",
    "    1:'species2',\n",
    "    2:'species3',\n",
    "    3:'species4',\n",
    "    4:'species5',\n",
    "    5:'species6',\n",
    "    6:'species7',\n",
    "    7:'species8'\n",
    "}"
   ],
   "execution_count": 5,
   "outputs": []
  },
  {
   "cell_type": "markdown",
   "metadata": {
    "id": "opLBOnWjWqay"
   },
   "source": [
    "### Process data"
   ]
  },
  {
   "cell_type": "code",
   "execution_count": 6,
   "outputs": [
    {
     "name": "stdout",
     "output_type": "stream",
     "text": [
      "Found 5664 images belonging to 8 classes.\n",
      "Found 1420 images belonging to 8 classes.\n"
     ]
    },
    {
     "ename": "NameError",
     "evalue": "name 'test' is not defined",
     "output_type": "error",
     "traceback": [
      "\u001B[0;31m---------------------------------------------------------------------------\u001B[0m",
      "\u001B[0;31mNameError\u001B[0m                                 Traceback (most recent call last)",
      "Cell \u001B[0;32mIn [6], line 31\u001B[0m\n\u001B[1;32m     13\u001B[0m train_gen \u001B[38;5;241m=\u001B[39m train_data_gen\u001B[38;5;241m.\u001B[39mflow_from_directory(directory\u001B[38;5;241m=\u001B[39mtraining,\n\u001B[1;32m     14\u001B[0m                                                target_size\u001B[38;5;241m=\u001B[39m(\u001B[38;5;241m96\u001B[39m,\u001B[38;5;241m96\u001B[39m),\n\u001B[1;32m     15\u001B[0m                                                color_mode\u001B[38;5;241m=\u001B[39m\u001B[38;5;124m'\u001B[39m\u001B[38;5;124mrgb\u001B[39m\u001B[38;5;124m'\u001B[39m,\n\u001B[0;32m   (...)\u001B[0m\n\u001B[1;32m     20\u001B[0m                                                seed\u001B[38;5;241m=\u001B[39mseed\n\u001B[1;32m     21\u001B[0m                                                )\n\u001B[1;32m     22\u001B[0m valid_gen \u001B[38;5;241m=\u001B[39m train_data_gen\u001B[38;5;241m.\u001B[39mflow_from_directory(directory\u001B[38;5;241m=\u001B[39mvalidation,\n\u001B[1;32m     23\u001B[0m                                                target_size\u001B[38;5;241m=\u001B[39m(\u001B[38;5;241m96\u001B[39m,\u001B[38;5;241m96\u001B[39m),\n\u001B[1;32m     24\u001B[0m                                                color_mode\u001B[38;5;241m=\u001B[39m\u001B[38;5;124m'\u001B[39m\u001B[38;5;124mrgb\u001B[39m\u001B[38;5;124m'\u001B[39m,\n\u001B[0;32m   (...)\u001B[0m\n\u001B[1;32m     29\u001B[0m                                                seed\u001B[38;5;241m=\u001B[39mseed\n\u001B[1;32m     30\u001B[0m                                                )\n\u001B[0;32m---> 31\u001B[0m test_gen \u001B[38;5;241m=\u001B[39m train_data_gen\u001B[38;5;241m.\u001B[39mflow_from_directory(directory\u001B[38;5;241m=\u001B[39m\u001B[43mtest\u001B[49m,\n\u001B[1;32m     32\u001B[0m                                               target_size\u001B[38;5;241m=\u001B[39m(\u001B[38;5;241m96\u001B[39m,\u001B[38;5;241m96\u001B[39m),\n\u001B[1;32m     33\u001B[0m                                               color_mode\u001B[38;5;241m=\u001B[39m\u001B[38;5;124m'\u001B[39m\u001B[38;5;124mrgb\u001B[39m\u001B[38;5;124m'\u001B[39m,\n\u001B[1;32m     34\u001B[0m                                               classes\u001B[38;5;241m=\u001B[39m\u001B[38;5;28;01mNone\u001B[39;00m, \u001B[38;5;66;03m# can be set to labels\u001B[39;00m\n\u001B[1;32m     35\u001B[0m                                               class_mode\u001B[38;5;241m=\u001B[39m\u001B[38;5;124m'\u001B[39m\u001B[38;5;124mcategorical\u001B[39m\u001B[38;5;124m'\u001B[39m,\n\u001B[1;32m     36\u001B[0m                                               batch_size\u001B[38;5;241m=\u001B[39m\u001B[38;5;241m32\u001B[39m,\n\u001B[1;32m     37\u001B[0m                                               shuffle\u001B[38;5;241m=\u001B[39m\u001B[38;5;28;01mFalse\u001B[39;00m,\n\u001B[1;32m     38\u001B[0m                                               seed\u001B[38;5;241m=\u001B[39mseed\n\u001B[1;32m     39\u001B[0m                                               )\n",
      "\u001B[0;31mNameError\u001B[0m: name 'test' is not defined"
     ]
    }
   ],
   "source": [
    "# Images are divided into folders, one for each class.\n",
    "# If the images are organized in such a way, we can exploit the\n",
    "# ImageDataGenerator to read them from disk.\n",
    "from tensorflow.keras.preprocessing.image import ImageDataGenerator\n",
    "from tensorflow.keras.applications.xception import preprocess_input\n",
    "\n",
    "# Create an instance of ImageDataGenerator for training, validation, and test sets\n",
    "train_data_gen = ImageDataGenerator(preprocessing_function = preprocess_input)\n",
    "valid_data_gen = ImageDataGenerator(preprocessing_function = preprocess_input)\n",
    "test_data_gen = ImageDataGenerator(preprocessing_function = preprocess_input)\n",
    "\n",
    "# Obtain a data generator with the 'ImageDataGenerator.flow_from_directory' method\n",
    "train_gen = train_data_gen.flow_from_directory(directory=training,\n",
    "                                               target_size=(96,96),\n",
    "                                               color_mode='rgb',\n",
    "                                               classes=None, # can be set to labels\n",
    "                                               class_mode='categorical',\n",
    "                                               batch_size=32,\n",
    "                                               shuffle=True,\n",
    "                                               seed=seed\n",
    "                                               )\n",
    "valid_gen = train_data_gen.flow_from_directory(directory=validation,\n",
    "                                               target_size=(96,96),\n",
    "                                               color_mode='rgb',\n",
    "                                               classes=None, # can be set to labels\n",
    "                                               class_mode='categorical',\n",
    "                                               batch_size=32,\n",
    "                                               shuffle=True,\n",
    "                                               seed=seed\n",
    "                                               )\n",
    "test_gen = train_data_gen.flow_from_directory(directory=test,\n",
    "                                              target_size=(96,96),\n",
    "                                              color_mode='rgb',\n",
    "                                              classes=None, # can be set to labels\n",
    "                                              class_mode='categorical',\n",
    "                                              batch_size=32,\n",
    "                                              shuffle=False,\n",
    "                                              seed=seed\n",
    "                                              )"
   ],
   "metadata": {
    "colab": {
     "base_uri": "https://localhost:8080/"
    },
    "id": "spuPsD4gxpc6",
    "outputId": "af3219f3-ae63-4bef-9c53-9544658ba71d"
   }
  },
  {
   "cell_type": "code",
   "execution_count": 7,
   "outputs": [
    {
     "name": "stdout",
     "output_type": "stream",
     "text": [
      "Found 2829 images belonging to 8 classes.\n"
     ]
    }
   ],
   "source": [
    "# Create an instance of ImageDataGenerator with Data Augmentation\n",
    "aug_train_data_gen = ImageDataGenerator(rotation_range=30,\n",
    "                                        horizontal_flip= True,\n",
    "                                        vertical_flip= True,\n",
    "                                        brightness_range=(0.6,1.4),\n",
    "                                        zoom_range=0.6,\n",
    "                                        fill_mode='nearest',\n",
    "                                        preprocessing_function= preprocess_input) # rescale value is multiplied to the image\n",
    "\n",
    "# Obtain a data generator with the 'ImageDataGenerator.flow_from_directory' method\n",
    "aug_train_gen = aug_train_data_gen.flow_from_directory(directory=training,\n",
    "                                                       target_size=(96,96),\n",
    "                                                       color_mode='rgb',\n",
    "                                                       classes=None, # can be set to labels\n",
    "                                                       class_mode='categorical',\n",
    "                                                       batch_size=32,\n",
    "                                                       shuffle=True,\n",
    "                                                       seed=seed)"
   ],
   "metadata": {
    "colab": {
     "base_uri": "https://localhost:8080/"
    },
    "id": "1DlecL3Dxpc-",
    "outputId": "1bec0416-66b0-4b1a-81ef-77a2a0da4330"
   }
  },
  {
   "cell_type": "markdown",
   "metadata": {
    "id": "Jr9CX7CYdBg_"
   },
   "source": [
    "### Models metadata"
   ]
  },
  {
   "cell_type": "code",
   "metadata": {
    "id": "7YcxBMJhl4EM"
   },
   "source": [
    "input_shape = (96, 96, 3)\n",
    "batch_size = 32\n",
    "epochs = 200"
   ],
   "execution_count": 16,
   "outputs": []
  },
  {
   "cell_type": "markdown",
   "metadata": {
    "id": "KXmw4F0wlY0h"
   },
   "source": [
    "### Standard model"
   ]
  },
  {
   "cell_type": "markdown",
   "metadata": {
    "id": "RRlz7PE5_OEo"
   },
   "source": [
    "### Transfer learning"
   ]
  },
  {
   "cell_type": "code",
   "metadata": {
    "id": "GBSheIJZrpfU",
    "colab": {
     "base_uri": "https://localhost:8080/"
    },
    "outputId": "81d2f153-c9e9-4fc7-bc54-d69d59824a10"
   },
   "source": [
    "# Download and plot the VGG16 model\n",
    "supernet = tfk.applications.Xception(\n",
    "    include_top=False,\n",
    "    weights=\"imagenet\",\n",
    "    input_shape=(96,96,3)\n",
    ")\n",
    "supernet.summary()"
   ],
   "execution_count": 17,
   "outputs": [
    {
     "name": "stdout",
     "output_type": "stream",
     "text": [
      "Metal device set to: AMD Radeon Pro 560X\n",
      "Model: \"xception\"\n",
      "__________________________________________________________________________________________________\n",
      " Layer (type)                   Output Shape         Param #     Connected to                     \n",
      "==================================================================================================\n",
      " input_1 (InputLayer)           [(None, 96, 96, 3)]  0           []                               \n",
      "                                                                                                  \n",
      " block1_conv1 (Conv2D)          (None, 47, 47, 32)   864         ['input_1[0][0]']                \n",
      "                                                                                                  \n",
      " block1_conv1_bn (BatchNormaliz  (None, 47, 47, 32)  128         ['block1_conv1[0][0]']           \n",
      " ation)                                                                                           \n",
      "                                                                                                  \n",
      " block1_conv1_act (Activation)  (None, 47, 47, 32)   0           ['block1_conv1_bn[0][0]']        \n",
      "                                                                                                  \n",
      " block1_conv2 (Conv2D)          (None, 45, 45, 64)   18432       ['block1_conv1_act[0][0]']       \n",
      "                                                                                                  \n",
      " block1_conv2_bn (BatchNormaliz  (None, 45, 45, 64)  256         ['block1_conv2[0][0]']           \n",
      " ation)                                                                                           \n",
      "                                                                                                  \n",
      " block1_conv2_act (Activation)  (None, 45, 45, 64)   0           ['block1_conv2_bn[0][0]']        \n",
      "                                                                                                  \n",
      " block2_sepconv1 (SeparableConv  (None, 45, 45, 128)  8768       ['block1_conv2_act[0][0]']       \n",
      " 2D)                                                                                              \n",
      "                                                                                                  \n",
      " block2_sepconv1_bn (BatchNorma  (None, 45, 45, 128)  512        ['block2_sepconv1[0][0]']        \n",
      " lization)                                                                                        \n",
      "                                                                                                  \n",
      " block2_sepconv2_act (Activatio  (None, 45, 45, 128)  0          ['block2_sepconv1_bn[0][0]']     \n",
      " n)                                                                                               \n",
      "                                                                                                  \n",
      " block2_sepconv2 (SeparableConv  (None, 45, 45, 128)  17536      ['block2_sepconv2_act[0][0]']    \n",
      " 2D)                                                                                              \n",
      "                                                                                                  \n",
      " block2_sepconv2_bn (BatchNorma  (None, 45, 45, 128)  512        ['block2_sepconv2[0][0]']        \n",
      " lization)                                                                                        \n",
      "                                                                                                  \n",
      " conv2d (Conv2D)                (None, 23, 23, 128)  8192        ['block1_conv2_act[0][0]']       \n",
      "                                                                                                  \n",
      " block2_pool (MaxPooling2D)     (None, 23, 23, 128)  0           ['block2_sepconv2_bn[0][0]']     \n",
      "                                                                                                  \n",
      " batch_normalization (BatchNorm  (None, 23, 23, 128)  512        ['conv2d[0][0]']                 \n",
      " alization)                                                                                       \n",
      "                                                                                                  \n",
      " add (Add)                      (None, 23, 23, 128)  0           ['block2_pool[0][0]',            \n",
      "                                                                  'batch_normalization[0][0]']    \n",
      "                                                                                                  \n",
      " block3_sepconv1_act (Activatio  (None, 23, 23, 128)  0          ['add[0][0]']                    \n",
      " n)                                                                                               \n",
      "                                                                                                  \n",
      " block3_sepconv1 (SeparableConv  (None, 23, 23, 256)  33920      ['block3_sepconv1_act[0][0]']    \n",
      " 2D)                                                                                              \n",
      "                                                                                                  \n",
      " block3_sepconv1_bn (BatchNorma  (None, 23, 23, 256)  1024       ['block3_sepconv1[0][0]']        \n",
      " lization)                                                                                        \n",
      "                                                                                                  \n",
      " block3_sepconv2_act (Activatio  (None, 23, 23, 256)  0          ['block3_sepconv1_bn[0][0]']     \n",
      " n)                                                                                               \n",
      "                                                                                                  \n",
      " block3_sepconv2 (SeparableConv  (None, 23, 23, 256)  67840      ['block3_sepconv2_act[0][0]']    \n",
      " 2D)                                                                                              \n",
      "                                                                                                  \n",
      " block3_sepconv2_bn (BatchNorma  (None, 23, 23, 256)  1024       ['block3_sepconv2[0][0]']        \n",
      " lization)                                                                                        \n",
      "                                                                                                  \n",
      " conv2d_1 (Conv2D)              (None, 12, 12, 256)  32768       ['add[0][0]']                    \n",
      "                                                                                                  \n",
      " block3_pool (MaxPooling2D)     (None, 12, 12, 256)  0           ['block3_sepconv2_bn[0][0]']     \n",
      "                                                                                                  \n",
      " batch_normalization_1 (BatchNo  (None, 12, 12, 256)  1024       ['conv2d_1[0][0]']               \n",
      " rmalization)                                                                                     \n",
      "                                                                                                  \n",
      " add_1 (Add)                    (None, 12, 12, 256)  0           ['block3_pool[0][0]',            \n",
      "                                                                  'batch_normalization_1[0][0]']  \n",
      "                                                                                                  \n",
      " block4_sepconv1_act (Activatio  (None, 12, 12, 256)  0          ['add_1[0][0]']                  \n",
      " n)                                                                                               \n",
      "                                                                                                  \n",
      " block4_sepconv1 (SeparableConv  (None, 12, 12, 728)  188672     ['block4_sepconv1_act[0][0]']    \n",
      " 2D)                                                                                              \n",
      "                                                                                                  \n",
      " block4_sepconv1_bn (BatchNorma  (None, 12, 12, 728)  2912       ['block4_sepconv1[0][0]']        \n",
      " lization)                                                                                        \n",
      "                                                                                                  \n",
      " block4_sepconv2_act (Activatio  (None, 12, 12, 728)  0          ['block4_sepconv1_bn[0][0]']     \n",
      " n)                                                                                               \n",
      "                                                                                                  \n",
      " block4_sepconv2 (SeparableConv  (None, 12, 12, 728)  536536     ['block4_sepconv2_act[0][0]']    \n",
      " 2D)                                                                                              \n",
      "                                                                                                  \n",
      " block4_sepconv2_bn (BatchNorma  (None, 12, 12, 728)  2912       ['block4_sepconv2[0][0]']        \n",
      " lization)                                                                                        \n",
      "                                                                                                  \n",
      " conv2d_2 (Conv2D)              (None, 6, 6, 728)    186368      ['add_1[0][0]']                  \n",
      "                                                                                                  \n",
      " block4_pool (MaxPooling2D)     (None, 6, 6, 728)    0           ['block4_sepconv2_bn[0][0]']     \n",
      "                                                                                                  \n",
      " batch_normalization_2 (BatchNo  (None, 6, 6, 728)   2912        ['conv2d_2[0][0]']               \n",
      " rmalization)                                                                                     \n",
      "                                                                                                  \n",
      " add_2 (Add)                    (None, 6, 6, 728)    0           ['block4_pool[0][0]',            \n",
      "                                                                  'batch_normalization_2[0][0]']  \n",
      "                                                                                                  \n",
      " block5_sepconv1_act (Activatio  (None, 6, 6, 728)   0           ['add_2[0][0]']                  \n",
      " n)                                                                                               \n",
      "                                                                                                  \n",
      " block5_sepconv1 (SeparableConv  (None, 6, 6, 728)   536536      ['block5_sepconv1_act[0][0]']    \n",
      " 2D)                                                                                              \n",
      "                                                                                                  \n",
      " block5_sepconv1_bn (BatchNorma  (None, 6, 6, 728)   2912        ['block5_sepconv1[0][0]']        \n",
      " lization)                                                                                        \n",
      "                                                                                                  \n",
      " block5_sepconv2_act (Activatio  (None, 6, 6, 728)   0           ['block5_sepconv1_bn[0][0]']     \n",
      " n)                                                                                               \n",
      "                                                                                                  \n",
      " block5_sepconv2 (SeparableConv  (None, 6, 6, 728)   536536      ['block5_sepconv2_act[0][0]']    \n",
      " 2D)                                                                                              \n",
      "                                                                                                  \n",
      " block5_sepconv2_bn (BatchNorma  (None, 6, 6, 728)   2912        ['block5_sepconv2[0][0]']        \n",
      " lization)                                                                                        \n",
      "                                                                                                  \n",
      " block5_sepconv3_act (Activatio  (None, 6, 6, 728)   0           ['block5_sepconv2_bn[0][0]']     \n",
      " n)                                                                                               \n",
      "                                                                                                  \n",
      " block5_sepconv3 (SeparableConv  (None, 6, 6, 728)   536536      ['block5_sepconv3_act[0][0]']    \n",
      " 2D)                                                                                              \n",
      "                                                                                                  \n",
      " block5_sepconv3_bn (BatchNorma  (None, 6, 6, 728)   2912        ['block5_sepconv3[0][0]']        \n",
      " lization)                                                                                        \n",
      "                                                                                                  \n",
      " add_3 (Add)                    (None, 6, 6, 728)    0           ['block5_sepconv3_bn[0][0]',     \n",
      "                                                                  'add_2[0][0]']                  \n",
      "                                                                                                  \n",
      " block6_sepconv1_act (Activatio  (None, 6, 6, 728)   0           ['add_3[0][0]']                  \n",
      " n)                                                                                               \n",
      "                                                                                                  \n",
      " block6_sepconv1 (SeparableConv  (None, 6, 6, 728)   536536      ['block6_sepconv1_act[0][0]']    \n",
      " 2D)                                                                                              \n",
      "                                                                                                  \n",
      " block6_sepconv1_bn (BatchNorma  (None, 6, 6, 728)   2912        ['block6_sepconv1[0][0]']        \n",
      " lization)                                                                                        \n",
      "                                                                                                  \n",
      " block6_sepconv2_act (Activatio  (None, 6, 6, 728)   0           ['block6_sepconv1_bn[0][0]']     \n",
      " n)                                                                                               \n",
      "                                                                                                  \n",
      " block6_sepconv2 (SeparableConv  (None, 6, 6, 728)   536536      ['block6_sepconv2_act[0][0]']    \n",
      " 2D)                                                                                              \n",
      "                                                                                                  \n",
      " block6_sepconv2_bn (BatchNorma  (None, 6, 6, 728)   2912        ['block6_sepconv2[0][0]']        \n",
      " lization)                                                                                        \n",
      "                                                                                                  \n",
      " block6_sepconv3_act (Activatio  (None, 6, 6, 728)   0           ['block6_sepconv2_bn[0][0]']     \n",
      " n)                                                                                               \n",
      "                                                                                                  \n",
      " block6_sepconv3 (SeparableConv  (None, 6, 6, 728)   536536      ['block6_sepconv3_act[0][0]']    \n",
      " 2D)                                                                                              \n",
      "                                                                                                  \n",
      " block6_sepconv3_bn (BatchNorma  (None, 6, 6, 728)   2912        ['block6_sepconv3[0][0]']        \n",
      " lization)                                                                                        \n",
      "                                                                                                  \n",
      " add_4 (Add)                    (None, 6, 6, 728)    0           ['block6_sepconv3_bn[0][0]',     \n",
      "                                                                  'add_3[0][0]']                  \n",
      "                                                                                                  \n",
      " block7_sepconv1_act (Activatio  (None, 6, 6, 728)   0           ['add_4[0][0]']                  \n",
      " n)                                                                                               \n",
      "                                                                                                  \n",
      " block7_sepconv1 (SeparableConv  (None, 6, 6, 728)   536536      ['block7_sepconv1_act[0][0]']    \n",
      " 2D)                                                                                              \n",
      "                                                                                                  \n",
      " block7_sepconv1_bn (BatchNorma  (None, 6, 6, 728)   2912        ['block7_sepconv1[0][0]']        \n",
      " lization)                                                                                        \n",
      "                                                                                                  \n",
      " block7_sepconv2_act (Activatio  (None, 6, 6, 728)   0           ['block7_sepconv1_bn[0][0]']     \n",
      " n)                                                                                               \n",
      "                                                                                                  \n",
      " block7_sepconv2 (SeparableConv  (None, 6, 6, 728)   536536      ['block7_sepconv2_act[0][0]']    \n",
      " 2D)                                                                                              \n",
      "                                                                                                  \n",
      " block7_sepconv2_bn (BatchNorma  (None, 6, 6, 728)   2912        ['block7_sepconv2[0][0]']        \n",
      " lization)                                                                                        \n",
      "                                                                                                  \n",
      " block7_sepconv3_act (Activatio  (None, 6, 6, 728)   0           ['block7_sepconv2_bn[0][0]']     \n",
      " n)                                                                                               \n",
      "                                                                                                  \n",
      " block7_sepconv3 (SeparableConv  (None, 6, 6, 728)   536536      ['block7_sepconv3_act[0][0]']    \n",
      " 2D)                                                                                              \n",
      "                                                                                                  \n",
      " block7_sepconv3_bn (BatchNorma  (None, 6, 6, 728)   2912        ['block7_sepconv3[0][0]']        \n",
      " lization)                                                                                        \n",
      "                                                                                                  \n",
      " add_5 (Add)                    (None, 6, 6, 728)    0           ['block7_sepconv3_bn[0][0]',     \n",
      "                                                                  'add_4[0][0]']                  \n",
      "                                                                                                  \n",
      " block8_sepconv1_act (Activatio  (None, 6, 6, 728)   0           ['add_5[0][0]']                  \n",
      " n)                                                                                               \n",
      "                                                                                                  \n",
      " block8_sepconv1 (SeparableConv  (None, 6, 6, 728)   536536      ['block8_sepconv1_act[0][0]']    \n",
      " 2D)                                                                                              \n",
      "                                                                                                  \n",
      " block8_sepconv1_bn (BatchNorma  (None, 6, 6, 728)   2912        ['block8_sepconv1[0][0]']        \n",
      " lization)                                                                                        \n",
      "                                                                                                  \n",
      " block8_sepconv2_act (Activatio  (None, 6, 6, 728)   0           ['block8_sepconv1_bn[0][0]']     \n",
      " n)                                                                                               \n",
      "                                                                                                  \n",
      " block8_sepconv2 (SeparableConv  (None, 6, 6, 728)   536536      ['block8_sepconv2_act[0][0]']    \n",
      " 2D)                                                                                              \n",
      "                                                                                                  \n",
      " block8_sepconv2_bn (BatchNorma  (None, 6, 6, 728)   2912        ['block8_sepconv2[0][0]']        \n",
      " lization)                                                                                        \n",
      "                                                                                                  \n",
      " block8_sepconv3_act (Activatio  (None, 6, 6, 728)   0           ['block8_sepconv2_bn[0][0]']     \n",
      " n)                                                                                               \n",
      "                                                                                                  \n",
      " block8_sepconv3 (SeparableConv  (None, 6, 6, 728)   536536      ['block8_sepconv3_act[0][0]']    \n",
      " 2D)                                                                                              \n",
      "                                                                                                  \n",
      " block8_sepconv3_bn (BatchNorma  (None, 6, 6, 728)   2912        ['block8_sepconv3[0][0]']        \n",
      " lization)                                                                                        \n",
      "                                                                                                  \n",
      " add_6 (Add)                    (None, 6, 6, 728)    0           ['block8_sepconv3_bn[0][0]',     \n",
      "                                                                  'add_5[0][0]']                  \n",
      "                                                                                                  \n",
      " block9_sepconv1_act (Activatio  (None, 6, 6, 728)   0           ['add_6[0][0]']                  \n",
      " n)                                                                                               \n",
      "                                                                                                  \n",
      " block9_sepconv1 (SeparableConv  (None, 6, 6, 728)   536536      ['block9_sepconv1_act[0][0]']    \n",
      " 2D)                                                                                              \n",
      "                                                                                                  \n",
      " block9_sepconv1_bn (BatchNorma  (None, 6, 6, 728)   2912        ['block9_sepconv1[0][0]']        \n",
      " lization)                                                                                        \n",
      "                                                                                                  \n",
      " block9_sepconv2_act (Activatio  (None, 6, 6, 728)   0           ['block9_sepconv1_bn[0][0]']     \n",
      " n)                                                                                               \n",
      "                                                                                                  \n",
      " block9_sepconv2 (SeparableConv  (None, 6, 6, 728)   536536      ['block9_sepconv2_act[0][0]']    \n",
      " 2D)                                                                                              \n",
      "                                                                                                  \n",
      " block9_sepconv2_bn (BatchNorma  (None, 6, 6, 728)   2912        ['block9_sepconv2[0][0]']        \n",
      " lization)                                                                                        \n",
      "                                                                                                  \n",
      " block9_sepconv3_act (Activatio  (None, 6, 6, 728)   0           ['block9_sepconv2_bn[0][0]']     \n",
      " n)                                                                                               \n",
      "                                                                                                  \n",
      " block9_sepconv3 (SeparableConv  (None, 6, 6, 728)   536536      ['block9_sepconv3_act[0][0]']    \n",
      " 2D)                                                                                              \n",
      "                                                                                                  \n",
      " block9_sepconv3_bn (BatchNorma  (None, 6, 6, 728)   2912        ['block9_sepconv3[0][0]']        \n",
      " lization)                                                                                        \n",
      "                                                                                                  \n",
      " add_7 (Add)                    (None, 6, 6, 728)    0           ['block9_sepconv3_bn[0][0]',     \n",
      "                                                                  'add_6[0][0]']                  \n",
      "                                                                                                  \n",
      " block10_sepconv1_act (Activati  (None, 6, 6, 728)   0           ['add_7[0][0]']                  \n",
      " on)                                                                                              \n",
      "                                                                                                  \n",
      " block10_sepconv1 (SeparableCon  (None, 6, 6, 728)   536536      ['block10_sepconv1_act[0][0]']   \n",
      " v2D)                                                                                             \n",
      "                                                                                                  \n",
      " block10_sepconv1_bn (BatchNorm  (None, 6, 6, 728)   2912        ['block10_sepconv1[0][0]']       \n",
      " alization)                                                                                       \n",
      "                                                                                                  \n",
      " block10_sepconv2_act (Activati  (None, 6, 6, 728)   0           ['block10_sepconv1_bn[0][0]']    \n",
      " on)                                                                                              \n",
      "                                                                                                  \n",
      " block10_sepconv2 (SeparableCon  (None, 6, 6, 728)   536536      ['block10_sepconv2_act[0][0]']   \n",
      " v2D)                                                                                             \n",
      "                                                                                                  \n",
      " block10_sepconv2_bn (BatchNorm  (None, 6, 6, 728)   2912        ['block10_sepconv2[0][0]']       \n",
      " alization)                                                                                       \n",
      "                                                                                                  \n",
      " block10_sepconv3_act (Activati  (None, 6, 6, 728)   0           ['block10_sepconv2_bn[0][0]']    \n",
      " on)                                                                                              \n",
      "                                                                                                  \n",
      " block10_sepconv3 (SeparableCon  (None, 6, 6, 728)   536536      ['block10_sepconv3_act[0][0]']   \n",
      " v2D)                                                                                             \n",
      "                                                                                                  \n",
      " block10_sepconv3_bn (BatchNorm  (None, 6, 6, 728)   2912        ['block10_sepconv3[0][0]']       \n",
      " alization)                                                                                       \n",
      "                                                                                                  \n",
      " add_8 (Add)                    (None, 6, 6, 728)    0           ['block10_sepconv3_bn[0][0]',    \n",
      "                                                                  'add_7[0][0]']                  \n",
      "                                                                                                  \n",
      " block11_sepconv1_act (Activati  (None, 6, 6, 728)   0           ['add_8[0][0]']                  \n",
      " on)                                                                                              \n",
      "                                                                                                  \n",
      " block11_sepconv1 (SeparableCon  (None, 6, 6, 728)   536536      ['block11_sepconv1_act[0][0]']   \n",
      " v2D)                                                                                             \n",
      "                                                                                                  \n",
      " block11_sepconv1_bn (BatchNorm  (None, 6, 6, 728)   2912        ['block11_sepconv1[0][0]']       \n",
      " alization)                                                                                       \n",
      "                                                                                                  \n",
      " block11_sepconv2_act (Activati  (None, 6, 6, 728)   0           ['block11_sepconv1_bn[0][0]']    \n",
      " on)                                                                                              \n",
      "                                                                                                  \n",
      " block11_sepconv2 (SeparableCon  (None, 6, 6, 728)   536536      ['block11_sepconv2_act[0][0]']   \n",
      " v2D)                                                                                             \n",
      "                                                                                                  \n",
      " block11_sepconv2_bn (BatchNorm  (None, 6, 6, 728)   2912        ['block11_sepconv2[0][0]']       \n",
      " alization)                                                                                       \n",
      "                                                                                                  \n",
      " block11_sepconv3_act (Activati  (None, 6, 6, 728)   0           ['block11_sepconv2_bn[0][0]']    \n",
      " on)                                                                                              \n",
      "                                                                                                  \n",
      " block11_sepconv3 (SeparableCon  (None, 6, 6, 728)   536536      ['block11_sepconv3_act[0][0]']   \n",
      " v2D)                                                                                             \n",
      "                                                                                                  \n",
      " block11_sepconv3_bn (BatchNorm  (None, 6, 6, 728)   2912        ['block11_sepconv3[0][0]']       \n",
      " alization)                                                                                       \n",
      "                                                                                                  \n",
      " add_9 (Add)                    (None, 6, 6, 728)    0           ['block11_sepconv3_bn[0][0]',    \n",
      "                                                                  'add_8[0][0]']                  \n",
      "                                                                                                  \n",
      " block12_sepconv1_act (Activati  (None, 6, 6, 728)   0           ['add_9[0][0]']                  \n",
      " on)                                                                                              \n",
      "                                                                                                  \n",
      " block12_sepconv1 (SeparableCon  (None, 6, 6, 728)   536536      ['block12_sepconv1_act[0][0]']   \n",
      " v2D)                                                                                             \n",
      "                                                                                                  \n",
      " block12_sepconv1_bn (BatchNorm  (None, 6, 6, 728)   2912        ['block12_sepconv1[0][0]']       \n",
      " alization)                                                                                       \n",
      "                                                                                                  \n",
      " block12_sepconv2_act (Activati  (None, 6, 6, 728)   0           ['block12_sepconv1_bn[0][0]']    \n",
      " on)                                                                                              \n",
      "                                                                                                  \n",
      " block12_sepconv2 (SeparableCon  (None, 6, 6, 728)   536536      ['block12_sepconv2_act[0][0]']   \n",
      " v2D)                                                                                             \n",
      "                                                                                                  \n",
      " block12_sepconv2_bn (BatchNorm  (None, 6, 6, 728)   2912        ['block12_sepconv2[0][0]']       \n",
      " alization)                                                                                       \n",
      "                                                                                                  \n",
      " block12_sepconv3_act (Activati  (None, 6, 6, 728)   0           ['block12_sepconv2_bn[0][0]']    \n",
      " on)                                                                                              \n",
      "                                                                                                  \n",
      " block12_sepconv3 (SeparableCon  (None, 6, 6, 728)   536536      ['block12_sepconv3_act[0][0]']   \n",
      " v2D)                                                                                             \n",
      "                                                                                                  \n",
      " block12_sepconv3_bn (BatchNorm  (None, 6, 6, 728)   2912        ['block12_sepconv3[0][0]']       \n",
      " alization)                                                                                       \n",
      "                                                                                                  \n",
      " add_10 (Add)                   (None, 6, 6, 728)    0           ['block12_sepconv3_bn[0][0]',    \n",
      "                                                                  'add_9[0][0]']                  \n",
      "                                                                                                  \n",
      " block13_sepconv1_act (Activati  (None, 6, 6, 728)   0           ['add_10[0][0]']                 \n",
      " on)                                                                                              \n",
      "                                                                                                  \n",
      " block13_sepconv1 (SeparableCon  (None, 6, 6, 728)   536536      ['block13_sepconv1_act[0][0]']   \n",
      " v2D)                                                                                             \n",
      "                                                                                                  \n",
      " block13_sepconv1_bn (BatchNorm  (None, 6, 6, 728)   2912        ['block13_sepconv1[0][0]']       \n",
      " alization)                                                                                       \n",
      "                                                                                                  \n",
      " block13_sepconv2_act (Activati  (None, 6, 6, 728)   0           ['block13_sepconv1_bn[0][0]']    \n",
      " on)                                                                                              \n",
      "                                                                                                  \n",
      " block13_sepconv2 (SeparableCon  (None, 6, 6, 1024)  752024      ['block13_sepconv2_act[0][0]']   \n",
      " v2D)                                                                                             \n",
      "                                                                                                  \n",
      " block13_sepconv2_bn (BatchNorm  (None, 6, 6, 1024)  4096        ['block13_sepconv2[0][0]']       \n",
      " alization)                                                                                       \n",
      "                                                                                                  \n",
      " conv2d_3 (Conv2D)              (None, 3, 3, 1024)   745472      ['add_10[0][0]']                 \n",
      "                                                                                                  \n",
      " block13_pool (MaxPooling2D)    (None, 3, 3, 1024)   0           ['block13_sepconv2_bn[0][0]']    \n",
      "                                                                                                  \n",
      " batch_normalization_3 (BatchNo  (None, 3, 3, 1024)  4096        ['conv2d_3[0][0]']               \n",
      " rmalization)                                                                                     \n",
      "                                                                                                  \n",
      " add_11 (Add)                   (None, 3, 3, 1024)   0           ['block13_pool[0][0]',           \n",
      "                                                                  'batch_normalization_3[0][0]']  \n",
      "                                                                                                  \n",
      " block14_sepconv1 (SeparableCon  (None, 3, 3, 1536)  1582080     ['add_11[0][0]']                 \n",
      " v2D)                                                                                             \n",
      "                                                                                                  \n",
      " block14_sepconv1_bn (BatchNorm  (None, 3, 3, 1536)  6144        ['block14_sepconv1[0][0]']       \n",
      " alization)                                                                                       \n",
      "                                                                                                  \n",
      " block14_sepconv1_act (Activati  (None, 3, 3, 1536)  0           ['block14_sepconv1_bn[0][0]']    \n",
      " on)                                                                                              \n",
      "                                                                                                  \n",
      " block14_sepconv2 (SeparableCon  (None, 3, 3, 2048)  3159552     ['block14_sepconv1_act[0][0]']   \n",
      " v2D)                                                                                             \n",
      "                                                                                                  \n",
      " block14_sepconv2_bn (BatchNorm  (None, 3, 3, 2048)  8192        ['block14_sepconv2[0][0]']       \n",
      " alization)                                                                                       \n",
      "                                                                                                  \n",
      " block14_sepconv2_act (Activati  (None, 3, 3, 2048)  0           ['block14_sepconv2_bn[0][0]']    \n",
      " on)                                                                                              \n",
      "                                                                                                  \n",
      "==================================================================================================\n",
      "Total params: 20,861,480\n",
      "Trainable params: 20,806,952\n",
      "Non-trainable params: 54,528\n",
      "__________________________________________________________________________________________________\n"
     ]
    }
   ]
  },
  {
   "cell_type": "code",
   "execution_count": 18,
   "outputs": [],
   "source": [
    "def scheduler(epoch, lr):\n",
    "   if epoch < 10:\n",
    "     return lr\n",
    "   else:\n",
    "     return lr * tf.math.exp(-0.1)"
   ],
   "metadata": {
    "collapsed": false,
    "pycharm": {
     "name": "#%%\n"
    }
   }
  },
  {
   "cell_type": "code",
   "execution_count": 19,
   "outputs": [],
   "source": [
    "from datetime import datetime\n",
    "\n",
    "def create_folders_and_callbacks(model_name):\n",
    "\n",
    "  exps_dir = os.path.join('data_augmentation_experiments')\n",
    "  if not os.path.exists(exps_dir):\n",
    "      os.makedirs(exps_dir)\n",
    "\n",
    "  now = datetime.now().strftime('%b%d_%H-%M-%S')\n",
    "\n",
    "  exp_dir = os.path.join(exps_dir, model_name + '_' + str(now))\n",
    "  if not os.path.exists(exp_dir):\n",
    "      os.makedirs(exp_dir)\n",
    "\n",
    "  callbacks = []\n",
    "\n",
    "  # Model checkpoint\n",
    "  # ----------------\n",
    "  ckpt_dir = os.path.join(exp_dir, 'ckpts')\n",
    "  if not os.path.exists(ckpt_dir):\n",
    "      os.makedirs(ckpt_dir)\n",
    "\n",
    "  ckpt_callback = tf.keras.callbacks.ModelCheckpoint(filepath=os.path.join(ckpt_dir, 'cp.ckpt'),\n",
    "                                                     save_weights_only=True, # True to save only weights\n",
    "                                                     save_best_only=False) # True to save only the best epoch\n",
    "  callbacks.append(ckpt_callback)\n",
    "\n",
    "  # Visualize Learning on Tensorboard\n",
    "  # ---------------------------------\n",
    "  tb_dir = os.path.join(exp_dir, 'tb_logs')\n",
    "  if not os.path.exists(tb_dir):\n",
    "      os.makedirs(tb_dir)\n",
    "\n",
    "  # By default shows losses and metrics for both training and validation\n",
    "  tb_callback = tf.keras.callbacks.TensorBoard(log_dir=tb_dir,\n",
    "                                               profile_batch=0,\n",
    "                                               histogram_freq=1)  # if > 0 (epochs) shows weights histograms\n",
    "  callbacks.append(tb_callback)\n",
    "\n",
    "  # Early Stopping\n",
    "  # --------------\n",
    "  es_callback = tf.keras.callbacks.EarlyStopping(monitor='val_accuracy', patience=10, restore_best_weights=True)\n",
    "  callbacks.append(es_callback)\n",
    "\n",
    "\n",
    "  LRS_callback = tf.keras.callbacks.LearningRateScheduler(scheduler)\n",
    "  callbacks.append(LRS_callback)\n",
    "\n",
    "  return callbacks"
   ],
   "metadata": {
    "collapsed": false,
    "pycharm": {
     "name": "#%%\n"
    }
   }
  },
  {
   "cell_type": "code",
   "metadata": {
    "id": "i-Mkoyd5_WU5",
    "colab": {
     "base_uri": "https://localhost:8080/"
    },
    "outputId": "7041e9b0-d8c0-41f2-effb-1053a856fc48"
   },
   "source": [
    "# Use the supernet as feature extractor\n",
    "supernet.trainable = False\n",
    "\n",
    "inputs = tfk.Input(shape=(96,96,3))\n",
    "x = supernet(inputs)\n",
    "x = tfkl.Flatten(name='Flattening')(x)\n",
    "#x = tfkl.Dropout(0.2, seed=seed)(x)\n",
    "\n",
    "x = tfkl.Dense(\n",
    "    256,\n",
    "    activation='relu',\n",
    "    kernel_initializer = tfk.initializers.HeUniform(seed))(x)\n",
    "#x = tfkl.Dropout(0.2, seed=seed)(x)\n",
    "x = tfkl.BatchNormalization()(x)\n",
    "x = tfkl.Dense(\n",
    "    128,\n",
    "    activation='relu',\n",
    "    kernel_initializer = tfk.initializers.HeUniform(seed))(x)\n",
    "x = tfkl.Dropout(0.1, seed=seed)(x)\n",
    "x = tfkl.BatchNormalization()(x)\n",
    "outputs = tfkl.Dense(\n",
    "    8,\n",
    "    activation='softmax',\n",
    "    kernel_initializer = tfk.initializers.GlorotUniform(seed))(x)\n",
    "\n",
    "\n",
    "# Connect input and output through the Model class\n",
    "tl_model = tfk.Model(inputs=inputs, outputs=outputs, name='model')\n",
    "\n",
    "# Compile the model\n",
    "tl_model.compile(loss=tfk.losses.CategoricalCrossentropy(), optimizer=tfk.optimizers.Adam(), metrics='accuracy')\n",
    "tl_model.summary()"
   ],
   "execution_count": 33,
   "outputs": [
    {
     "name": "stdout",
     "output_type": "stream",
     "text": [
      "Model: \"model\"\n",
      "_________________________________________________________________\n",
      " Layer (type)                Output Shape              Param #   \n",
      "=================================================================\n",
      " input_4 (InputLayer)        [(None, 96, 96, 3)]       0         \n",
      "                                                                 \n",
      " xception (Functional)       (None, 3, 3, 2048)        20861480  \n",
      "                                                                 \n",
      " Flattening (Flatten)        (None, 18432)             0         \n",
      "                                                                 \n",
      " dense_6 (Dense)             (None, 256)               4718848   \n",
      "                                                                 \n",
      " batch_normalization_4 (Batc  (None, 256)              1024      \n",
      " hNormalization)                                                 \n",
      "                                                                 \n",
      " dense_7 (Dense)             (None, 128)               32896     \n",
      "                                                                 \n",
      " dropout_4 (Dropout)         (None, 128)               0         \n",
      "                                                                 \n",
      " batch_normalization_5 (Batc  (None, 128)              512       \n",
      " hNormalization)                                                 \n",
      "                                                                 \n",
      " dense_8 (Dense)             (None, 8)                 1032      \n",
      "                                                                 \n",
      "=================================================================\n",
      "Total params: 25,615,792\n",
      "Trainable params: 4,753,544\n",
      "Non-trainable params: 20,862,248\n",
      "_________________________________________________________________\n"
     ]
    }
   ]
  },
  {
   "cell_type": "code",
   "metadata": {
    "id": "z-7i-2abn4Vd",
    "colab": {
     "base_uri": "https://localhost:8080/"
    },
    "outputId": "0d6c3d85-2ed6-43e8-d88e-9c67e39a45d3"
   },
   "source": [
    "aug_callbacks = create_folders_and_callbacks(model_name='CNN_Aug_Pre')\n",
    "\n",
    "# Train the model\n",
    "tl_history = tl_model.fit(\n",
    "    x = aug_train_gen,\n",
    "    batch_size = 32,\n",
    "    epochs = 200,\n",
    "    validation_data = valid_gen,\n",
    "    callbacks = aug_callbacks\n",
    ").history"
   ],
   "execution_count": 34,
   "outputs": [
    {
     "name": "stdout",
     "output_type": "stream",
     "text": [
      "Epoch 1/200\n",
      "177/177 [==============================] - 45s 224ms/step - loss: 1.8807 - accuracy: 0.3293 - val_loss: 2.0092 - val_accuracy: 0.3183 - lr: 0.0010\n",
      "Epoch 2/200\n",
      "177/177 [==============================] - 37s 207ms/step - loss: 1.7174 - accuracy: 0.3568 - val_loss: 1.7786 - val_accuracy: 0.3472 - lr: 0.0010\n",
      "Epoch 3/200\n",
      "177/177 [==============================] - 37s 207ms/step - loss: 1.6816 - accuracy: 0.3690 - val_loss: 1.7793 - val_accuracy: 0.3451 - lr: 0.0010\n",
      "Epoch 4/200\n",
      "177/177 [==============================] - 37s 208ms/step - loss: 1.6336 - accuracy: 0.3833 - val_loss: 1.6706 - val_accuracy: 0.3782 - lr: 0.0010\n",
      "Epoch 5/200\n",
      "177/177 [==============================] - 37s 207ms/step - loss: 1.6141 - accuracy: 0.3923 - val_loss: 1.8407 - val_accuracy: 0.3507 - lr: 0.0010\n",
      "Epoch 6/200\n",
      "177/177 [==============================] - 37s 207ms/step - loss: 1.5798 - accuracy: 0.4138 - val_loss: 2.0045 - val_accuracy: 0.3254 - lr: 0.0010\n",
      "Epoch 7/200\n",
      "177/177 [==============================] - 38s 212ms/step - loss: 1.5765 - accuracy: 0.4084 - val_loss: 1.7010 - val_accuracy: 0.3796 - lr: 0.0010\n",
      "Epoch 8/200\n",
      "177/177 [==============================] - 37s 207ms/step - loss: 1.5719 - accuracy: 0.4075 - val_loss: 1.9337 - val_accuracy: 0.3296 - lr: 0.0010\n",
      "Epoch 9/200\n",
      "177/177 [==============================] - 37s 208ms/step - loss: 1.5542 - accuracy: 0.4144 - val_loss: 1.8740 - val_accuracy: 0.3458 - lr: 0.0010\n",
      "Epoch 10/200\n",
      "177/177 [==============================] - 37s 208ms/step - loss: 1.5564 - accuracy: 0.4239 - val_loss: 1.6342 - val_accuracy: 0.3880 - lr: 0.0010\n",
      "Epoch 11/200\n",
      "177/177 [==============================] - 37s 209ms/step - loss: 1.5241 - accuracy: 0.4349 - val_loss: 1.6228 - val_accuracy: 0.4000 - lr: 9.0484e-04\n",
      "Epoch 12/200\n",
      "177/177 [==============================] - 37s 209ms/step - loss: 1.5387 - accuracy: 0.4230 - val_loss: 1.5580 - val_accuracy: 0.4239 - lr: 8.1873e-04\n",
      "Epoch 13/200\n",
      "177/177 [==============================] - 37s 208ms/step - loss: 1.5053 - accuracy: 0.4361 - val_loss: 1.6436 - val_accuracy: 0.3894 - lr: 7.4082e-04\n",
      "Epoch 14/200\n",
      "177/177 [==============================] - 37s 209ms/step - loss: 1.5115 - accuracy: 0.4288 - val_loss: 1.6101 - val_accuracy: 0.4056 - lr: 6.7032e-04\n",
      "Epoch 15/200\n",
      "177/177 [==============================] - 37s 209ms/step - loss: 1.5007 - accuracy: 0.4435 - val_loss: 1.8129 - val_accuracy: 0.3528 - lr: 6.0653e-04\n",
      "Epoch 16/200\n",
      "177/177 [==============================] - 37s 209ms/step - loss: 1.4864 - accuracy: 0.4488 - val_loss: 1.8028 - val_accuracy: 0.3627 - lr: 5.4881e-04\n",
      "Epoch 17/200\n",
      "177/177 [==============================] - 37s 208ms/step - loss: 1.4763 - accuracy: 0.4398 - val_loss: 1.8905 - val_accuracy: 0.3352 - lr: 4.9659e-04\n",
      "Epoch 18/200\n",
      "177/177 [==============================] - 37s 208ms/step - loss: 1.4701 - accuracy: 0.4463 - val_loss: 1.6409 - val_accuracy: 0.3880 - lr: 4.4933e-04\n",
      "Epoch 19/200\n",
      "177/177 [==============================] - 37s 208ms/step - loss: 1.4771 - accuracy: 0.4500 - val_loss: 1.6508 - val_accuracy: 0.3803 - lr: 4.0657e-04\n",
      "Epoch 20/200\n",
      "177/177 [==============================] - 37s 209ms/step - loss: 1.4508 - accuracy: 0.4582 - val_loss: 1.9140 - val_accuracy: 0.3655 - lr: 3.6788e-04\n",
      "Epoch 21/200\n",
      "177/177 [==============================] - 37s 209ms/step - loss: 1.4502 - accuracy: 0.4553 - val_loss: 1.6751 - val_accuracy: 0.3937 - lr: 3.3287e-04\n",
      "Epoch 22/200\n",
      "177/177 [==============================] - 37s 210ms/step - loss: 1.4598 - accuracy: 0.4564 - val_loss: 1.6742 - val_accuracy: 0.3965 - lr: 3.0119e-04\n"
     ]
    }
   ]
  },
  {
   "cell_type": "code",
   "source": [
    "# Save the best model\n",
    "\n",
    "tl_model.save('TransferLearningModel_Ex')\n"
   ],
   "metadata": {
    "colab": {
     "base_uri": "https://localhost:8080/"
    },
    "id": "8eRHAdZc7HPt",
    "outputId": "cba205a9-22b5-456e-f15b-84c3c454e880"
   },
   "execution_count": 35,
   "outputs": [
    {
     "name": "stderr",
     "output_type": "stream",
     "text": [
      "WARNING:absl:Found untraced functions such as _jit_compiled_convolution_op, _jit_compiled_convolution_op, _jit_compiled_convolution_op, _jit_compiled_convolution_op, _jit_compiled_convolution_op while saving (showing 5 of 40). These functions will not be directly callable after loading.\n"
     ]
    }
   ]
  },
  {
   "cell_type": "code",
   "source": [
    "model_aug = tfk.models.load_model(\"TransferLearningModel_Ex\")\n",
    "model_aug_test_metrics = model_aug.evaluate(test_gen, return_dict=True)\n",
    "\n",
    "print()\n",
    "print(\"Test metrics with VGG\")\n",
    "print(model_aug_test_metrics)"
   ],
   "metadata": {
    "colab": {
     "base_uri": "https://localhost:8080/"
    },
    "id": "lMeQnjqJ4q9O",
    "outputId": "d3da4d67-3d31-4d86-acc5-81c2931adcba"
   },
   "execution_count": 37,
   "outputs": [
    {
     "name": "stdout",
     "output_type": "stream",
     "text": [
      "12/12 [==============================] - 4s 243ms/step - loss: 1.2334 - accuracy: 0.5691\n",
      "\n",
      "Test metrics with VGG\n",
      "{'loss': 1.2334476709365845, 'accuracy': 0.569060742855072}\n"
     ]
    }
   ]
  },
  {
   "cell_type": "markdown",
   "metadata": {
    "id": "OBwf91PEfcJ_"
   },
   "source": [
    "### Fine tuning"
   ]
  },
  {
   "cell_type": "code",
   "metadata": {
    "id": "PfPJePumjRjp",
    "colab": {
     "base_uri": "https://localhost:8080/"
    },
    "outputId": "5ea94f5b-f228-4572-c43c-0934a75d4e2b"
   },
   "source": [
    "# Re-load the model after transfer learning\n",
    "ft_model = tfk.models.load_model('TransferLearningModel_Ex')\n",
    "ft_model.summary()"
   ],
   "execution_count": 36,
   "outputs": [
    {
     "name": "stdout",
     "output_type": "stream",
     "text": [
      "Model: \"model\"\n",
      "_________________________________________________________________\n",
      " Layer (type)                Output Shape              Param #   \n",
      "=================================================================\n",
      " input_4 (InputLayer)        [(None, 96, 96, 3)]       0         \n",
      "                                                                 \n",
      " xception (Functional)       (None, 3, 3, 2048)        20861480  \n",
      "                                                                 \n",
      " Flattening (Flatten)        (None, 18432)             0         \n",
      "                                                                 \n",
      " dense_6 (Dense)             (None, 256)               4718848   \n",
      "                                                                 \n",
      " batch_normalization_4 (Batc  (None, 256)              1024      \n",
      " hNormalization)                                                 \n",
      "                                                                 \n",
      " dense_7 (Dense)             (None, 128)               32896     \n",
      "                                                                 \n",
      " dropout_4 (Dropout)         (None, 128)               0         \n",
      "                                                                 \n",
      " batch_normalization_5 (Batc  (None, 128)              512       \n",
      " hNormalization)                                                 \n",
      "                                                                 \n",
      " dense_8 (Dense)             (None, 8)                 1032      \n",
      "                                                                 \n",
      "=================================================================\n",
      "Total params: 25,615,792\n",
      "Trainable params: 4,753,544\n",
      "Non-trainable params: 20,862,248\n",
      "_________________________________________________________________\n"
     ]
    }
   ]
  },
  {
   "cell_type": "code",
   "metadata": {
    "id": "2zjBB3hO_OSI",
    "colab": {
     "base_uri": "https://localhost:8080/"
    },
    "outputId": "037578a3-eb6a-4d68-bce4-b5a99143a895"
   },
   "source": [
    "# Set all VGG layers to True\n",
    "ft_model.get_layer('xception').trainable = True\n",
    "for i, layer in enumerate(ft_model.get_layer('xception').layers):\n",
    "   print(i, layer.name, layer.trainable)"
   ],
   "execution_count": 37,
   "outputs": [
    {
     "name": "stdout",
     "output_type": "stream",
     "text": [
      "0 input_1 True\n",
      "1 block1_conv1 True\n",
      "2 block1_conv1_bn True\n",
      "3 block1_conv1_act True\n",
      "4 block1_conv2 True\n",
      "5 block1_conv2_bn True\n",
      "6 block1_conv2_act True\n",
      "7 block2_sepconv1 True\n",
      "8 block2_sepconv1_bn True\n",
      "9 block2_sepconv2_act True\n",
      "10 block2_sepconv2 True\n",
      "11 block2_sepconv2_bn True\n",
      "12 conv2d True\n",
      "13 block2_pool True\n",
      "14 batch_normalization True\n",
      "15 add True\n",
      "16 block3_sepconv1_act True\n",
      "17 block3_sepconv1 True\n",
      "18 block3_sepconv1_bn True\n",
      "19 block3_sepconv2_act True\n",
      "20 block3_sepconv2 True\n",
      "21 block3_sepconv2_bn True\n",
      "22 conv2d_1 True\n",
      "23 block3_pool True\n",
      "24 batch_normalization_1 True\n",
      "25 add_1 True\n",
      "26 block4_sepconv1_act True\n",
      "27 block4_sepconv1 True\n",
      "28 block4_sepconv1_bn True\n",
      "29 block4_sepconv2_act True\n",
      "30 block4_sepconv2 True\n",
      "31 block4_sepconv2_bn True\n",
      "32 conv2d_2 True\n",
      "33 block4_pool True\n",
      "34 batch_normalization_2 True\n",
      "35 add_2 True\n",
      "36 block5_sepconv1_act True\n",
      "37 block5_sepconv1 True\n",
      "38 block5_sepconv1_bn True\n",
      "39 block5_sepconv2_act True\n",
      "40 block5_sepconv2 True\n",
      "41 block5_sepconv2_bn True\n",
      "42 block5_sepconv3_act True\n",
      "43 block5_sepconv3 True\n",
      "44 block5_sepconv3_bn True\n",
      "45 add_3 True\n",
      "46 block6_sepconv1_act True\n",
      "47 block6_sepconv1 True\n",
      "48 block6_sepconv1_bn True\n",
      "49 block6_sepconv2_act True\n",
      "50 block6_sepconv2 True\n",
      "51 block6_sepconv2_bn True\n",
      "52 block6_sepconv3_act True\n",
      "53 block6_sepconv3 True\n",
      "54 block6_sepconv3_bn True\n",
      "55 add_4 True\n",
      "56 block7_sepconv1_act True\n",
      "57 block7_sepconv1 True\n",
      "58 block7_sepconv1_bn True\n",
      "59 block7_sepconv2_act True\n",
      "60 block7_sepconv2 True\n",
      "61 block7_sepconv2_bn True\n",
      "62 block7_sepconv3_act True\n",
      "63 block7_sepconv3 True\n",
      "64 block7_sepconv3_bn True\n",
      "65 add_5 True\n",
      "66 block8_sepconv1_act True\n",
      "67 block8_sepconv1 True\n",
      "68 block8_sepconv1_bn True\n",
      "69 block8_sepconv2_act True\n",
      "70 block8_sepconv2 True\n",
      "71 block8_sepconv2_bn True\n",
      "72 block8_sepconv3_act True\n",
      "73 block8_sepconv3 True\n",
      "74 block8_sepconv3_bn True\n",
      "75 add_6 True\n",
      "76 block9_sepconv1_act True\n",
      "77 block9_sepconv1 True\n",
      "78 block9_sepconv1_bn True\n",
      "79 block9_sepconv2_act True\n",
      "80 block9_sepconv2 True\n",
      "81 block9_sepconv2_bn True\n",
      "82 block9_sepconv3_act True\n",
      "83 block9_sepconv3 True\n",
      "84 block9_sepconv3_bn True\n",
      "85 add_7 True\n",
      "86 block10_sepconv1_act True\n",
      "87 block10_sepconv1 True\n",
      "88 block10_sepconv1_bn True\n",
      "89 block10_sepconv2_act True\n",
      "90 block10_sepconv2 True\n",
      "91 block10_sepconv2_bn True\n",
      "92 block10_sepconv3_act True\n",
      "93 block10_sepconv3 True\n",
      "94 block10_sepconv3_bn True\n",
      "95 add_8 True\n",
      "96 block11_sepconv1_act True\n",
      "97 block11_sepconv1 True\n",
      "98 block11_sepconv1_bn True\n",
      "99 block11_sepconv2_act True\n",
      "100 block11_sepconv2 True\n",
      "101 block11_sepconv2_bn True\n",
      "102 block11_sepconv3_act True\n",
      "103 block11_sepconv3 True\n",
      "104 block11_sepconv3_bn True\n",
      "105 add_9 True\n",
      "106 block12_sepconv1_act True\n",
      "107 block12_sepconv1 True\n",
      "108 block12_sepconv1_bn True\n",
      "109 block12_sepconv2_act True\n",
      "110 block12_sepconv2 True\n",
      "111 block12_sepconv2_bn True\n",
      "112 block12_sepconv3_act True\n",
      "113 block12_sepconv3 True\n",
      "114 block12_sepconv3_bn True\n",
      "115 add_10 True\n",
      "116 block13_sepconv1_act True\n",
      "117 block13_sepconv1 True\n",
      "118 block13_sepconv1_bn True\n",
      "119 block13_sepconv2_act True\n",
      "120 block13_sepconv2 True\n",
      "121 block13_sepconv2_bn True\n",
      "122 conv2d_3 True\n",
      "123 block13_pool True\n",
      "124 batch_normalization_3 True\n",
      "125 add_11 True\n",
      "126 block14_sepconv1 True\n",
      "127 block14_sepconv1_bn True\n",
      "128 block14_sepconv1_act True\n",
      "129 block14_sepconv2 True\n",
      "130 block14_sepconv2_bn True\n",
      "131 block14_sepconv2_act True\n"
     ]
    }
   ]
  },
  {
   "cell_type": "code",
   "metadata": {
    "id": "uKb0_D2tCSrZ",
    "colab": {
     "base_uri": "https://localhost:8080/"
    },
    "outputId": "f24e54fc-0725-443a-ec5a-47b520bfe8ac"
   },
   "source": [
    "# Freeze first N layers, e.g., until 14th\n",
    "for i, layer in enumerate(ft_model.get_layer('xception').layers[:40]):\n",
    "  layer.trainable=False\n",
    "for i, layer in enumerate(ft_model.get_layer('xception').layers):\n",
    "   print(i, layer.name, layer.trainable)\n",
    "ft_model.summary()"
   ],
   "execution_count": 38,
   "outputs": [
    {
     "name": "stdout",
     "output_type": "stream",
     "text": [
      "0 input_1 False\n",
      "1 block1_conv1 False\n",
      "2 block1_conv1_bn False\n",
      "3 block1_conv1_act False\n",
      "4 block1_conv2 False\n",
      "5 block1_conv2_bn False\n",
      "6 block1_conv2_act False\n",
      "7 block2_sepconv1 False\n",
      "8 block2_sepconv1_bn False\n",
      "9 block2_sepconv2_act False\n",
      "10 block2_sepconv2 False\n",
      "11 block2_sepconv2_bn False\n",
      "12 conv2d False\n",
      "13 block2_pool False\n",
      "14 batch_normalization False\n",
      "15 add False\n",
      "16 block3_sepconv1_act False\n",
      "17 block3_sepconv1 False\n",
      "18 block3_sepconv1_bn False\n",
      "19 block3_sepconv2_act False\n",
      "20 block3_sepconv2 False\n",
      "21 block3_sepconv2_bn False\n",
      "22 conv2d_1 False\n",
      "23 block3_pool False\n",
      "24 batch_normalization_1 False\n",
      "25 add_1 False\n",
      "26 block4_sepconv1_act False\n",
      "27 block4_sepconv1 False\n",
      "28 block4_sepconv1_bn False\n",
      "29 block4_sepconv2_act False\n",
      "30 block4_sepconv2 False\n",
      "31 block4_sepconv2_bn False\n",
      "32 conv2d_2 False\n",
      "33 block4_pool False\n",
      "34 batch_normalization_2 False\n",
      "35 add_2 False\n",
      "36 block5_sepconv1_act False\n",
      "37 block5_sepconv1 False\n",
      "38 block5_sepconv1_bn False\n",
      "39 block5_sepconv2_act False\n",
      "40 block5_sepconv2 True\n",
      "41 block5_sepconv2_bn True\n",
      "42 block5_sepconv3_act True\n",
      "43 block5_sepconv3 True\n",
      "44 block5_sepconv3_bn True\n",
      "45 add_3 True\n",
      "46 block6_sepconv1_act True\n",
      "47 block6_sepconv1 True\n",
      "48 block6_sepconv1_bn True\n",
      "49 block6_sepconv2_act True\n",
      "50 block6_sepconv2 True\n",
      "51 block6_sepconv2_bn True\n",
      "52 block6_sepconv3_act True\n",
      "53 block6_sepconv3 True\n",
      "54 block6_sepconv3_bn True\n",
      "55 add_4 True\n",
      "56 block7_sepconv1_act True\n",
      "57 block7_sepconv1 True\n",
      "58 block7_sepconv1_bn True\n",
      "59 block7_sepconv2_act True\n",
      "60 block7_sepconv2 True\n",
      "61 block7_sepconv2_bn True\n",
      "62 block7_sepconv3_act True\n",
      "63 block7_sepconv3 True\n",
      "64 block7_sepconv3_bn True\n",
      "65 add_5 True\n",
      "66 block8_sepconv1_act True\n",
      "67 block8_sepconv1 True\n",
      "68 block8_sepconv1_bn True\n",
      "69 block8_sepconv2_act True\n",
      "70 block8_sepconv2 True\n",
      "71 block8_sepconv2_bn True\n",
      "72 block8_sepconv3_act True\n",
      "73 block8_sepconv3 True\n",
      "74 block8_sepconv3_bn True\n",
      "75 add_6 True\n",
      "76 block9_sepconv1_act True\n",
      "77 block9_sepconv1 True\n",
      "78 block9_sepconv1_bn True\n",
      "79 block9_sepconv2_act True\n",
      "80 block9_sepconv2 True\n",
      "81 block9_sepconv2_bn True\n",
      "82 block9_sepconv3_act True\n",
      "83 block9_sepconv3 True\n",
      "84 block9_sepconv3_bn True\n",
      "85 add_7 True\n",
      "86 block10_sepconv1_act True\n",
      "87 block10_sepconv1 True\n",
      "88 block10_sepconv1_bn True\n",
      "89 block10_sepconv2_act True\n",
      "90 block10_sepconv2 True\n",
      "91 block10_sepconv2_bn True\n",
      "92 block10_sepconv3_act True\n",
      "93 block10_sepconv3 True\n",
      "94 block10_sepconv3_bn True\n",
      "95 add_8 True\n",
      "96 block11_sepconv1_act True\n",
      "97 block11_sepconv1 True\n",
      "98 block11_sepconv1_bn True\n",
      "99 block11_sepconv2_act True\n",
      "100 block11_sepconv2 True\n",
      "101 block11_sepconv2_bn True\n",
      "102 block11_sepconv3_act True\n",
      "103 block11_sepconv3 True\n",
      "104 block11_sepconv3_bn True\n",
      "105 add_9 True\n",
      "106 block12_sepconv1_act True\n",
      "107 block12_sepconv1 True\n",
      "108 block12_sepconv1_bn True\n",
      "109 block12_sepconv2_act True\n",
      "110 block12_sepconv2 True\n",
      "111 block12_sepconv2_bn True\n",
      "112 block12_sepconv3_act True\n",
      "113 block12_sepconv3 True\n",
      "114 block12_sepconv3_bn True\n",
      "115 add_10 True\n",
      "116 block13_sepconv1_act True\n",
      "117 block13_sepconv1 True\n",
      "118 block13_sepconv1_bn True\n",
      "119 block13_sepconv2_act True\n",
      "120 block13_sepconv2 True\n",
      "121 block13_sepconv2_bn True\n",
      "122 conv2d_3 True\n",
      "123 block13_pool True\n",
      "124 batch_normalization_3 True\n",
      "125 add_11 True\n",
      "126 block14_sepconv1 True\n",
      "127 block14_sepconv1_bn True\n",
      "128 block14_sepconv1_act True\n",
      "129 block14_sepconv2 True\n",
      "130 block14_sepconv2_bn True\n",
      "131 block14_sepconv2_act True\n",
      "Model: \"model\"\n",
      "_________________________________________________________________\n",
      " Layer (type)                Output Shape              Param #   \n",
      "=================================================================\n",
      " input_4 (InputLayer)        [(None, 96, 96, 3)]       0         \n",
      "                                                                 \n",
      " xception (Functional)       (None, 3, 3, 2048)        20861480  \n",
      "                                                                 \n",
      " Flattening (Flatten)        (None, 18432)             0         \n",
      "                                                                 \n",
      " dense_6 (Dense)             (None, 256)               4718848   \n",
      "                                                                 \n",
      " batch_normalization_4 (Batc  (None, 256)              1024      \n",
      " hNormalization)                                                 \n",
      "                                                                 \n",
      " dense_7 (Dense)             (None, 128)               32896     \n",
      "                                                                 \n",
      " dropout_4 (Dropout)         (None, 128)               0         \n",
      "                                                                 \n",
      " batch_normalization_5 (Batc  (None, 128)              512       \n",
      " hNormalization)                                                 \n",
      "                                                                 \n",
      " dense_8 (Dense)             (None, 8)                 1032      \n",
      "                                                                 \n",
      "=================================================================\n",
      "Total params: 25,615,792\n",
      "Trainable params: 23,915,744\n",
      "Non-trainable params: 1,700,048\n",
      "_________________________________________________________________\n"
     ]
    }
   ]
  },
  {
   "cell_type": "code",
   "metadata": {
    "id": "Kb3wq2DNFgCZ"
   },
   "source": [
    "# Compile the model\n",
    "ft_model.compile(loss=tfk.losses.CategoricalCrossentropy(), optimizer=tfk.optimizers.Adam(), metrics='accuracy')"
   ],
   "execution_count": 39,
   "outputs": []
  },
  {
   "cell_type": "code",
   "metadata": {
    "id": "gReRof3iferf",
    "colab": {
     "base_uri": "https://localhost:8080/"
    },
    "outputId": "9a9c0780-a46b-4d4f-b07d-1f7a6718b56b"
   },
   "source": [
    "# Fine-tune the model\n",
    "ft_history = ft_model.fit(\n",
    "    x = aug_train_gen,\n",
    "    batch_size = 32,\n",
    "    epochs = 200,\n",
    "    validation_data = valid_gen,\n",
    "    callbacks = aug_callbacks\n",
    ").history"
   ],
   "execution_count": 40,
   "outputs": [
    {
     "name": "stdout",
     "output_type": "stream",
     "text": [
      "Epoch 1/200\n",
      "177/177 [==============================] - 79s 413ms/step - loss: 1.6734 - accuracy: 0.3671 - val_loss: 2.0858 - val_accuracy: 0.2761 - lr: 0.0010\n",
      "Epoch 2/200\n",
      "177/177 [==============================] - 71s 402ms/step - loss: 1.4537 - accuracy: 0.4539 - val_loss: 2.4728 - val_accuracy: 0.3331 - lr: 0.0010\n",
      "Epoch 3/200\n",
      "177/177 [==============================] - 68s 386ms/step - loss: 1.3880 - accuracy: 0.4839 - val_loss: 2.2696 - val_accuracy: 0.3387 - lr: 0.0010\n",
      "Epoch 4/200\n",
      "177/177 [==============================] - 68s 386ms/step - loss: 1.3387 - accuracy: 0.5230 - val_loss: 2.2125 - val_accuracy: 0.3901 - lr: 0.0010\n",
      "Epoch 5/200\n",
      "177/177 [==============================] - 70s 394ms/step - loss: 1.2705 - accuracy: 0.5351 - val_loss: 3.8381 - val_accuracy: 0.2394 - lr: 0.0010\n",
      "Epoch 6/200\n",
      "177/177 [==============================] - 70s 396ms/step - loss: 1.2527 - accuracy: 0.5514 - val_loss: 1.5071 - val_accuracy: 0.4634 - lr: 0.0010\n",
      "Epoch 7/200\n",
      "177/177 [==============================] - 68s 385ms/step - loss: 1.2230 - accuracy: 0.5477 - val_loss: 1.9098 - val_accuracy: 0.4183 - lr: 0.0010\n",
      "Epoch 8/200\n",
      "177/177 [==============================] - 68s 387ms/step - loss: 1.1990 - accuracy: 0.5609 - val_loss: 1.5473 - val_accuracy: 0.4739 - lr: 0.0010\n",
      "Epoch 9/200\n",
      "177/177 [==============================] - 68s 383ms/step - loss: 1.1655 - accuracy: 0.5786 - val_loss: 1.9708 - val_accuracy: 0.4317 - lr: 0.0010\n",
      "Epoch 10/200\n",
      "177/177 [==============================] - 68s 386ms/step - loss: 1.1689 - accuracy: 0.5856 - val_loss: 1.4971 - val_accuracy: 0.5183 - lr: 0.0010\n",
      "Epoch 11/200\n",
      "177/177 [==============================] - 70s 394ms/step - loss: 1.1209 - accuracy: 0.5932 - val_loss: 1.3948 - val_accuracy: 0.5296 - lr: 9.0484e-04\n",
      "Epoch 12/200\n",
      "177/177 [==============================] - 68s 384ms/step - loss: 1.0858 - accuracy: 0.5973 - val_loss: 2.1354 - val_accuracy: 0.4232 - lr: 8.1873e-04\n",
      "Epoch 13/200\n",
      "177/177 [==============================] - 68s 385ms/step - loss: 1.0626 - accuracy: 0.6141 - val_loss: 1.8911 - val_accuracy: 0.4155 - lr: 7.4082e-04\n",
      "Epoch 14/200\n",
      "177/177 [==============================] - 68s 384ms/step - loss: 1.0424 - accuracy: 0.6202 - val_loss: 1.5034 - val_accuracy: 0.5070 - lr: 6.7032e-04\n",
      "Epoch 15/200\n",
      "177/177 [==============================] - 68s 385ms/step - loss: 1.0341 - accuracy: 0.6185 - val_loss: 1.4569 - val_accuracy: 0.5683 - lr: 6.0653e-04\n",
      "Epoch 16/200\n",
      "177/177 [==============================] - 68s 384ms/step - loss: 1.0113 - accuracy: 0.6384 - val_loss: 1.3835 - val_accuracy: 0.5232 - lr: 5.4881e-04\n",
      "Epoch 17/200\n",
      "177/177 [==============================] - 68s 384ms/step - loss: 0.9738 - accuracy: 0.6448 - val_loss: 1.3081 - val_accuracy: 0.5507 - lr: 4.9659e-04\n",
      "Epoch 18/200\n",
      "177/177 [==============================] - 68s 386ms/step - loss: 0.9618 - accuracy: 0.6504 - val_loss: 1.1796 - val_accuracy: 0.5944 - lr: 4.4933e-04\n",
      "Epoch 19/200\n",
      "177/177 [==============================] - 68s 383ms/step - loss: 0.9458 - accuracy: 0.6564 - val_loss: 1.1335 - val_accuracy: 0.6007 - lr: 4.0657e-04\n",
      "Epoch 20/200\n",
      "177/177 [==============================] - 70s 393ms/step - loss: 0.9265 - accuracy: 0.6557 - val_loss: 1.2049 - val_accuracy: 0.5669 - lr: 3.6788e-04\n",
      "Epoch 21/200\n",
      "177/177 [==============================] - 65s 369ms/step - loss: 0.9115 - accuracy: 0.6683 - val_loss: 1.0815 - val_accuracy: 0.6148 - lr: 3.3287e-04\n",
      "Epoch 22/200\n",
      "177/177 [==============================] - 65s 366ms/step - loss: 0.8794 - accuracy: 0.6767 - val_loss: 1.1300 - val_accuracy: 0.5958 - lr: 3.0119e-04\n",
      "Epoch 23/200\n",
      "177/177 [==============================] - 65s 365ms/step - loss: 0.8567 - accuracy: 0.6799 - val_loss: 1.4624 - val_accuracy: 0.5444 - lr: 2.7253e-04\n",
      "Epoch 24/200\n",
      "177/177 [==============================] - 65s 366ms/step - loss: 0.8597 - accuracy: 0.6912 - val_loss: 1.2750 - val_accuracy: 0.5634 - lr: 2.4660e-04\n",
      "Epoch 25/200\n",
      "177/177 [==============================] - 65s 368ms/step - loss: 0.8404 - accuracy: 0.6898 - val_loss: 1.0346 - val_accuracy: 0.6232 - lr: 2.2313e-04\n",
      "Epoch 26/200\n",
      "177/177 [==============================] - 65s 368ms/step - loss: 0.8368 - accuracy: 0.6992 - val_loss: 1.1829 - val_accuracy: 0.6049 - lr: 2.0190e-04\n",
      "Epoch 27/200\n",
      "177/177 [==============================] - 65s 366ms/step - loss: 0.8341 - accuracy: 0.6912 - val_loss: 1.3145 - val_accuracy: 0.5676 - lr: 1.8268e-04\n",
      "Epoch 28/200\n",
      "177/177 [==============================] - 65s 366ms/step - loss: 0.7989 - accuracy: 0.7099 - val_loss: 1.2497 - val_accuracy: 0.6035 - lr: 1.6530e-04\n",
      "Epoch 29/200\n",
      "177/177 [==============================] - 65s 366ms/step - loss: 0.7901 - accuracy: 0.7087 - val_loss: 1.1993 - val_accuracy: 0.5725 - lr: 1.4957e-04\n",
      "Epoch 30/200\n",
      "177/177 [==============================] - 66s 374ms/step - loss: 0.8039 - accuracy: 0.7099 - val_loss: 1.1117 - val_accuracy: 0.6176 - lr: 1.3534e-04\n",
      "Epoch 31/200\n",
      "177/177 [==============================] - 65s 366ms/step - loss: 0.7916 - accuracy: 0.7099 - val_loss: 1.1614 - val_accuracy: 0.6099 - lr: 1.2246e-04\n",
      "Epoch 32/200\n",
      "177/177 [==============================] - 65s 367ms/step - loss: 0.7699 - accuracy: 0.7186 - val_loss: 1.0985 - val_accuracy: 0.6120 - lr: 1.1080e-04\n",
      "Epoch 33/200\n",
      "177/177 [==============================] - 65s 369ms/step - loss: 0.7637 - accuracy: 0.7186 - val_loss: 0.9969 - val_accuracy: 0.6500 - lr: 1.0026e-04\n",
      "Epoch 34/200\n",
      "177/177 [==============================] - 65s 367ms/step - loss: 0.7609 - accuracy: 0.7242 - val_loss: 1.1852 - val_accuracy: 0.6063 - lr: 9.0718e-05\n",
      "Epoch 35/200\n",
      "177/177 [==============================] - 65s 367ms/step - loss: 0.7488 - accuracy: 0.7285 - val_loss: 1.0519 - val_accuracy: 0.6359 - lr: 8.2085e-05\n",
      "Epoch 36/200\n",
      "177/177 [==============================] - 65s 367ms/step - loss: 0.7497 - accuracy: 0.7240 - val_loss: 1.1841 - val_accuracy: 0.5965 - lr: 7.4274e-05\n",
      "Epoch 37/200\n",
      "177/177 [==============================] - 65s 367ms/step - loss: 0.7414 - accuracy: 0.7283 - val_loss: 1.0951 - val_accuracy: 0.6254 - lr: 6.7206e-05\n",
      "Epoch 38/200\n",
      "177/177 [==============================] - 65s 368ms/step - loss: 0.7203 - accuracy: 0.7353 - val_loss: 0.9232 - val_accuracy: 0.6732 - lr: 6.0810e-05\n",
      "Epoch 39/200\n",
      "177/177 [==============================] - 65s 367ms/step - loss: 0.7337 - accuracy: 0.7304 - val_loss: 1.0833 - val_accuracy: 0.6282 - lr: 5.5023e-05\n",
      "Epoch 40/200\n",
      "177/177 [==============================] - 65s 367ms/step - loss: 0.7160 - accuracy: 0.7313 - val_loss: 1.0362 - val_accuracy: 0.6458 - lr: 4.9787e-05\n",
      "Epoch 41/200\n",
      "177/177 [==============================] - 65s 367ms/step - loss: 0.7014 - accuracy: 0.7421 - val_loss: 1.0626 - val_accuracy: 0.6345 - lr: 4.5049e-05\n",
      "Epoch 42/200\n",
      "177/177 [==============================] - 65s 367ms/step - loss: 0.7141 - accuracy: 0.7391 - val_loss: 1.1236 - val_accuracy: 0.6155 - lr: 4.0762e-05\n",
      "Epoch 43/200\n",
      "177/177 [==============================] - 65s 366ms/step - loss: 0.7089 - accuracy: 0.7445 - val_loss: 0.9889 - val_accuracy: 0.6451 - lr: 3.6883e-05\n",
      "Epoch 44/200\n",
      "177/177 [==============================] - 65s 366ms/step - loss: 0.7053 - accuracy: 0.7436 - val_loss: 1.0790 - val_accuracy: 0.6254 - lr: 3.3373e-05\n",
      "Epoch 45/200\n",
      "177/177 [==============================] - 65s 367ms/step - loss: 0.6911 - accuracy: 0.7424 - val_loss: 1.0832 - val_accuracy: 0.6324 - lr: 3.0197e-05\n",
      "Epoch 46/200\n",
      "177/177 [==============================] - 65s 367ms/step - loss: 0.7095 - accuracy: 0.7405 - val_loss: 0.9870 - val_accuracy: 0.6500 - lr: 2.7324e-05\n",
      "Epoch 47/200\n",
      "177/177 [==============================] - 65s 367ms/step - loss: 0.6969 - accuracy: 0.7452 - val_loss: 1.0411 - val_accuracy: 0.6380 - lr: 2.4724e-05\n",
      "Epoch 48/200\n",
      "177/177 [==============================] - 65s 367ms/step - loss: 0.6774 - accuracy: 0.7549 - val_loss: 0.9995 - val_accuracy: 0.6535 - lr: 2.2371e-05\n"
     ]
    }
   ]
  },
  {
   "cell_type": "code",
   "metadata": {
    "id": "YEJT9OVttR0C",
    "colab": {
     "base_uri": "https://localhost:8080/"
    },
    "outputId": "da5ce4b7-98f8-4837-ad02-889b7f1fca50"
   },
   "source": [
    "ft_model.save('FineTuningModel_Ex')\n",
    "del ft_model"
   ],
   "execution_count": 41,
   "outputs": [
    {
     "name": "stderr",
     "output_type": "stream",
     "text": [
      "WARNING:absl:Found untraced functions such as _jit_compiled_convolution_op, _jit_compiled_convolution_op, _jit_compiled_convolution_op, _jit_compiled_convolution_op, _jit_compiled_convolution_op while saving (showing 5 of 40). These functions will not be directly callable after loading.\n"
     ]
    }
   ]
  },
  {
   "cell_type": "code",
   "source": [
    "model_aug = tfk.models.load_model(\"FineTuningModel_Ex\")\n",
    "model_aug_test_metrics = model_aug.evaluate(test_gen, return_dict=True)\n",
    "\n",
    "print()\n",
    "print(\"Test metrics with VGG\")\n",
    "print(model_aug_test_metrics)"
   ],
   "metadata": {
    "colab": {
     "base_uri": "https://localhost:8080/"
    },
    "id": "aReSlV5R8CHS",
    "outputId": "654da637-be31-4726-b00f-548f904f9006"
   },
   "execution_count": 44,
   "outputs": [
    {
     "name": "stdout",
     "output_type": "stream",
     "text": [
      "12/12 [==============================] - 4s 222ms/step - loss: 0.6208 - accuracy: 0.7762\n",
      "\n",
      "Test metrics with VGG\n",
      "{'loss': 0.6208098530769348, 'accuracy': 0.7762430310249329}\n"
     ]
    }
   ]
  },
  {
   "cell_type": "code",
   "execution_count": 102,
   "outputs": [],
   "source": [],
   "metadata": {
    "collapsed": false,
    "pycharm": {
     "name": "#%%\n"
    }
   }
  }
 ]
}