{
 "cells": [
  {
   "cell_type": "code",
   "execution_count": 185,
   "metadata": {
    "collapsed": true,
    "id": "KNZotXHOapW8",
    "executionInfo": {
     "status": "ok",
     "timestamp": 1668429891880,
     "user_tz": -60,
     "elapsed": 4979,
     "user": {
      "displayName": "Nicola Cecere",
      "userId": "15930624256794819808"
     }
    }
   },
   "outputs": [],
   "source": [
    "import keras.models\n",
    "import tensorflow as tf\n",
    "import numpy as np\n",
    "import os\n",
    "import random\n",
    "import pandas as pd\n",
    "import seaborn as sns\n",
    "import matplotlib as mpl\n",
    "import matplotlib.pyplot as plt\n",
    "from sklearn.model_selection import train_test_split\n",
    "from sklearn.metrics import accuracy_score, f1_score, precision_score, recall_score\n",
    "from sklearn.metrics import confusion_matrix\n",
    "from PIL import Image\n",
    "\n",
    "tfk = tf.keras\n",
    "tfkl = tf.keras.layers"
   ]
  },
  {
   "cell_type": "code",
   "execution_count": 186,
   "outputs": [],
   "source": [
    "# Random seed for reproducibility\n",
    "seed = 42\n",
    "\n",
    "random.seed(seed)\n",
    "os.environ['PYTHONHASHSEED'] = str(seed)\n",
    "np.random.seed(seed)\n",
    "tf.random.set_seed(seed)\n",
    "tf.compat.v1.set_random_seed(seed)"
   ],
   "metadata": {
    "id": "CvMKuJH0apW-",
    "executionInfo": {
     "status": "ok",
     "timestamp": 1668429894425,
     "user_tz": -60,
     "elapsed": 308,
     "user": {
      "displayName": "Nicola Cecere",
      "userId": "15930624256794819808"
     }
    }
   }
  },
  {
   "cell_type": "code",
   "execution_count": 187,
   "outputs": [],
   "source": [
    "import warnings\n",
    "import logging\n",
    "\n",
    "os.environ['TF_CPP_MIN_LOG_LEVEL'] = '2'\n",
    "warnings.simplefilter(action='ignore', category=FutureWarning)\n",
    "warnings.simplefilter(action='ignore', category=Warning)\n",
    "tf.get_logger().setLevel('INFO')\n",
    "tf.autograph.set_verbosity(0)\n",
    "\n",
    "tf.get_logger().setLevel(logging.ERROR)\n",
    "tf.get_logger().setLevel('ERROR')\n",
    "tf.compat.v1.logging.set_verbosity(tf.compat.v1.logging.ERROR)"
   ],
   "metadata": {
    "id": "bQIJQdcCapW_",
    "executionInfo": {
     "status": "ok",
     "timestamp": 1668429898793,
     "user_tz": -60,
     "elapsed": 214,
     "user": {
      "displayName": "Nicola Cecere",
      "userId": "15930624256794819808"
     }
    }
   }
  },
  {
   "cell_type": "markdown",
   "source": [
    "## Data import"
   ],
   "metadata": {
    "collapsed": false,
    "id": "OSFbxo0DapXA"
   }
  },
  {
   "cell_type": "code",
   "execution_count": 188,
   "outputs": [],
   "source": [
    "dataset_dir = '/Users/nicolacecere/GitHub/Artificial-Neural-Networks-and-Deep-Learning/SplitData/data'\n",
    "training_dir = '/Users/nicolacecere/GitHub/Artificial-Neural-Networks-and-Deep-Learning/SplitData/data/training'\n",
    "validation_dir = '/Users/nicolacecere/GitHub/Artificial-Neural-Networks-and-Deep-Learning/SplitData/data/validation'\n",
    "test_dir = '/Users/nicolacecere/GitHub/Artificial-Neural-Networks-and-Deep-Learning/SplitData/data/test'"
   ],
   "metadata": {
    "id": "Jq6Y5CcYapXA",
    "executionInfo": {
     "status": "ok",
     "timestamp": 1668430262602,
     "user_tz": -60,
     "elapsed": 2,
     "user": {
      "displayName": "Nicola Cecere",
      "userId": "15930624256794819808"
     }
    }
   }
  },
  {
   "cell_type": "code",
   "execution_count": 189,
   "outputs": [
    {
     "name": "stdout",
     "output_type": "stream",
     "text": [
      "Found 2835 images belonging to 8 classes.\n",
      "Found 398 images belonging to 8 classes.\n",
      "Found 495 images belonging to 8 classes.\n"
     ]
    }
   ],
   "source": [
    "# Images are divided into folders, one for each class.\n",
    "# If the images are organized in such a way, we can exploit the\n",
    "# ImageDataGenerator to read them from disk.\n",
    "from tensorflow.keras.preprocessing.image import ImageDataGenerator\n",
    "\n",
    "# Create an instance of ImageDataGenerator for training, validation, and test sets\n",
    "train_data_gen = ImageDataGenerator(rescale = 1./255)\n",
    "valid_data_gen = ImageDataGenerator(rescale = 1./255)\n",
    "test_data_gen = ImageDataGenerator(rescale = 1./255)\n",
    "\n",
    "# Obtain a data generator with the 'ImageDataGenerator.flow_from_directory' method\n",
    "train_gen = train_data_gen.flow_from_directory(directory=training_dir,\n",
    "                                               target_size=(96,96),\n",
    "                                               color_mode='rgb',\n",
    "                                               classes=None, # can be set to labels\n",
    "                                               class_mode='categorical',\n",
    "                                               batch_size=32,\n",
    "                                               shuffle=True,\n",
    "                                               seed=seed\n",
    "                                               )\n",
    "valid_gen = train_data_gen.flow_from_directory(directory=validation_dir,\n",
    "                                               target_size=(96,96),\n",
    "                                               color_mode='rgb',\n",
    "                                               classes=None, # can be set to labels\n",
    "                                               class_mode='categorical',\n",
    "                                               batch_size=32,\n",
    "                                               shuffle=True,\n",
    "                                               seed=seed)\n",
    "test_gen = train_data_gen.flow_from_directory(directory=test_dir,\n",
    "                                              target_size=(96,96),\n",
    "                                              color_mode='rgb',\n",
    "                                              classes=None, # can be set to labels\n",
    "                                              class_mode='categorical',\n",
    "                                              batch_size=32,\n",
    "                                              shuffle=False,\n",
    "                                              seed=seed)"
   ],
   "metadata": {
    "id": "Jbjo4RcvapXC",
    "outputId": "147f6090-320c-4954-e997-0acf1aee2fd5",
    "colab": {
     "base_uri": "https://localhost:8080/"
    },
    "executionInfo": {
     "status": "ok",
     "timestamp": 1668430272236,
     "user_tz": -60,
     "elapsed": 6763,
     "user": {
      "displayName": "Nicola Cecere",
      "userId": "15930624256794819808"
     }
    }
   }
  },
  {
   "cell_type": "markdown",
   "source": [
    "## Augmentation"
   ],
   "metadata": {
    "collapsed": false,
    "id": "JVZpBO_bapXD"
   }
  },
  {
   "cell_type": "code",
   "execution_count": 191,
   "outputs": [
    {
     "data": {
      "text/plain": "<keras.preprocessing.image.ImageDataGenerator at 0x7fac0ea76fe0>"
     },
     "execution_count": 191,
     "metadata": {},
     "output_type": "execute_result"
    }
   ],
   "source": [
    "tf.keras.preprocessing.image.ImageDataGenerator(\n",
    "    featurewise_center=False, samplewise_center=False,\n",
    "    featurewise_std_normalization=False, samplewise_std_normalization=False,\n",
    "    zca_whitening=False, zca_epsilon=1e-06, rotation_range=0, width_shift_range=0.0,\n",
    "    height_shift_range=0.0, brightness_range=None, shear_range=0.0, zoom_range=0.0,\n",
    "    channel_shift_range=0.0, fill_mode='nearest', cval=0.0,\n",
    "    horizontal_flip=False, vertical_flip=False, rescale=None,\n",
    "    preprocessing_function=None, data_format=None, validation_split=0.0, dtype=None\n",
    ")"
   ],
   "metadata": {
    "id": "6YrWUsdmapXE",
    "outputId": "7d3549f0-1f80-4cbd-fa12-d7f941a79b80",
    "colab": {
     "base_uri": "https://localhost:8080/"
    },
    "executionInfo": {
     "status": "ok",
     "timestamp": 1668430277948,
     "user_tz": -60,
     "elapsed": 232,
     "user": {
      "displayName": "Nicola Cecere",
      "userId": "15930624256794819808"
     }
    }
   }
  },
  {
   "cell_type": "code",
   "execution_count": 222,
   "outputs": [
    {
     "name": "stdout",
     "output_type": "stream",
     "text": [
      "Found 2835 images belonging to 8 classes.\n"
     ]
    }
   ],
   "source": [
    "# Create an instance of ImageDataGenerator with Data Augmentation\n",
    "aug_train_data_gen = ImageDataGenerator(rotation_range=20,\n",
    "                                        horizontal_flip= True,\n",
    "                                        vertical_flip= True,\n",
    "                                        brightness_range=(0.6,1.4),\n",
    "                                        zoom_range=0.6,\n",
    "                                        fill_mode='nearest',\n",
    "                                        rescale=1./255) # rescale value is multiplied to the image\n",
    "\n",
    "# Obtain a data generator with the 'ImageDataGenerator.flow_from_directory' method\n",
    "aug_train_gen = aug_train_data_gen.flow_from_directory(directory=training_dir,\n",
    "                                                       target_size=(96,96),\n",
    "                                                       color_mode='rgb',\n",
    "                                                       classes=None, # can be set to labels\n",
    "                                                       class_mode='categorical',\n",
    "                                                       batch_size=32,\n",
    "                                                       shuffle=True,\n",
    "                                                       seed=seed)"
   ],
   "metadata": {
    "id": "ilLddj5LapXG",
    "outputId": "e2f49ece-7c0b-446c-e1a1-2ab420d4b4eb",
    "colab": {
     "base_uri": "https://localhost:8080/"
    },
    "executionInfo": {
     "status": "ok",
     "timestamp": 1668430279500,
     "user_tz": -60,
     "elapsed": 6,
     "user": {
      "displayName": "Nicola Cecere",
      "userId": "15930624256794819808"
     }
    }
   }
  },
  {
   "cell_type": "markdown",
   "source": [
    "## Model"
   ],
   "metadata": {
    "collapsed": false,
    "id": "4Gc1EGSbapXG"
   }
  },
  {
   "cell_type": "code",
   "execution_count": 223,
   "outputs": [],
   "source": [
    "input_shape = (96, 96, 3)\n",
    "epochs = 200"
   ],
   "metadata": {
    "id": "lvv6irhHapXH",
    "executionInfo": {
     "status": "ok",
     "timestamp": 1668430281738,
     "user_tz": -60,
     "elapsed": 1,
     "user": {
      "displayName": "Nicola Cecere",
      "userId": "15930624256794819808"
     }
    }
   }
  },
  {
   "cell_type": "code",
   "execution_count": 226,
   "outputs": [],
   "source": [
    "def build_model(input_shape):\n",
    "\n",
    "    # Build the neural network layer by layer\n",
    "    input_layer = tfkl.Input(shape=input_shape, name='input_layer')\n",
    "\n",
    "    conv1 = tfkl.Conv2D(\n",
    "        filters=32,\n",
    "        kernel_size=3,\n",
    "        padding = 'same',\n",
    "        activation = 'relu',\n",
    "        kernel_initializer = tfk.initializers.HeUniform(seed)\n",
    "    )(input_layer)\n",
    "    pool1 = tfkl.MaxPooling2D()(conv1)\n",
    "\n",
    "    conv2 = tfkl.Conv2D(\n",
    "        filters=64,\n",
    "        kernel_size=3,\n",
    "        padding = 'same',\n",
    "        activation = 'relu',\n",
    "        kernel_initializer = tfk.initializers.HeUniform(seed)\n",
    "    )(pool1)\n",
    "    pool2 = tfkl.MaxPooling2D()(conv2)\n",
    "\n",
    "    conv3 = tfkl.Conv2D(\n",
    "        filters=128,\n",
    "        kernel_size=3,\n",
    "        padding = 'same',\n",
    "        activation = 'relu',\n",
    "        kernel_initializer = tfk.initializers.HeUniform(seed)\n",
    "    )(pool2)\n",
    "    conv4 = tfkl.Conv2D(\n",
    "        filters=128,\n",
    "        kernel_size=3,\n",
    "        padding = 'same',\n",
    "        activation = 'relu',\n",
    "        kernel_initializer = tfk.initializers.HeUniform(seed)\n",
    "    )(conv3)\n",
    "    pool3 = tfkl.MaxPooling2D()(conv4)\n",
    "\n",
    "    conv5 = tfkl.Conv2D(\n",
    "        filters=256,\n",
    "        kernel_size=3,\n",
    "        padding = 'same',\n",
    "        activation = 'relu',\n",
    "        kernel_initializer = tfk.initializers.HeUniform(seed)\n",
    "    )(pool3)\n",
    "    pool4 = tfkl.MaxPooling2D()(conv5)\n",
    "\n",
    "    conv6 = tfkl.Conv2D(\n",
    "        filters=256,\n",
    "        kernel_size=3,\n",
    "        padding = 'same',\n",
    "        activation = 'relu',\n",
    "        kernel_initializer = tfk.initializers.HeUniform(seed)\n",
    "    )(pool4)\n",
    "    pool5 = tfkl.GlobalAveragePooling2D(name='gap')(conv6)\n",
    "\n",
    "    flattening_layer = tfkl.Flatten(name='Flatten')(pool5)\n",
    "    dropout = tfkl.Dropout(0.2, seed=seed)(flattening_layer)\n",
    "    classifier_layer = tfkl.Dense(units=256, name='Classifier', kernel_initializer=tfk.initializers.HeUniform(seed), activation='relu')(dropout)\n",
    "    dropout = tfkl.Dropout(0.2, seed=seed)(classifier_layer)\n",
    "    output_layer = tfkl.Dense(units=8, activation='softmax', kernel_initializer=tfk.initializers.GlorotUniform(seed), name='output_layer')(dropout)\n",
    "\n",
    "    # Connect input and output through the Model class\n",
    "    model = tfk.Model(inputs=input_layer, outputs=output_layer, name='model')\n",
    "\n",
    "    # Compile the model\n",
    "    model.compile(loss=tfk.losses.CategoricalCrossentropy(), optimizer=tfk.optimizers.Adam(), metrics='accuracy')\n",
    "\n",
    "    # Return the model\n",
    "    return model"
   ],
   "metadata": {
    "collapsed": false
   }
  },
  {
   "cell_type": "code",
   "execution_count": 227,
   "outputs": [],
   "source": [
    "from datetime import datetime\n",
    "\n",
    "def create_folders_and_callbacks(model_name):\n",
    "\n",
    "  exps_dir = os.path.join('data_augmentation_experiments')\n",
    "  if not os.path.exists(exps_dir):\n",
    "      os.makedirs(exps_dir)\n",
    "\n",
    "  now = datetime.now().strftime('%b%d_%H-%M-%S')\n",
    "\n",
    "  exp_dir = os.path.join(exps_dir, model_name + '_' + str(now))\n",
    "  if not os.path.exists(exp_dir):\n",
    "      os.makedirs(exp_dir)\n",
    "\n",
    "  callbacks = []\n",
    "\n",
    "  # Model checkpoint\n",
    "  # ----------------\n",
    "  ckpt_dir = os.path.join(exp_dir, 'ckpts')\n",
    "  if not os.path.exists(ckpt_dir):\n",
    "      os.makedirs(ckpt_dir)\n",
    "\n",
    "  ckpt_callback = tf.keras.callbacks.ModelCheckpoint(filepath=os.path.join(ckpt_dir, 'cp.ckpt'),\n",
    "                                                     save_weights_only=True, # True to save only weights\n",
    "                                                     save_best_only=False) # True to save only the best epoch\n",
    "  callbacks.append(ckpt_callback)\n",
    "\n",
    "  # Visualize Learning on Tensorboard\n",
    "  # ---------------------------------\n",
    "  tb_dir = os.path.join(exp_dir, 'tb_logs')\n",
    "  if not os.path.exists(tb_dir):\n",
    "      os.makedirs(tb_dir)\n",
    "\n",
    "  # By default shows losses and metrics for both training and validation\n",
    "  tb_callback = tf.keras.callbacks.TensorBoard(log_dir=tb_dir,\n",
    "                                               profile_batch=0,\n",
    "                                               histogram_freq=1)  # if > 0 (epochs) shows weights histograms\n",
    "  callbacks.append(tb_callback)\n",
    "\n",
    "  # Early Stopping\n",
    "  # --------------\n",
    "  es_callback = tf.keras.callbacks.EarlyStopping(monitor='val_accuracy', patience=10, restore_best_weights=True)\n",
    "  callbacks.append(es_callback)\n",
    "\n",
    "  return callbacks"
   ],
   "metadata": {
    "id": "QgDzFFTUapXH",
    "executionInfo": {
     "status": "ok",
     "timestamp": 1668430285936,
     "user_tz": -60,
     "elapsed": 204,
     "user": {
      "displayName": "Nicola Cecere",
      "userId": "15930624256794819808"
     }
    }
   }
  },
  {
   "cell_type": "code",
   "execution_count": 228,
   "outputs": [
    {
     "name": "stdout",
     "output_type": "stream",
     "text": [
      "Model: \"model\"\n",
      "_________________________________________________________________\n",
      " Layer (type)                Output Shape              Param #   \n",
      "=================================================================\n",
      " input_layer (InputLayer)    [(None, 96, 96, 3)]       0         \n",
      "                                                                 \n",
      " conv2d_192 (Conv2D)         (None, 96, 96, 32)        896       \n",
      "                                                                 \n",
      " max_pooling2d_137 (MaxPooli  (None, 48, 48, 32)       0         \n",
      " ng2D)                                                           \n",
      "                                                                 \n",
      " conv2d_193 (Conv2D)         (None, 48, 48, 64)        18496     \n",
      "                                                                 \n",
      " max_pooling2d_138 (MaxPooli  (None, 24, 24, 64)       0         \n",
      " ng2D)                                                           \n",
      "                                                                 \n",
      " conv2d_194 (Conv2D)         (None, 24, 24, 128)       73856     \n",
      "                                                                 \n",
      " conv2d_195 (Conv2D)         (None, 24, 24, 128)       147584    \n",
      "                                                                 \n",
      " max_pooling2d_139 (MaxPooli  (None, 12, 12, 128)      0         \n",
      " ng2D)                                                           \n",
      "                                                                 \n",
      " conv2d_196 (Conv2D)         (None, 12, 12, 256)       295168    \n",
      "                                                                 \n",
      " max_pooling2d_140 (MaxPooli  (None, 6, 6, 256)        0         \n",
      " ng2D)                                                           \n",
      "                                                                 \n",
      " conv2d_197 (Conv2D)         (None, 6, 6, 256)         590080    \n",
      "                                                                 \n",
      " gap (GlobalAveragePooling2D  (None, 256)              0         \n",
      " )                                                               \n",
      "                                                                 \n",
      " Flatten (Flatten)           (None, 256)               0         \n",
      "                                                                 \n",
      " dropout_67 (Dropout)        (None, 256)               0         \n",
      "                                                                 \n",
      " Classifier (Dense)          (None, 256)               65792     \n",
      "                                                                 \n",
      " dropout_68 (Dropout)        (None, 256)               0         \n",
      "                                                                 \n",
      " output_layer (Dense)        (None, 8)                 2056      \n",
      "                                                                 \n",
      "=================================================================\n",
      "Total params: 1,193,928\n",
      "Trainable params: 1,193,928\n",
      "Non-trainable params: 0\n",
      "_________________________________________________________________\n"
     ]
    }
   ],
   "source": [
    "# Build model (for data augmentation training)\n",
    "model = build_model(input_shape)\n",
    "model.summary()"
   ],
   "metadata": {
    "id": "FEkYSrT2apXI",
    "executionInfo": {
     "status": "ok",
     "timestamp": 1668430289188,
     "user_tz": -60,
     "elapsed": 526,
     "user": {
      "displayName": "Nicola Cecere",
      "userId": "15930624256794819808"
     }
    }
   }
  },
  {
   "cell_type": "code",
   "execution_count": 229,
   "outputs": [
    {
     "name": "stdout",
     "output_type": "stream",
     "text": [
      "Epoch 1/200\n",
      "89/89 [==============================] - 27s 292ms/step - loss: 2.0511 - accuracy: 0.1824 - val_loss: 2.3139 - val_accuracy: 0.1332\n",
      "Epoch 2/200\n",
      "89/89 [==============================] - 25s 281ms/step - loss: 1.8964 - accuracy: 0.2543 - val_loss: 1.9739 - val_accuracy: 0.2236\n",
      "Epoch 3/200\n",
      "89/89 [==============================] - 25s 278ms/step - loss: 1.8271 - accuracy: 0.2829 - val_loss: 2.1868 - val_accuracy: 0.1633\n",
      "Epoch 4/200\n",
      "89/89 [==============================] - 25s 277ms/step - loss: 1.7556 - accuracy: 0.3309 - val_loss: 2.4455 - val_accuracy: 0.1608\n",
      "Epoch 5/200\n",
      "89/89 [==============================] - 28s 310ms/step - loss: 1.6380 - accuracy: 0.4028 - val_loss: 1.8066 - val_accuracy: 0.3317\n",
      "Epoch 6/200\n",
      "89/89 [==============================] - 30s 332ms/step - loss: 1.5549 - accuracy: 0.4056 - val_loss: 2.2120 - val_accuracy: 0.2412\n",
      "Epoch 7/200\n",
      "89/89 [==============================] - 29s 325ms/step - loss: 1.5220 - accuracy: 0.4250 - val_loss: 1.6564 - val_accuracy: 0.3819\n",
      "Epoch 8/200\n",
      "89/89 [==============================] - 29s 328ms/step - loss: 1.4487 - accuracy: 0.4557 - val_loss: 2.0543 - val_accuracy: 0.2839\n",
      "Epoch 9/200\n",
      "89/89 [==============================] - 27s 304ms/step - loss: 1.4110 - accuracy: 0.4610 - val_loss: 1.4320 - val_accuracy: 0.4598\n",
      "Epoch 10/200\n",
      "89/89 [==============================] - 29s 332ms/step - loss: 1.3590 - accuracy: 0.4945 - val_loss: 1.3516 - val_accuracy: 0.4523\n",
      "Epoch 11/200\n",
      "89/89 [==============================] - 27s 307ms/step - loss: 1.3118 - accuracy: 0.5079 - val_loss: 1.4246 - val_accuracy: 0.4623\n",
      "Epoch 12/200\n",
      "89/89 [==============================] - 29s 323ms/step - loss: 1.2864 - accuracy: 0.5143 - val_loss: 1.3041 - val_accuracy: 0.5025\n",
      "Epoch 13/200\n",
      "89/89 [==============================] - 30s 334ms/step - loss: 1.2310 - accuracy: 0.5295 - val_loss: 1.2995 - val_accuracy: 0.4724\n",
      "Epoch 14/200\n",
      "89/89 [==============================] - 30s 333ms/step - loss: 1.2473 - accuracy: 0.5316 - val_loss: 1.1927 - val_accuracy: 0.5251\n",
      "Epoch 15/200\n",
      "89/89 [==============================] - 29s 319ms/step - loss: 1.1926 - accuracy: 0.5485 - val_loss: 1.7233 - val_accuracy: 0.4523\n",
      "Epoch 16/200\n",
      "89/89 [==============================] - 27s 299ms/step - loss: 1.1687 - accuracy: 0.5605 - val_loss: 1.5633 - val_accuracy: 0.5075\n",
      "Epoch 17/200\n",
      "89/89 [==============================] - 27s 297ms/step - loss: 1.1782 - accuracy: 0.5453 - val_loss: 1.2951 - val_accuracy: 0.4648\n",
      "Epoch 18/200\n",
      "89/89 [==============================] - 27s 299ms/step - loss: 1.1473 - accuracy: 0.5658 - val_loss: 1.3247 - val_accuracy: 0.5101\n",
      "Epoch 19/200\n",
      "89/89 [==============================] - 26s 292ms/step - loss: 1.1592 - accuracy: 0.5644 - val_loss: 1.5798 - val_accuracy: 0.4497\n",
      "Epoch 20/200\n",
      "89/89 [==============================] - 26s 294ms/step - loss: 1.1007 - accuracy: 0.5880 - val_loss: 1.4028 - val_accuracy: 0.5075\n",
      "Epoch 21/200\n",
      "89/89 [==============================] - 25s 283ms/step - loss: 1.1075 - accuracy: 0.5781 - val_loss: 1.6314 - val_accuracy: 0.4372\n",
      "Epoch 22/200\n",
      "89/89 [==============================] - 26s 294ms/step - loss: 1.0836 - accuracy: 0.5894 - val_loss: 1.3370 - val_accuracy: 0.5151\n",
      "Epoch 23/200\n",
      "89/89 [==============================] - 25s 284ms/step - loss: 1.0980 - accuracy: 0.5929 - val_loss: 1.1458 - val_accuracy: 0.5704\n",
      "Epoch 24/200\n",
      "89/89 [==============================] - 27s 307ms/step - loss: 1.0759 - accuracy: 0.6049 - val_loss: 1.1841 - val_accuracy: 0.5754\n",
      "Epoch 25/200\n",
      "89/89 [==============================] - 25s 283ms/step - loss: 1.0694 - accuracy: 0.6007 - val_loss: 1.2759 - val_accuracy: 0.5201\n",
      "Epoch 26/200\n",
      "89/89 [==============================] - 23s 261ms/step - loss: 1.0408 - accuracy: 0.6131 - val_loss: 1.4617 - val_accuracy: 0.5075\n",
      "Epoch 27/200\n",
      "89/89 [==============================] - 23s 260ms/step - loss: 1.0322 - accuracy: 0.6166 - val_loss: 1.1515 - val_accuracy: 0.5402\n",
      "Epoch 28/200\n",
      "89/89 [==============================] - 23s 259ms/step - loss: 1.0130 - accuracy: 0.6183 - val_loss: 1.3229 - val_accuracy: 0.5427\n",
      "Epoch 29/200\n",
      "89/89 [==============================] - 23s 263ms/step - loss: 0.9634 - accuracy: 0.6409 - val_loss: 1.4284 - val_accuracy: 0.5226\n",
      "Epoch 30/200\n",
      "89/89 [==============================] - 24s 263ms/step - loss: 0.9689 - accuracy: 0.6279 - val_loss: 1.1850 - val_accuracy: 0.5804\n",
      "Epoch 31/200\n",
      "89/89 [==============================] - 25s 276ms/step - loss: 0.9583 - accuracy: 0.6395 - val_loss: 1.1044 - val_accuracy: 0.6106\n",
      "Epoch 32/200\n",
      "89/89 [==============================] - 25s 275ms/step - loss: 0.9417 - accuracy: 0.6469 - val_loss: 1.5733 - val_accuracy: 0.5276\n",
      "Epoch 33/200\n",
      "89/89 [==============================] - 25s 282ms/step - loss: 0.9503 - accuracy: 0.6434 - val_loss: 1.3467 - val_accuracy: 0.5302\n",
      "Epoch 34/200\n",
      "89/89 [==============================] - 25s 283ms/step - loss: 0.9181 - accuracy: 0.6578 - val_loss: 1.4309 - val_accuracy: 0.5729\n",
      "Epoch 35/200\n",
      "89/89 [==============================] - 24s 268ms/step - loss: 0.8932 - accuracy: 0.6642 - val_loss: 1.2408 - val_accuracy: 0.6005\n",
      "Epoch 36/200\n",
      "89/89 [==============================] - 24s 268ms/step - loss: 0.9466 - accuracy: 0.6430 - val_loss: 1.1777 - val_accuracy: 0.5503\n",
      "Epoch 37/200\n",
      "89/89 [==============================] - 26s 294ms/step - loss: 0.9022 - accuracy: 0.6554 - val_loss: 1.2130 - val_accuracy: 0.5779\n",
      "Epoch 38/200\n",
      "89/89 [==============================] - 26s 288ms/step - loss: 0.8648 - accuracy: 0.6765 - val_loss: 1.2553 - val_accuracy: 0.6131\n",
      "Epoch 39/200\n",
      "89/89 [==============================] - 26s 296ms/step - loss: 0.8592 - accuracy: 0.6737 - val_loss: 1.1658 - val_accuracy: 0.6080\n",
      "Epoch 40/200\n",
      "89/89 [==============================] - 26s 288ms/step - loss: 0.8258 - accuracy: 0.6959 - val_loss: 1.4668 - val_accuracy: 0.5678\n",
      "Epoch 41/200\n",
      "89/89 [==============================] - 25s 277ms/step - loss: 0.8557 - accuracy: 0.6765 - val_loss: 1.3287 - val_accuracy: 0.5905\n",
      "Epoch 42/200\n",
      "89/89 [==============================] - 24s 274ms/step - loss: 0.8568 - accuracy: 0.6765 - val_loss: 1.1889 - val_accuracy: 0.5754\n",
      "Epoch 43/200\n",
      "89/89 [==============================] - 23s 258ms/step - loss: 0.8064 - accuracy: 0.6988 - val_loss: 1.3355 - val_accuracy: 0.5955\n",
      "Epoch 44/200\n",
      "89/89 [==============================] - 23s 261ms/step - loss: 0.7906 - accuracy: 0.7019 - val_loss: 1.1707 - val_accuracy: 0.6181\n",
      "Epoch 45/200\n",
      "89/89 [==============================] - 26s 288ms/step - loss: 0.7786 - accuracy: 0.7139 - val_loss: 1.2742 - val_accuracy: 0.6256\n",
      "Epoch 46/200\n",
      "89/89 [==============================] - 26s 288ms/step - loss: 0.7956 - accuracy: 0.7005 - val_loss: 1.3491 - val_accuracy: 0.6231\n",
      "Epoch 47/200\n",
      "89/89 [==============================] - 26s 295ms/step - loss: 0.7661 - accuracy: 0.7115 - val_loss: 1.0591 - val_accuracy: 0.6106\n",
      "Epoch 48/200\n",
      "89/89 [==============================] - 26s 292ms/step - loss: 0.8454 - accuracy: 0.6850 - val_loss: 0.9928 - val_accuracy: 0.6633\n",
      "Epoch 49/200\n",
      "89/89 [==============================] - 25s 278ms/step - loss: 0.7395 - accuracy: 0.7298 - val_loss: 1.4387 - val_accuracy: 0.6080\n",
      "Epoch 50/200\n",
      "89/89 [==============================] - 24s 270ms/step - loss: 0.7413 - accuracy: 0.7238 - val_loss: 1.0814 - val_accuracy: 0.6608\n",
      "Epoch 51/200\n",
      "89/89 [==============================] - 23s 262ms/step - loss: 0.7222 - accuracy: 0.7231 - val_loss: 1.2029 - val_accuracy: 0.6281\n",
      "Epoch 52/200\n",
      "89/89 [==============================] - 23s 260ms/step - loss: 0.7841 - accuracy: 0.7058 - val_loss: 1.4369 - val_accuracy: 0.5653\n",
      "Epoch 53/200\n",
      "89/89 [==============================] - 24s 265ms/step - loss: 0.7383 - accuracy: 0.7295 - val_loss: 1.0287 - val_accuracy: 0.6759\n",
      "Epoch 54/200\n",
      "89/89 [==============================] - 27s 299ms/step - loss: 0.7409 - accuracy: 0.7295 - val_loss: 1.0370 - val_accuracy: 0.6759\n",
      "Epoch 55/200\n",
      "89/89 [==============================] - 27s 304ms/step - loss: 0.7270 - accuracy: 0.7372 - val_loss: 1.6338 - val_accuracy: 0.5402\n",
      "Epoch 56/200\n",
      "89/89 [==============================] - 26s 294ms/step - loss: 0.6991 - accuracy: 0.7443 - val_loss: 1.0786 - val_accuracy: 0.6859\n",
      "Epoch 57/200\n",
      "89/89 [==============================] - 26s 294ms/step - loss: 0.7219 - accuracy: 0.7302 - val_loss: 1.4765 - val_accuracy: 0.5528\n",
      "Epoch 58/200\n",
      "89/89 [==============================] - 26s 286ms/step - loss: 0.7139 - accuracy: 0.7376 - val_loss: 1.1794 - val_accuracy: 0.6106\n",
      "Epoch 59/200\n",
      "89/89 [==============================] - 25s 274ms/step - loss: 0.6944 - accuracy: 0.7407 - val_loss: 1.1344 - val_accuracy: 0.6482\n",
      "Epoch 60/200\n",
      "89/89 [==============================] - 24s 269ms/step - loss: 0.6527 - accuracy: 0.7640 - val_loss: 0.9816 - val_accuracy: 0.6809\n",
      "Epoch 61/200\n",
      "89/89 [==============================] - 26s 290ms/step - loss: 0.6731 - accuracy: 0.7591 - val_loss: 1.4955 - val_accuracy: 0.5804\n",
      "Epoch 62/200\n",
      "89/89 [==============================] - 26s 292ms/step - loss: 0.6520 - accuracy: 0.7594 - val_loss: 1.2019 - val_accuracy: 0.6533\n",
      "Epoch 63/200\n",
      "89/89 [==============================] - 26s 291ms/step - loss: 0.6565 - accuracy: 0.7577 - val_loss: 1.0866 - val_accuracy: 0.6834\n",
      "Epoch 64/200\n",
      "89/89 [==============================] - 26s 293ms/step - loss: 0.6811 - accuracy: 0.7524 - val_loss: 1.0548 - val_accuracy: 0.6658\n",
      "Epoch 65/200\n",
      "89/89 [==============================] - 27s 299ms/step - loss: 0.6437 - accuracy: 0.7573 - val_loss: 1.2219 - val_accuracy: 0.6558\n",
      "Epoch 66/200\n",
      "89/89 [==============================] - 27s 297ms/step - loss: 0.6149 - accuracy: 0.7764 - val_loss: 1.1860 - val_accuracy: 0.6533\n"
     ]
    }
   ],
   "source": [
    "# Create folders and callbacks and fit\n",
    "aug_callbacks = create_folders_and_callbacks(model_name='CNN_Aug')\n",
    "\n",
    "# Train the model\n",
    "history = model.fit(\n",
    "    x = aug_train_gen,\n",
    "    epochs = epochs,\n",
    "    validation_data = valid_gen,\n",
    "    callbacks = aug_callbacks,\n",
    "    batch_size=32\n",
    ").history"
   ],
   "metadata": {
    "id": "EUdsjUfdapXI",
    "outputId": "be5340c2-af75-4003-8380-169b2370318e",
    "colab": {
     "base_uri": "https://localhost:8080/"
    },
    "executionInfo": {
     "status": "ok",
     "timestamp": 1668431787144,
     "user_tz": -60,
     "elapsed": 1492245,
     "user": {
      "displayName": "Nicola Cecere",
      "userId": "15930624256794819808"
     }
    }
   }
  },
  {
   "cell_type": "code",
   "execution_count": 230,
   "outputs": [
    {
     "name": "stderr",
     "output_type": "stream",
     "text": [
      "WARNING:absl:Found untraced functions such as _jit_compiled_convolution_op, _jit_compiled_convolution_op, _jit_compiled_convolution_op, _jit_compiled_convolution_op, _jit_compiled_convolution_op while saving (showing 5 of 6). These functions will not be directly callable after loading.\n"
     ]
    }
   ],
   "source": [
    "# Save best epoch model\n",
    "model.save(\"data_augmentation_experiments/CNN_Aug_Best\")"
   ],
   "metadata": {
    "id": "up5di_mcapXI",
    "outputId": "9828dc0d-172e-446b-97fe-86433966240e",
    "colab": {
     "base_uri": "https://localhost:8080/"
    },
    "executionInfo": {
     "status": "ok",
     "timestamp": 1668431799360,
     "user_tz": -60,
     "elapsed": 3030,
     "user": {
      "displayName": "Nicola Cecere",
      "userId": "15930624256794819808"
     }
    }
   }
  },
  {
   "cell_type": "code",
   "execution_count": 231,
   "outputs": [
    {
     "name": "stdout",
     "output_type": "stream",
     "text": [
      "16/16 [==============================] - 1s 60ms/step - loss: 0.7498 - accuracy: 0.7535\n",
      "\n",
      "Test metrics with data augmentation\n",
      "{'loss': 0.7498441338539124, 'accuracy': 0.7535353302955627}\n"
     ]
    }
   ],
   "source": [
    "# Trained with data augmentation\n",
    "model_aug = tfk.models.load_model(\"data_augmentation_experiments/CNN_Aug_Best\")\n",
    "model_aug_test_metrics = model_aug.evaluate(test_gen, return_dict=True)\n",
    "\n",
    "print()\n",
    "print(\"Test metrics with data augmentation\")\n",
    "print(model_aug_test_metrics)\n"
   ],
   "metadata": {
    "id": "NYFv3JpWapXJ",
    "outputId": "7b05027c-379e-4d92-d399-a4cf6a691d31",
    "colab": {
     "base_uri": "https://localhost:8080/"
    },
    "executionInfo": {
     "status": "ok",
     "timestamp": 1668431881358,
     "user_tz": -60,
     "elapsed": 78439,
     "user": {
      "displayName": "Nicola Cecere",
      "userId": "15930624256794819808"
     }
    }
   }
  }
 ],
 "metadata": {
  "kernelspec": {
   "display_name": "Python 3",
   "language": "python",
   "name": "python3"
  },
  "language_info": {
   "codemirror_mode": {
    "name": "ipython",
    "version": 2
   },
   "file_extension": ".py",
   "mimetype": "text/x-python",
   "name": "python",
   "nbconvert_exporter": "python",
   "pygments_lexer": "ipython2",
   "version": "2.7.6"
  },
  "colab": {
   "provenance": [
    {
     "file_id": "16TOaMkqrjqSOW8YTD4_cbVwwqEK7edNI",
     "timestamp": 1668428132632
    }
   ]
  }
 },
 "nbformat": 4,
 "nbformat_minor": 0
}
