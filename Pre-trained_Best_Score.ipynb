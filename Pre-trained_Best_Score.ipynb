{
  "nbformat": 4,
  "nbformat_minor": 0,
  "metadata": {
    "accelerator": "GPU",
    "colab": {
      "provenance": []
    },
    "kernelspec": {
      "display_name": "Python 3",
      "language": "python",
      "name": "python3"
    },
    "language_info": {
      "codemirror_mode": {
        "name": "ipython",
        "version": 3
      },
      "file_extension": ".py",
      "mimetype": "text/x-python",
      "name": "python",
      "nbconvert_exporter": "python",
      "pygments_lexer": "ipython3",
      "version": "3.8.8"
    }
  },
  "cells": [
    {
      "cell_type": "code",
      "source": [
        "from google.colab import drive\n",
        "drive.mount('/gdrive')"
      ],
      "metadata": {
        "colab": {
          "base_uri": "https://localhost:8080/"
        },
        "id": "7hebhd9q0bGx",
        "outputId": "9891aa41-a2bb-4f30-ce93-ee26675f5092"
      },
      "execution_count": 1,
      "outputs": [
        {
          "output_type": "stream",
          "name": "stdout",
          "text": [
            "Mounted at /gdrive\n"
          ]
        }
      ]
    },
    {
      "cell_type": "code",
      "source": [
        "%cd /gdrive/My Drive/AN2DL/Homework1"
      ],
      "metadata": {
        "colab": {
          "base_uri": "https://localhost:8080/"
        },
        "id": "artD-sl-0cTH",
        "outputId": "5cae952a-c776-426c-ec77-042dbcc0217e"
      },
      "execution_count": 2,
      "outputs": [
        {
          "output_type": "stream",
          "name": "stdout",
          "text": [
            "/gdrive/My Drive/AN2DL/Homework1\n"
          ]
        }
      ]
    },
    {
      "cell_type": "markdown",
      "metadata": {
        "id": "l3FoTyRa9pLu"
      },
      "source": [
        "### Import libraries"
      ]
    },
    {
      "cell_type": "code",
      "metadata": {
        "id": "f_sOaV1Y8NsL",
        "colab": {
          "base_uri": "https://localhost:8080/"
        },
        "outputId": "2a8a2232-35c2-4761-8dde-8e0d887dc1d3"
      },
      "source": [
        "import tensorflow as tf\n",
        "import numpy as np\n",
        "import os\n",
        "import random\n",
        "import pandas as pd\n",
        "import seaborn as sns\n",
        "import matplotlib as mpl\n",
        "import matplotlib.pyplot as plt\n",
        "from sklearn.model_selection import train_test_split\n",
        "from sklearn.metrics import accuracy_score, f1_score, precision_score, recall_score\n",
        "from sklearn.metrics import confusion_matrix\n",
        "\n",
        "tfk = tf.keras\n",
        "tfkl = tf.keras.layers\n",
        "print(tf.__version__)"
      ],
      "execution_count": 3,
      "outputs": [
        {
          "output_type": "stream",
          "name": "stdout",
          "text": [
            "2.9.2\n"
          ]
        }
      ]
    },
    {
      "cell_type": "markdown",
      "metadata": {
        "id": "pLb-N5JzUUQS"
      },
      "source": [
        "### Set seed for reproducibility"
      ]
    },
    {
      "cell_type": "code",
      "metadata": {
        "id": "C7HYua8HUHIj"
      },
      "source": [
        "# Random seed for reproducibility\n",
        "seed = 41\n",
        "\n",
        "random.seed(seed)\n",
        "os.environ['PYTHONHASHSEED'] = str(seed)\n",
        "np.random.seed(seed)\n",
        "tf.random.set_seed(seed)\n",
        "tf.compat.v1.set_random_seed(seed)"
      ],
      "execution_count": 4,
      "outputs": []
    },
    {
      "cell_type": "markdown",
      "source": [
        "### Suppress warnings"
      ],
      "metadata": {
        "id": "7yyZaEAH4PZM"
      }
    },
    {
      "cell_type": "code",
      "source": [
        "import warnings\n",
        "import logging\n",
        "\n",
        "os.environ['TF_CPP_MIN_LOG_LEVEL'] = '2'\n",
        "warnings.simplefilter(action='ignore', category=FutureWarning)\n",
        "warnings.simplefilter(action='ignore', category=Warning)\n",
        "tf.get_logger().setLevel('INFO')\n",
        "tf.autograph.set_verbosity(0)\n",
        "\n",
        "tf.get_logger().setLevel(logging.ERROR)\n",
        "tf.get_logger().setLevel('ERROR')\n",
        "tf.compat.v1.logging.set_verbosity(tf.compat.v1.logging.ERROR)"
      ],
      "metadata": {
        "id": "P_SmiYRG4O0L"
      },
      "execution_count": 5,
      "outputs": []
    },
    {
      "cell_type": "code",
      "metadata": {
        "id": "uEZnG9FLIAQR"
      },
      "source": [
        "# Download the data\n",
        "dataset = '/gdrive/My Drive/AN2DL/Homework1/training_dataset_homework1'\n",
        "training = '/gdrive/My Drive/AN2DL/Homework1/training_dataset_homework1/training'\n",
        "validation = '/gdrive/My Drive/AN2DL/Homework1/training_dataset_homework1/validation'\n",
        "test = '/gdrive/My Drive/AN2DL/Homework1/training_dataset_homework1/test'"
      ],
      "execution_count": 6,
      "outputs": []
    },
    {
      "cell_type": "code",
      "metadata": {
        "id": "HftmCCnssm6O"
      },
      "source": [
        "labels = {\n",
        "    0:'species1',\n",
        "    1:'species2',\n",
        "    2:'species3',\n",
        "    3:'species4',\n",
        "    4:'species5',\n",
        "    5:'species6',\n",
        "    6:'species7',\n",
        "    7:'species8'\n",
        "}"
      ],
      "execution_count": 7,
      "outputs": []
    },
    {
      "cell_type": "markdown",
      "metadata": {
        "id": "opLBOnWjWqay"
      },
      "source": [
        "### Process data"
      ]
    },
    {
      "cell_type": "code",
      "execution_count": 26,
      "outputs": [
        {
          "output_type": "stream",
          "name": "stdout",
          "text": [
            "Found 2671 images belonging to 8 classes.\n",
            "Found 336 images belonging to 8 classes.\n",
            "Found 535 images belonging to 8 classes.\n"
          ]
        }
      ],
      "source": [
        "# Images are divided into folders, one for each class.\n",
        "# If the images are organized in such a way, we can exploit the\n",
        "# ImageDataGenerator to read them from disk.\n",
        "from tensorflow.keras.preprocessing.image import ImageDataGenerator\n",
        "from tensorflow.keras.applications.xception import preprocess_input\n",
        "\n",
        "# Create an instance of ImageDataGenerator for training, validation, and test sets\n",
        "train_data_gen = ImageDataGenerator(preprocessing_function = preprocess_input)\n",
        "valid_data_gen = ImageDataGenerator(preprocessing_function = preprocess_input)\n",
        "test_data_gen = ImageDataGenerator(preprocessing_function = preprocess_input)\n",
        "\n",
        "# Obtain a data generator with the 'ImageDataGenerator.flow_from_directory' method\n",
        "train_gen = train_data_gen.flow_from_directory(directory=training,\n",
        "                                               target_size=(96,96),\n",
        "                                               color_mode='rgb',\n",
        "                                               classes=None, # can be set to labels\n",
        "                                               class_mode='categorical',\n",
        "                                               batch_size=32,\n",
        "                                               shuffle=True,\n",
        "                                               seed=seed\n",
        "                                               )\n",
        "valid_gen = train_data_gen.flow_from_directory(directory=validation,\n",
        "                                               target_size=(96,96),\n",
        "                                               color_mode='rgb',\n",
        "                                               classes=None, # can be set to labels\n",
        "                                               class_mode='categorical',\n",
        "                                               batch_size=32,\n",
        "                                               shuffle=True,\n",
        "                                               seed=seed\n",
        "                                               )\n",
        "test_gen = train_data_gen.flow_from_directory(directory=test,\n",
        "                                              target_size=(96,96),\n",
        "                                              color_mode='rgb',\n",
        "                                              classes=None, # can be set to labels\n",
        "                                              class_mode='categorical',\n",
        "                                              batch_size=32,\n",
        "                                              shuffle=False,\n",
        "                                              seed=seed\n",
        "                                              )"
      ],
      "metadata": {
        "colab": {
          "base_uri": "https://localhost:8080/"
        },
        "id": "spuPsD4gxpc6",
        "outputId": "af3219f3-ae63-4bef-9c53-9544658ba71d"
      }
    },
    {
      "cell_type": "code",
      "execution_count": 27,
      "outputs": [
        {
          "output_type": "stream",
          "name": "stdout",
          "text": [
            "Found 2671 images belonging to 8 classes.\n"
          ]
        }
      ],
      "source": [
        "# Create an instance of ImageDataGenerator with Data Augmentation\n",
        "aug_train_data_gen = ImageDataGenerator(rotation_range=30,\n",
        "                                        horizontal_flip= True,\n",
        "                                        vertical_flip= True,\n",
        "                                        brightness_range=(0.6,1.4),\n",
        "                                        zoom_range=0.6,\n",
        "                                        fill_mode='nearest',\n",
        "                                        rescale=1./255) # rescale value is multiplied to the image\n",
        "\n",
        "# Obtain a data generator with the 'ImageDataGenerator.flow_from_directory' method\n",
        "aug_train_gen = aug_train_data_gen.flow_from_directory(directory=training,\n",
        "                                                       target_size=(96,96),\n",
        "                                                       color_mode='rgb',\n",
        "                                                       classes=None, # can be set to labels\n",
        "                                                       class_mode='categorical',\n",
        "                                                       batch_size=32,\n",
        "                                                       shuffle=True,\n",
        "                                                       seed=seed)"
      ],
      "metadata": {
        "colab": {
          "base_uri": "https://localhost:8080/"
        },
        "id": "1DlecL3Dxpc-",
        "outputId": "1bec0416-66b0-4b1a-81ef-77a2a0da4330"
      }
    },
    {
      "cell_type": "markdown",
      "metadata": {
        "id": "Jr9CX7CYdBg_"
      },
      "source": [
        "### Models metadata"
      ]
    },
    {
      "cell_type": "code",
      "metadata": {
        "id": "7YcxBMJhl4EM"
      },
      "source": [
        "input_shape = (96, 96, 3)\n",
        "batch_size = 32\n",
        "epochs = 200"
      ],
      "execution_count": 28,
      "outputs": []
    },
    {
      "cell_type": "markdown",
      "metadata": {
        "id": "KXmw4F0wlY0h"
      },
      "source": [
        "### Standard model"
      ]
    },
    {
      "cell_type": "markdown",
      "metadata": {
        "id": "RRlz7PE5_OEo"
      },
      "source": [
        "### Transfer learning"
      ]
    },
    {
      "cell_type": "code",
      "metadata": {
        "id": "GBSheIJZrpfU",
        "colab": {
          "base_uri": "https://localhost:8080/"
        },
        "outputId": "81d2f153-c9e9-4fc7-bc54-d69d59824a10"
      },
      "source": [
        "# Download and plot the VGG16 model\n",
        "supernet = tfk.applications.Xception(\n",
        "    include_top=False,\n",
        "    weights=\"imagenet\",\n",
        "    input_shape=(96,96,3)\n",
        ")\n",
        "supernet.summary()"
      ],
      "execution_count": 29,
      "outputs": [
        {
          "output_type": "stream",
          "name": "stdout",
          "text": [
            "Model: \"xception\"\n",
            "__________________________________________________________________________________________________\n",
            " Layer (type)                   Output Shape         Param #     Connected to                     \n",
            "==================================================================================================\n",
            " input_3 (InputLayer)           [(None, 96, 96, 3)]  0           []                               \n",
            "                                                                                                  \n",
            " block1_conv1 (Conv2D)          (None, 47, 47, 32)   864         ['input_3[0][0]']                \n",
            "                                                                                                  \n",
            " block1_conv1_bn (BatchNormaliz  (None, 47, 47, 32)  128         ['block1_conv1[0][0]']           \n",
            " ation)                                                                                           \n",
            "                                                                                                  \n",
            " block1_conv1_act (Activation)  (None, 47, 47, 32)   0           ['block1_conv1_bn[0][0]']        \n",
            "                                                                                                  \n",
            " block1_conv2 (Conv2D)          (None, 45, 45, 64)   18432       ['block1_conv1_act[0][0]']       \n",
            "                                                                                                  \n",
            " block1_conv2_bn (BatchNormaliz  (None, 45, 45, 64)  256         ['block1_conv2[0][0]']           \n",
            " ation)                                                                                           \n",
            "                                                                                                  \n",
            " block1_conv2_act (Activation)  (None, 45, 45, 64)   0           ['block1_conv2_bn[0][0]']        \n",
            "                                                                                                  \n",
            " block2_sepconv1 (SeparableConv  (None, 45, 45, 128)  8768       ['block1_conv2_act[0][0]']       \n",
            " 2D)                                                                                              \n",
            "                                                                                                  \n",
            " block2_sepconv1_bn (BatchNorma  (None, 45, 45, 128)  512        ['block2_sepconv1[0][0]']        \n",
            " lization)                                                                                        \n",
            "                                                                                                  \n",
            " block2_sepconv2_act (Activatio  (None, 45, 45, 128)  0          ['block2_sepconv1_bn[0][0]']     \n",
            " n)                                                                                               \n",
            "                                                                                                  \n",
            " block2_sepconv2 (SeparableConv  (None, 45, 45, 128)  17536      ['block2_sepconv2_act[0][0]']    \n",
            " 2D)                                                                                              \n",
            "                                                                                                  \n",
            " block2_sepconv2_bn (BatchNorma  (None, 45, 45, 128)  512        ['block2_sepconv2[0][0]']        \n",
            " lization)                                                                                        \n",
            "                                                                                                  \n",
            " conv2d_4 (Conv2D)              (None, 23, 23, 128)  8192        ['block1_conv2_act[0][0]']       \n",
            "                                                                                                  \n",
            " block2_pool (MaxPooling2D)     (None, 23, 23, 128)  0           ['block2_sepconv2_bn[0][0]']     \n",
            "                                                                                                  \n",
            " batch_normalization_4 (BatchNo  (None, 23, 23, 128)  512        ['conv2d_4[0][0]']               \n",
            " rmalization)                                                                                     \n",
            "                                                                                                  \n",
            " add_12 (Add)                   (None, 23, 23, 128)  0           ['block2_pool[0][0]',            \n",
            "                                                                  'batch_normalization_4[0][0]']  \n",
            "                                                                                                  \n",
            " block3_sepconv1_act (Activatio  (None, 23, 23, 128)  0          ['add_12[0][0]']                 \n",
            " n)                                                                                               \n",
            "                                                                                                  \n",
            " block3_sepconv1 (SeparableConv  (None, 23, 23, 256)  33920      ['block3_sepconv1_act[0][0]']    \n",
            " 2D)                                                                                              \n",
            "                                                                                                  \n",
            " block3_sepconv1_bn (BatchNorma  (None, 23, 23, 256)  1024       ['block3_sepconv1[0][0]']        \n",
            " lization)                                                                                        \n",
            "                                                                                                  \n",
            " block3_sepconv2_act (Activatio  (None, 23, 23, 256)  0          ['block3_sepconv1_bn[0][0]']     \n",
            " n)                                                                                               \n",
            "                                                                                                  \n",
            " block3_sepconv2 (SeparableConv  (None, 23, 23, 256)  67840      ['block3_sepconv2_act[0][0]']    \n",
            " 2D)                                                                                              \n",
            "                                                                                                  \n",
            " block3_sepconv2_bn (BatchNorma  (None, 23, 23, 256)  1024       ['block3_sepconv2[0][0]']        \n",
            " lization)                                                                                        \n",
            "                                                                                                  \n",
            " conv2d_5 (Conv2D)              (None, 12, 12, 256)  32768       ['add_12[0][0]']                 \n",
            "                                                                                                  \n",
            " block3_pool (MaxPooling2D)     (None, 12, 12, 256)  0           ['block3_sepconv2_bn[0][0]']     \n",
            "                                                                                                  \n",
            " batch_normalization_5 (BatchNo  (None, 12, 12, 256)  1024       ['conv2d_5[0][0]']               \n",
            " rmalization)                                                                                     \n",
            "                                                                                                  \n",
            " add_13 (Add)                   (None, 12, 12, 256)  0           ['block3_pool[0][0]',            \n",
            "                                                                  'batch_normalization_5[0][0]']  \n",
            "                                                                                                  \n",
            " block4_sepconv1_act (Activatio  (None, 12, 12, 256)  0          ['add_13[0][0]']                 \n",
            " n)                                                                                               \n",
            "                                                                                                  \n",
            " block4_sepconv1 (SeparableConv  (None, 12, 12, 728)  188672     ['block4_sepconv1_act[0][0]']    \n",
            " 2D)                                                                                              \n",
            "                                                                                                  \n",
            " block4_sepconv1_bn (BatchNorma  (None, 12, 12, 728)  2912       ['block4_sepconv1[0][0]']        \n",
            " lization)                                                                                        \n",
            "                                                                                                  \n",
            " block4_sepconv2_act (Activatio  (None, 12, 12, 728)  0          ['block4_sepconv1_bn[0][0]']     \n",
            " n)                                                                                               \n",
            "                                                                                                  \n",
            " block4_sepconv2 (SeparableConv  (None, 12, 12, 728)  536536     ['block4_sepconv2_act[0][0]']    \n",
            " 2D)                                                                                              \n",
            "                                                                                                  \n",
            " block4_sepconv2_bn (BatchNorma  (None, 12, 12, 728)  2912       ['block4_sepconv2[0][0]']        \n",
            " lization)                                                                                        \n",
            "                                                                                                  \n",
            " conv2d_6 (Conv2D)              (None, 6, 6, 728)    186368      ['add_13[0][0]']                 \n",
            "                                                                                                  \n",
            " block4_pool (MaxPooling2D)     (None, 6, 6, 728)    0           ['block4_sepconv2_bn[0][0]']     \n",
            "                                                                                                  \n",
            " batch_normalization_6 (BatchNo  (None, 6, 6, 728)   2912        ['conv2d_6[0][0]']               \n",
            " rmalization)                                                                                     \n",
            "                                                                                                  \n",
            " add_14 (Add)                   (None, 6, 6, 728)    0           ['block4_pool[0][0]',            \n",
            "                                                                  'batch_normalization_6[0][0]']  \n",
            "                                                                                                  \n",
            " block5_sepconv1_act (Activatio  (None, 6, 6, 728)   0           ['add_14[0][0]']                 \n",
            " n)                                                                                               \n",
            "                                                                                                  \n",
            " block5_sepconv1 (SeparableConv  (None, 6, 6, 728)   536536      ['block5_sepconv1_act[0][0]']    \n",
            " 2D)                                                                                              \n",
            "                                                                                                  \n",
            " block5_sepconv1_bn (BatchNorma  (None, 6, 6, 728)   2912        ['block5_sepconv1[0][0]']        \n",
            " lization)                                                                                        \n",
            "                                                                                                  \n",
            " block5_sepconv2_act (Activatio  (None, 6, 6, 728)   0           ['block5_sepconv1_bn[0][0]']     \n",
            " n)                                                                                               \n",
            "                                                                                                  \n",
            " block5_sepconv2 (SeparableConv  (None, 6, 6, 728)   536536      ['block5_sepconv2_act[0][0]']    \n",
            " 2D)                                                                                              \n",
            "                                                                                                  \n",
            " block5_sepconv2_bn (BatchNorma  (None, 6, 6, 728)   2912        ['block5_sepconv2[0][0]']        \n",
            " lization)                                                                                        \n",
            "                                                                                                  \n",
            " block5_sepconv3_act (Activatio  (None, 6, 6, 728)   0           ['block5_sepconv2_bn[0][0]']     \n",
            " n)                                                                                               \n",
            "                                                                                                  \n",
            " block5_sepconv3 (SeparableConv  (None, 6, 6, 728)   536536      ['block5_sepconv3_act[0][0]']    \n",
            " 2D)                                                                                              \n",
            "                                                                                                  \n",
            " block5_sepconv3_bn (BatchNorma  (None, 6, 6, 728)   2912        ['block5_sepconv3[0][0]']        \n",
            " lization)                                                                                        \n",
            "                                                                                                  \n",
            " add_15 (Add)                   (None, 6, 6, 728)    0           ['block5_sepconv3_bn[0][0]',     \n",
            "                                                                  'add_14[0][0]']                 \n",
            "                                                                                                  \n",
            " block6_sepconv1_act (Activatio  (None, 6, 6, 728)   0           ['add_15[0][0]']                 \n",
            " n)                                                                                               \n",
            "                                                                                                  \n",
            " block6_sepconv1 (SeparableConv  (None, 6, 6, 728)   536536      ['block6_sepconv1_act[0][0]']    \n",
            " 2D)                                                                                              \n",
            "                                                                                                  \n",
            " block6_sepconv1_bn (BatchNorma  (None, 6, 6, 728)   2912        ['block6_sepconv1[0][0]']        \n",
            " lization)                                                                                        \n",
            "                                                                                                  \n",
            " block6_sepconv2_act (Activatio  (None, 6, 6, 728)   0           ['block6_sepconv1_bn[0][0]']     \n",
            " n)                                                                                               \n",
            "                                                                                                  \n",
            " block6_sepconv2 (SeparableConv  (None, 6, 6, 728)   536536      ['block6_sepconv2_act[0][0]']    \n",
            " 2D)                                                                                              \n",
            "                                                                                                  \n",
            " block6_sepconv2_bn (BatchNorma  (None, 6, 6, 728)   2912        ['block6_sepconv2[0][0]']        \n",
            " lization)                                                                                        \n",
            "                                                                                                  \n",
            " block6_sepconv3_act (Activatio  (None, 6, 6, 728)   0           ['block6_sepconv2_bn[0][0]']     \n",
            " n)                                                                                               \n",
            "                                                                                                  \n",
            " block6_sepconv3 (SeparableConv  (None, 6, 6, 728)   536536      ['block6_sepconv3_act[0][0]']    \n",
            " 2D)                                                                                              \n",
            "                                                                                                  \n",
            " block6_sepconv3_bn (BatchNorma  (None, 6, 6, 728)   2912        ['block6_sepconv3[0][0]']        \n",
            " lization)                                                                                        \n",
            "                                                                                                  \n",
            " add_16 (Add)                   (None, 6, 6, 728)    0           ['block6_sepconv3_bn[0][0]',     \n",
            "                                                                  'add_15[0][0]']                 \n",
            "                                                                                                  \n",
            " block7_sepconv1_act (Activatio  (None, 6, 6, 728)   0           ['add_16[0][0]']                 \n",
            " n)                                                                                               \n",
            "                                                                                                  \n",
            " block7_sepconv1 (SeparableConv  (None, 6, 6, 728)   536536      ['block7_sepconv1_act[0][0]']    \n",
            " 2D)                                                                                              \n",
            "                                                                                                  \n",
            " block7_sepconv1_bn (BatchNorma  (None, 6, 6, 728)   2912        ['block7_sepconv1[0][0]']        \n",
            " lization)                                                                                        \n",
            "                                                                                                  \n",
            " block7_sepconv2_act (Activatio  (None, 6, 6, 728)   0           ['block7_sepconv1_bn[0][0]']     \n",
            " n)                                                                                               \n",
            "                                                                                                  \n",
            " block7_sepconv2 (SeparableConv  (None, 6, 6, 728)   536536      ['block7_sepconv2_act[0][0]']    \n",
            " 2D)                                                                                              \n",
            "                                                                                                  \n",
            " block7_sepconv2_bn (BatchNorma  (None, 6, 6, 728)   2912        ['block7_sepconv2[0][0]']        \n",
            " lization)                                                                                        \n",
            "                                                                                                  \n",
            " block7_sepconv3_act (Activatio  (None, 6, 6, 728)   0           ['block7_sepconv2_bn[0][0]']     \n",
            " n)                                                                                               \n",
            "                                                                                                  \n",
            " block7_sepconv3 (SeparableConv  (None, 6, 6, 728)   536536      ['block7_sepconv3_act[0][0]']    \n",
            " 2D)                                                                                              \n",
            "                                                                                                  \n",
            " block7_sepconv3_bn (BatchNorma  (None, 6, 6, 728)   2912        ['block7_sepconv3[0][0]']        \n",
            " lization)                                                                                        \n",
            "                                                                                                  \n",
            " add_17 (Add)                   (None, 6, 6, 728)    0           ['block7_sepconv3_bn[0][0]',     \n",
            "                                                                  'add_16[0][0]']                 \n",
            "                                                                                                  \n",
            " block8_sepconv1_act (Activatio  (None, 6, 6, 728)   0           ['add_17[0][0]']                 \n",
            " n)                                                                                               \n",
            "                                                                                                  \n",
            " block8_sepconv1 (SeparableConv  (None, 6, 6, 728)   536536      ['block8_sepconv1_act[0][0]']    \n",
            " 2D)                                                                                              \n",
            "                                                                                                  \n",
            " block8_sepconv1_bn (BatchNorma  (None, 6, 6, 728)   2912        ['block8_sepconv1[0][0]']        \n",
            " lization)                                                                                        \n",
            "                                                                                                  \n",
            " block8_sepconv2_act (Activatio  (None, 6, 6, 728)   0           ['block8_sepconv1_bn[0][0]']     \n",
            " n)                                                                                               \n",
            "                                                                                                  \n",
            " block8_sepconv2 (SeparableConv  (None, 6, 6, 728)   536536      ['block8_sepconv2_act[0][0]']    \n",
            " 2D)                                                                                              \n",
            "                                                                                                  \n",
            " block8_sepconv2_bn (BatchNorma  (None, 6, 6, 728)   2912        ['block8_sepconv2[0][0]']        \n",
            " lization)                                                                                        \n",
            "                                                                                                  \n",
            " block8_sepconv3_act (Activatio  (None, 6, 6, 728)   0           ['block8_sepconv2_bn[0][0]']     \n",
            " n)                                                                                               \n",
            "                                                                                                  \n",
            " block8_sepconv3 (SeparableConv  (None, 6, 6, 728)   536536      ['block8_sepconv3_act[0][0]']    \n",
            " 2D)                                                                                              \n",
            "                                                                                                  \n",
            " block8_sepconv3_bn (BatchNorma  (None, 6, 6, 728)   2912        ['block8_sepconv3[0][0]']        \n",
            " lization)                                                                                        \n",
            "                                                                                                  \n",
            " add_18 (Add)                   (None, 6, 6, 728)    0           ['block8_sepconv3_bn[0][0]',     \n",
            "                                                                  'add_17[0][0]']                 \n",
            "                                                                                                  \n",
            " block9_sepconv1_act (Activatio  (None, 6, 6, 728)   0           ['add_18[0][0]']                 \n",
            " n)                                                                                               \n",
            "                                                                                                  \n",
            " block9_sepconv1 (SeparableConv  (None, 6, 6, 728)   536536      ['block9_sepconv1_act[0][0]']    \n",
            " 2D)                                                                                              \n",
            "                                                                                                  \n",
            " block9_sepconv1_bn (BatchNorma  (None, 6, 6, 728)   2912        ['block9_sepconv1[0][0]']        \n",
            " lization)                                                                                        \n",
            "                                                                                                  \n",
            " block9_sepconv2_act (Activatio  (None, 6, 6, 728)   0           ['block9_sepconv1_bn[0][0]']     \n",
            " n)                                                                                               \n",
            "                                                                                                  \n",
            " block9_sepconv2 (SeparableConv  (None, 6, 6, 728)   536536      ['block9_sepconv2_act[0][0]']    \n",
            " 2D)                                                                                              \n",
            "                                                                                                  \n",
            " block9_sepconv2_bn (BatchNorma  (None, 6, 6, 728)   2912        ['block9_sepconv2[0][0]']        \n",
            " lization)                                                                                        \n",
            "                                                                                                  \n",
            " block9_sepconv3_act (Activatio  (None, 6, 6, 728)   0           ['block9_sepconv2_bn[0][0]']     \n",
            " n)                                                                                               \n",
            "                                                                                                  \n",
            " block9_sepconv3 (SeparableConv  (None, 6, 6, 728)   536536      ['block9_sepconv3_act[0][0]']    \n",
            " 2D)                                                                                              \n",
            "                                                                                                  \n",
            " block9_sepconv3_bn (BatchNorma  (None, 6, 6, 728)   2912        ['block9_sepconv3[0][0]']        \n",
            " lization)                                                                                        \n",
            "                                                                                                  \n",
            " add_19 (Add)                   (None, 6, 6, 728)    0           ['block9_sepconv3_bn[0][0]',     \n",
            "                                                                  'add_18[0][0]']                 \n",
            "                                                                                                  \n",
            " block10_sepconv1_act (Activati  (None, 6, 6, 728)   0           ['add_19[0][0]']                 \n",
            " on)                                                                                              \n",
            "                                                                                                  \n",
            " block10_sepconv1 (SeparableCon  (None, 6, 6, 728)   536536      ['block10_sepconv1_act[0][0]']   \n",
            " v2D)                                                                                             \n",
            "                                                                                                  \n",
            " block10_sepconv1_bn (BatchNorm  (None, 6, 6, 728)   2912        ['block10_sepconv1[0][0]']       \n",
            " alization)                                                                                       \n",
            "                                                                                                  \n",
            " block10_sepconv2_act (Activati  (None, 6, 6, 728)   0           ['block10_sepconv1_bn[0][0]']    \n",
            " on)                                                                                              \n",
            "                                                                                                  \n",
            " block10_sepconv2 (SeparableCon  (None, 6, 6, 728)   536536      ['block10_sepconv2_act[0][0]']   \n",
            " v2D)                                                                                             \n",
            "                                                                                                  \n",
            " block10_sepconv2_bn (BatchNorm  (None, 6, 6, 728)   2912        ['block10_sepconv2[0][0]']       \n",
            " alization)                                                                                       \n",
            "                                                                                                  \n",
            " block10_sepconv3_act (Activati  (None, 6, 6, 728)   0           ['block10_sepconv2_bn[0][0]']    \n",
            " on)                                                                                              \n",
            "                                                                                                  \n",
            " block10_sepconv3 (SeparableCon  (None, 6, 6, 728)   536536      ['block10_sepconv3_act[0][0]']   \n",
            " v2D)                                                                                             \n",
            "                                                                                                  \n",
            " block10_sepconv3_bn (BatchNorm  (None, 6, 6, 728)   2912        ['block10_sepconv3[0][0]']       \n",
            " alization)                                                                                       \n",
            "                                                                                                  \n",
            " add_20 (Add)                   (None, 6, 6, 728)    0           ['block10_sepconv3_bn[0][0]',    \n",
            "                                                                  'add_19[0][0]']                 \n",
            "                                                                                                  \n",
            " block11_sepconv1_act (Activati  (None, 6, 6, 728)   0           ['add_20[0][0]']                 \n",
            " on)                                                                                              \n",
            "                                                                                                  \n",
            " block11_sepconv1 (SeparableCon  (None, 6, 6, 728)   536536      ['block11_sepconv1_act[0][0]']   \n",
            " v2D)                                                                                             \n",
            "                                                                                                  \n",
            " block11_sepconv1_bn (BatchNorm  (None, 6, 6, 728)   2912        ['block11_sepconv1[0][0]']       \n",
            " alization)                                                                                       \n",
            "                                                                                                  \n",
            " block11_sepconv2_act (Activati  (None, 6, 6, 728)   0           ['block11_sepconv1_bn[0][0]']    \n",
            " on)                                                                                              \n",
            "                                                                                                  \n",
            " block11_sepconv2 (SeparableCon  (None, 6, 6, 728)   536536      ['block11_sepconv2_act[0][0]']   \n",
            " v2D)                                                                                             \n",
            "                                                                                                  \n",
            " block11_sepconv2_bn (BatchNorm  (None, 6, 6, 728)   2912        ['block11_sepconv2[0][0]']       \n",
            " alization)                                                                                       \n",
            "                                                                                                  \n",
            " block11_sepconv3_act (Activati  (None, 6, 6, 728)   0           ['block11_sepconv2_bn[0][0]']    \n",
            " on)                                                                                              \n",
            "                                                                                                  \n",
            " block11_sepconv3 (SeparableCon  (None, 6, 6, 728)   536536      ['block11_sepconv3_act[0][0]']   \n",
            " v2D)                                                                                             \n",
            "                                                                                                  \n",
            " block11_sepconv3_bn (BatchNorm  (None, 6, 6, 728)   2912        ['block11_sepconv3[0][0]']       \n",
            " alization)                                                                                       \n",
            "                                                                                                  \n",
            " add_21 (Add)                   (None, 6, 6, 728)    0           ['block11_sepconv3_bn[0][0]',    \n",
            "                                                                  'add_20[0][0]']                 \n",
            "                                                                                                  \n",
            " block12_sepconv1_act (Activati  (None, 6, 6, 728)   0           ['add_21[0][0]']                 \n",
            " on)                                                                                              \n",
            "                                                                                                  \n",
            " block12_sepconv1 (SeparableCon  (None, 6, 6, 728)   536536      ['block12_sepconv1_act[0][0]']   \n",
            " v2D)                                                                                             \n",
            "                                                                                                  \n",
            " block12_sepconv1_bn (BatchNorm  (None, 6, 6, 728)   2912        ['block12_sepconv1[0][0]']       \n",
            " alization)                                                                                       \n",
            "                                                                                                  \n",
            " block12_sepconv2_act (Activati  (None, 6, 6, 728)   0           ['block12_sepconv1_bn[0][0]']    \n",
            " on)                                                                                              \n",
            "                                                                                                  \n",
            " block12_sepconv2 (SeparableCon  (None, 6, 6, 728)   536536      ['block12_sepconv2_act[0][0]']   \n",
            " v2D)                                                                                             \n",
            "                                                                                                  \n",
            " block12_sepconv2_bn (BatchNorm  (None, 6, 6, 728)   2912        ['block12_sepconv2[0][0]']       \n",
            " alization)                                                                                       \n",
            "                                                                                                  \n",
            " block12_sepconv3_act (Activati  (None, 6, 6, 728)   0           ['block12_sepconv2_bn[0][0]']    \n",
            " on)                                                                                              \n",
            "                                                                                                  \n",
            " block12_sepconv3 (SeparableCon  (None, 6, 6, 728)   536536      ['block12_sepconv3_act[0][0]']   \n",
            " v2D)                                                                                             \n",
            "                                                                                                  \n",
            " block12_sepconv3_bn (BatchNorm  (None, 6, 6, 728)   2912        ['block12_sepconv3[0][0]']       \n",
            " alization)                                                                                       \n",
            "                                                                                                  \n",
            " add_22 (Add)                   (None, 6, 6, 728)    0           ['block12_sepconv3_bn[0][0]',    \n",
            "                                                                  'add_21[0][0]']                 \n",
            "                                                                                                  \n",
            " block13_sepconv1_act (Activati  (None, 6, 6, 728)   0           ['add_22[0][0]']                 \n",
            " on)                                                                                              \n",
            "                                                                                                  \n",
            " block13_sepconv1 (SeparableCon  (None, 6, 6, 728)   536536      ['block13_sepconv1_act[0][0]']   \n",
            " v2D)                                                                                             \n",
            "                                                                                                  \n",
            " block13_sepconv1_bn (BatchNorm  (None, 6, 6, 728)   2912        ['block13_sepconv1[0][0]']       \n",
            " alization)                                                                                       \n",
            "                                                                                                  \n",
            " block13_sepconv2_act (Activati  (None, 6, 6, 728)   0           ['block13_sepconv1_bn[0][0]']    \n",
            " on)                                                                                              \n",
            "                                                                                                  \n",
            " block13_sepconv2 (SeparableCon  (None, 6, 6, 1024)  752024      ['block13_sepconv2_act[0][0]']   \n",
            " v2D)                                                                                             \n",
            "                                                                                                  \n",
            " block13_sepconv2_bn (BatchNorm  (None, 6, 6, 1024)  4096        ['block13_sepconv2[0][0]']       \n",
            " alization)                                                                                       \n",
            "                                                                                                  \n",
            " conv2d_7 (Conv2D)              (None, 3, 3, 1024)   745472      ['add_22[0][0]']                 \n",
            "                                                                                                  \n",
            " block13_pool (MaxPooling2D)    (None, 3, 3, 1024)   0           ['block13_sepconv2_bn[0][0]']    \n",
            "                                                                                                  \n",
            " batch_normalization_7 (BatchNo  (None, 3, 3, 1024)  4096        ['conv2d_7[0][0]']               \n",
            " rmalization)                                                                                     \n",
            "                                                                                                  \n",
            " add_23 (Add)                   (None, 3, 3, 1024)   0           ['block13_pool[0][0]',           \n",
            "                                                                  'batch_normalization_7[0][0]']  \n",
            "                                                                                                  \n",
            " block14_sepconv1 (SeparableCon  (None, 3, 3, 1536)  1582080     ['add_23[0][0]']                 \n",
            " v2D)                                                                                             \n",
            "                                                                                                  \n",
            " block14_sepconv1_bn (BatchNorm  (None, 3, 3, 1536)  6144        ['block14_sepconv1[0][0]']       \n",
            " alization)                                                                                       \n",
            "                                                                                                  \n",
            " block14_sepconv1_act (Activati  (None, 3, 3, 1536)  0           ['block14_sepconv1_bn[0][0]']    \n",
            " on)                                                                                              \n",
            "                                                                                                  \n",
            " block14_sepconv2 (SeparableCon  (None, 3, 3, 2048)  3159552     ['block14_sepconv1_act[0][0]']   \n",
            " v2D)                                                                                             \n",
            "                                                                                                  \n",
            " block14_sepconv2_bn (BatchNorm  (None, 3, 3, 2048)  8192        ['block14_sepconv2[0][0]']       \n",
            " alization)                                                                                       \n",
            "                                                                                                  \n",
            " block14_sepconv2_act (Activati  (None, 3, 3, 2048)  0           ['block14_sepconv2_bn[0][0]']    \n",
            " on)                                                                                              \n",
            "                                                                                                  \n",
            "==================================================================================================\n",
            "Total params: 20,861,480\n",
            "Trainable params: 20,806,952\n",
            "Non-trainable params: 54,528\n",
            "__________________________________________________________________________________________________\n"
          ]
        }
      ]
    },
    {
      "cell_type": "code",
      "metadata": {
        "id": "i-Mkoyd5_WU5",
        "colab": {
          "base_uri": "https://localhost:8080/"
        },
        "outputId": "7041e9b0-d8c0-41f2-effb-1053a856fc48"
      },
      "source": [
        "# Use the supernet as feature extractor\n",
        "supernet.trainable = False\n",
        "\n",
        "inputs = tfk.Input(shape=(96,96,3))\n",
        "x = supernet(inputs)\n",
        "x = tfkl.Flatten(name='Flattening')(x)\n",
        "x = tfkl.Dropout(0.3, seed=seed)(x)\n",
        "x = tfkl.Dense(\n",
        "    256, \n",
        "    activation='relu',\n",
        "    kernel_initializer = tfk.initializers.HeUniform(seed))(x)\n",
        "x = tfkl.Dropout(0.3, seed=seed)(x)\n",
        "outputs = tfkl.Dense(\n",
        "    8,\n",
        "    activation='softmax',\n",
        "    kernel_initializer = tfk.initializers.GlorotUniform(seed))(x)\n",
        "\n",
        "\n",
        "# Connect input and output through the Model class\n",
        "tl_model = tfk.Model(inputs=inputs, outputs=outputs, name='model')\n",
        "\n",
        "# Compile the model\n",
        "tl_model.compile(loss=tfk.losses.CategoricalCrossentropy(), optimizer=tfk.optimizers.Adam(), metrics='accuracy')\n",
        "tl_model.summary()"
      ],
      "execution_count": 30,
      "outputs": [
        {
          "output_type": "stream",
          "name": "stdout",
          "text": [
            "Model: \"model\"\n",
            "_________________________________________________________________\n",
            " Layer (type)                Output Shape              Param #   \n",
            "=================================================================\n",
            " input_4 (InputLayer)        [(None, 96, 96, 3)]       0         \n",
            "                                                                 \n",
            " xception (Functional)       (None, 3, 3, 2048)        20861480  \n",
            "                                                                 \n",
            " Flattening (Flatten)        (None, 18432)             0         \n",
            "                                                                 \n",
            " dropout_2 (Dropout)         (None, 18432)             0         \n",
            "                                                                 \n",
            " dense_2 (Dense)             (None, 256)               4718848   \n",
            "                                                                 \n",
            " dropout_3 (Dropout)         (None, 256)               0         \n",
            "                                                                 \n",
            " dense_3 (Dense)             (None, 8)                 2056      \n",
            "                                                                 \n",
            "=================================================================\n",
            "Total params: 25,582,384\n",
            "Trainable params: 4,720,904\n",
            "Non-trainable params: 20,861,480\n",
            "_________________________________________________________________\n"
          ]
        }
      ]
    },
    {
      "cell_type": "code",
      "metadata": {
        "id": "z-7i-2abn4Vd",
        "pycharm": {
          "is_executing": true
        },
        "colab": {
          "base_uri": "https://localhost:8080/"
        },
        "outputId": "0d6c3d85-2ed6-43e8-d88e-9c67e39a45d3"
      },
      "source": [
        "# Train the model\n",
        "tl_history = tl_model.fit(\n",
        "    x = aug_train_gen,\n",
        "    batch_size = 32,\n",
        "    epochs = 200,\n",
        "    validation_data = valid_gen,\n",
        "    callbacks = [tfk.callbacks.EarlyStopping(monitor='val_accuracy', mode='max', patience=10, restore_best_weights=True)]\n",
        ").history"
      ],
      "execution_count": 31,
      "outputs": [
        {
          "output_type": "stream",
          "name": "stdout",
          "text": [
            "Epoch 1/200\n",
            "84/84 [==============================] - 18s 183ms/step - loss: 2.3200 - accuracy: 0.2587 - val_loss: 1.8619 - val_accuracy: 0.2887\n",
            "Epoch 2/200\n",
            "84/84 [==============================] - 13s 157ms/step - loss: 1.7314 - accuracy: 0.3523 - val_loss: 1.6669 - val_accuracy: 0.4137\n",
            "Epoch 3/200\n",
            "84/84 [==============================] - 14s 172ms/step - loss: 1.6366 - accuracy: 0.4017 - val_loss: 1.5982 - val_accuracy: 0.4435\n",
            "Epoch 4/200\n",
            "84/84 [==============================] - 13s 156ms/step - loss: 1.5956 - accuracy: 0.4028 - val_loss: 1.6105 - val_accuracy: 0.4048\n",
            "Epoch 5/200\n",
            "84/84 [==============================] - 13s 154ms/step - loss: 1.5709 - accuracy: 0.4021 - val_loss: 1.5255 - val_accuracy: 0.4345\n",
            "Epoch 6/200\n",
            "84/84 [==============================] - 13s 155ms/step - loss: 1.5424 - accuracy: 0.4189 - val_loss: 1.5258 - val_accuracy: 0.4673\n",
            "Epoch 7/200\n",
            "84/84 [==============================] - 14s 166ms/step - loss: 1.5288 - accuracy: 0.4287 - val_loss: 1.4824 - val_accuracy: 0.4464\n",
            "Epoch 8/200\n",
            "84/84 [==============================] - 13s 154ms/step - loss: 1.5186 - accuracy: 0.4343 - val_loss: 1.5086 - val_accuracy: 0.4405\n",
            "Epoch 9/200\n",
            "84/84 [==============================] - 13s 155ms/step - loss: 1.5154 - accuracy: 0.4257 - val_loss: 1.5031 - val_accuracy: 0.4196\n",
            "Epoch 10/200\n",
            "84/84 [==============================] - 13s 154ms/step - loss: 1.4938 - accuracy: 0.4302 - val_loss: 1.5234 - val_accuracy: 0.4613\n",
            "Epoch 11/200\n",
            "84/84 [==============================] - 14s 169ms/step - loss: 1.4468 - accuracy: 0.4616 - val_loss: 1.4313 - val_accuracy: 0.4762\n",
            "Epoch 12/200\n",
            "84/84 [==============================] - 13s 155ms/step - loss: 1.4991 - accuracy: 0.4410 - val_loss: 1.4129 - val_accuracy: 0.4881\n",
            "Epoch 13/200\n",
            "84/84 [==============================] - 13s 155ms/step - loss: 1.4792 - accuracy: 0.4519 - val_loss: 1.3946 - val_accuracy: 0.4762\n",
            "Epoch 14/200\n",
            "84/84 [==============================] - 13s 159ms/step - loss: 1.4778 - accuracy: 0.4568 - val_loss: 1.4014 - val_accuracy: 0.5000\n",
            "Epoch 15/200\n",
            "84/84 [==============================] - 13s 155ms/step - loss: 1.4789 - accuracy: 0.4399 - val_loss: 1.4478 - val_accuracy: 0.4940\n",
            "Epoch 16/200\n",
            "84/84 [==============================] - 15s 175ms/step - loss: 1.4482 - accuracy: 0.4635 - val_loss: 1.3673 - val_accuracy: 0.5089\n",
            "Epoch 17/200\n",
            "84/84 [==============================] - 13s 158ms/step - loss: 1.4545 - accuracy: 0.4680 - val_loss: 1.4349 - val_accuracy: 0.4762\n",
            "Epoch 18/200\n",
            "84/84 [==============================] - 14s 166ms/step - loss: 1.4534 - accuracy: 0.4672 - val_loss: 1.3944 - val_accuracy: 0.5030\n",
            "Epoch 19/200\n",
            "84/84 [==============================] - 13s 153ms/step - loss: 1.4302 - accuracy: 0.4800 - val_loss: 1.3793 - val_accuracy: 0.5030\n",
            "Epoch 20/200\n",
            "84/84 [==============================] - 14s 168ms/step - loss: 1.4342 - accuracy: 0.4646 - val_loss: 1.3871 - val_accuracy: 0.4881\n",
            "Epoch 21/200\n",
            "84/84 [==============================] - 13s 154ms/step - loss: 1.4546 - accuracy: 0.4594 - val_loss: 1.3907 - val_accuracy: 0.4881\n",
            "Epoch 22/200\n",
            "84/84 [==============================] - 13s 153ms/step - loss: 1.4554 - accuracy: 0.4613 - val_loss: 1.3278 - val_accuracy: 0.4970\n",
            "Epoch 23/200\n",
            "84/84 [==============================] - 13s 156ms/step - loss: 1.4392 - accuracy: 0.4657 - val_loss: 1.3877 - val_accuracy: 0.5119\n",
            "Epoch 24/200\n",
            "84/84 [==============================] - 14s 164ms/step - loss: 1.4175 - accuracy: 0.4553 - val_loss: 1.3829 - val_accuracy: 0.5000\n",
            "Epoch 25/200\n",
            "84/84 [==============================] - 13s 155ms/step - loss: 1.4180 - accuracy: 0.4740 - val_loss: 1.4320 - val_accuracy: 0.4673\n",
            "Epoch 26/200\n",
            "84/84 [==============================] - 13s 154ms/step - loss: 1.3954 - accuracy: 0.4796 - val_loss: 1.4238 - val_accuracy: 0.4851\n",
            "Epoch 27/200\n",
            "84/84 [==============================] - 13s 155ms/step - loss: 1.4149 - accuracy: 0.4766 - val_loss: 1.3879 - val_accuracy: 0.5030\n",
            "Epoch 28/200\n",
            "84/84 [==============================] - 13s 153ms/step - loss: 1.4343 - accuracy: 0.4788 - val_loss: 1.3932 - val_accuracy: 0.5030\n",
            "Epoch 29/200\n",
            "84/84 [==============================] - 14s 165ms/step - loss: 1.4135 - accuracy: 0.4785 - val_loss: 1.3613 - val_accuracy: 0.5000\n",
            "Epoch 30/200\n",
            "84/84 [==============================] - 13s 153ms/step - loss: 1.3987 - accuracy: 0.4800 - val_loss: 1.3547 - val_accuracy: 0.4970\n",
            "Epoch 31/200\n",
            "84/84 [==============================] - 13s 154ms/step - loss: 1.3844 - accuracy: 0.4871 - val_loss: 1.4245 - val_accuracy: 0.4940\n",
            "Epoch 32/200\n",
            "84/84 [==============================] - 13s 155ms/step - loss: 1.3943 - accuracy: 0.4777 - val_loss: 1.3826 - val_accuracy: 0.5089\n",
            "Epoch 33/200\n",
            "84/84 [==============================] - 14s 167ms/step - loss: 1.4085 - accuracy: 0.4837 - val_loss: 1.3531 - val_accuracy: 0.5238\n",
            "Epoch 34/200\n",
            "84/84 [==============================] - 13s 155ms/step - loss: 1.4040 - accuracy: 0.4811 - val_loss: 1.3630 - val_accuracy: 0.5000\n",
            "Epoch 35/200\n",
            "84/84 [==============================] - 13s 155ms/step - loss: 1.4322 - accuracy: 0.4672 - val_loss: 1.3531 - val_accuracy: 0.5060\n",
            "Epoch 36/200\n",
            "84/84 [==============================] - 14s 166ms/step - loss: 1.3947 - accuracy: 0.4792 - val_loss: 1.3398 - val_accuracy: 0.5000\n",
            "Epoch 37/200\n",
            "84/84 [==============================] - 14s 163ms/step - loss: 1.4125 - accuracy: 0.4923 - val_loss: 1.4658 - val_accuracy: 0.4911\n",
            "Epoch 38/200\n",
            "84/84 [==============================] - 13s 154ms/step - loss: 1.4081 - accuracy: 0.4833 - val_loss: 1.3229 - val_accuracy: 0.5119\n",
            "Epoch 39/200\n",
            "84/84 [==============================] - 13s 156ms/step - loss: 1.4080 - accuracy: 0.4759 - val_loss: 1.3315 - val_accuracy: 0.5298\n",
            "Epoch 40/200\n",
            "84/84 [==============================] - 13s 156ms/step - loss: 1.3493 - accuracy: 0.4949 - val_loss: 1.3597 - val_accuracy: 0.5030\n",
            "Epoch 41/200\n",
            "84/84 [==============================] - 13s 155ms/step - loss: 1.3808 - accuracy: 0.4957 - val_loss: 1.3493 - val_accuracy: 0.5089\n",
            "Epoch 42/200\n",
            "84/84 [==============================] - 14s 164ms/step - loss: 1.3616 - accuracy: 0.5013 - val_loss: 1.3499 - val_accuracy: 0.5030\n",
            "Epoch 43/200\n",
            "84/84 [==============================] - 13s 154ms/step - loss: 1.3920 - accuracy: 0.4856 - val_loss: 1.3576 - val_accuracy: 0.5208\n",
            "Epoch 44/200\n",
            "84/84 [==============================] - 13s 154ms/step - loss: 1.3743 - accuracy: 0.4964 - val_loss: 1.3480 - val_accuracy: 0.4881\n",
            "Epoch 45/200\n",
            "84/84 [==============================] - 13s 154ms/step - loss: 1.3793 - accuracy: 0.4856 - val_loss: 1.3231 - val_accuracy: 0.5149\n",
            "Epoch 46/200\n",
            "84/84 [==============================] - 14s 164ms/step - loss: 1.3774 - accuracy: 0.4815 - val_loss: 1.3524 - val_accuracy: 0.5060\n",
            "Epoch 47/200\n",
            "84/84 [==============================] - 13s 154ms/step - loss: 1.3880 - accuracy: 0.4852 - val_loss: 1.3195 - val_accuracy: 0.5089\n",
            "Epoch 48/200\n",
            "84/84 [==============================] - 13s 154ms/step - loss: 1.3784 - accuracy: 0.4916 - val_loss: 1.3676 - val_accuracy: 0.5000\n",
            "Epoch 49/200\n",
            "84/84 [==============================] - 13s 154ms/step - loss: 1.3396 - accuracy: 0.5155 - val_loss: 1.4388 - val_accuracy: 0.4881\n"
          ]
        }
      ]
    },
    {
      "cell_type": "code",
      "source": [
        "# Save the best model\n",
        "\n",
        "tl_model.save('TransferLearningModel')\n",
        "del tl_model"
      ],
      "metadata": {
        "colab": {
          "base_uri": "https://localhost:8080/"
        },
        "id": "8eRHAdZc7HPt",
        "outputId": "cba205a9-22b5-456e-f15b-84c3c454e880"
      },
      "execution_count": 32,
      "outputs": [
        {
          "output_type": "stream",
          "name": "stderr",
          "text": [
            "WARNING:absl:Found untraced functions such as _jit_compiled_convolution_op, _jit_compiled_convolution_op, _jit_compiled_convolution_op, _jit_compiled_convolution_op, _jit_compiled_convolution_op while saving (showing 5 of 40). These functions will not be directly callable after loading.\n"
          ]
        }
      ]
    },
    {
      "cell_type": "code",
      "source": [
        "model_aug = tfk.models.load_model(\"TransferLearningModel\")\n",
        "model_aug_test_metrics = model_aug.evaluate(test_gen, return_dict=True)\n",
        "\n",
        "print()\n",
        "print(\"Test metrics with VGG\")\n",
        "print(model_aug_test_metrics)"
      ],
      "metadata": {
        "colab": {
          "base_uri": "https://localhost:8080/"
        },
        "id": "lMeQnjqJ4q9O",
        "outputId": "d3da4d67-3d31-4d86-acc5-81c2931adcba"
      },
      "execution_count": null,
      "outputs": [
        {
          "output_type": "stream",
          "name": "stdout",
          "text": [
            "17/17 [==============================] - 18s 294ms/step - loss: 1.2766 - accuracy: 0.6748\n",
            "\n",
            "Test metrics with VGG\n",
            "{'loss': 1.2766281366348267, 'accuracy': 0.6747663617134094}\n"
          ]
        }
      ]
    },
    {
      "cell_type": "markdown",
      "metadata": {
        "id": "OBwf91PEfcJ_"
      },
      "source": [
        "### Fine tuning"
      ]
    },
    {
      "cell_type": "code",
      "metadata": {
        "id": "PfPJePumjRjp",
        "colab": {
          "base_uri": "https://localhost:8080/"
        },
        "outputId": "5ea94f5b-f228-4572-c43c-0934a75d4e2b"
      },
      "source": [
        "# Re-load the model after transfer learning\n",
        "ft_model = tfk.models.load_model('TransferLearningModel')\n",
        "ft_model.summary()"
      ],
      "execution_count": 48,
      "outputs": [
        {
          "output_type": "stream",
          "name": "stdout",
          "text": [
            "Model: \"model\"\n",
            "_________________________________________________________________\n",
            " Layer (type)                Output Shape              Param #   \n",
            "=================================================================\n",
            " input_4 (InputLayer)        [(None, 96, 96, 3)]       0         \n",
            "                                                                 \n",
            " xception (Functional)       (None, 3, 3, 2048)        20861480  \n",
            "                                                                 \n",
            " Flattening (Flatten)        (None, 18432)             0         \n",
            "                                                                 \n",
            " dropout_2 (Dropout)         (None, 18432)             0         \n",
            "                                                                 \n",
            " dense_2 (Dense)             (None, 256)               4718848   \n",
            "                                                                 \n",
            " dropout_3 (Dropout)         (None, 256)               0         \n",
            "                                                                 \n",
            " dense_3 (Dense)             (None, 8)                 2056      \n",
            "                                                                 \n",
            "=================================================================\n",
            "Total params: 25,582,384\n",
            "Trainable params: 4,720,904\n",
            "Non-trainable params: 20,861,480\n",
            "_________________________________________________________________\n"
          ]
        }
      ]
    },
    {
      "cell_type": "code",
      "metadata": {
        "id": "2zjBB3hO_OSI",
        "colab": {
          "base_uri": "https://localhost:8080/"
        },
        "outputId": "037578a3-eb6a-4d68-bce4-b5a99143a895"
      },
      "source": [
        "# Set all VGG layers to True\n",
        "ft_model.get_layer('xception').trainable = True\n",
        "for i, layer in enumerate(ft_model.get_layer('xception').layers):\n",
        "   print(i, layer.name, layer.trainable)"
      ],
      "execution_count": 49,
      "outputs": [
        {
          "output_type": "stream",
          "name": "stdout",
          "text": [
            "0 input_3 True\n",
            "1 block1_conv1 True\n",
            "2 block1_conv1_bn True\n",
            "3 block1_conv1_act True\n",
            "4 block1_conv2 True\n",
            "5 block1_conv2_bn True\n",
            "6 block1_conv2_act True\n",
            "7 block2_sepconv1 True\n",
            "8 block2_sepconv1_bn True\n",
            "9 block2_sepconv2_act True\n",
            "10 block2_sepconv2 True\n",
            "11 block2_sepconv2_bn True\n",
            "12 conv2d_4 True\n",
            "13 block2_pool True\n",
            "14 batch_normalization_4 True\n",
            "15 add_12 True\n",
            "16 block3_sepconv1_act True\n",
            "17 block3_sepconv1 True\n",
            "18 block3_sepconv1_bn True\n",
            "19 block3_sepconv2_act True\n",
            "20 block3_sepconv2 True\n",
            "21 block3_sepconv2_bn True\n",
            "22 conv2d_5 True\n",
            "23 block3_pool True\n",
            "24 batch_normalization_5 True\n",
            "25 add_13 True\n",
            "26 block4_sepconv1_act True\n",
            "27 block4_sepconv1 True\n",
            "28 block4_sepconv1_bn True\n",
            "29 block4_sepconv2_act True\n",
            "30 block4_sepconv2 True\n",
            "31 block4_sepconv2_bn True\n",
            "32 conv2d_6 True\n",
            "33 block4_pool True\n",
            "34 batch_normalization_6 True\n",
            "35 add_14 True\n",
            "36 block5_sepconv1_act True\n",
            "37 block5_sepconv1 True\n",
            "38 block5_sepconv1_bn True\n",
            "39 block5_sepconv2_act True\n",
            "40 block5_sepconv2 True\n",
            "41 block5_sepconv2_bn True\n",
            "42 block5_sepconv3_act True\n",
            "43 block5_sepconv3 True\n",
            "44 block5_sepconv3_bn True\n",
            "45 add_15 True\n",
            "46 block6_sepconv1_act True\n",
            "47 block6_sepconv1 True\n",
            "48 block6_sepconv1_bn True\n",
            "49 block6_sepconv2_act True\n",
            "50 block6_sepconv2 True\n",
            "51 block6_sepconv2_bn True\n",
            "52 block6_sepconv3_act True\n",
            "53 block6_sepconv3 True\n",
            "54 block6_sepconv3_bn True\n",
            "55 add_16 True\n",
            "56 block7_sepconv1_act True\n",
            "57 block7_sepconv1 True\n",
            "58 block7_sepconv1_bn True\n",
            "59 block7_sepconv2_act True\n",
            "60 block7_sepconv2 True\n",
            "61 block7_sepconv2_bn True\n",
            "62 block7_sepconv3_act True\n",
            "63 block7_sepconv3 True\n",
            "64 block7_sepconv3_bn True\n",
            "65 add_17 True\n",
            "66 block8_sepconv1_act True\n",
            "67 block8_sepconv1 True\n",
            "68 block8_sepconv1_bn True\n",
            "69 block8_sepconv2_act True\n",
            "70 block8_sepconv2 True\n",
            "71 block8_sepconv2_bn True\n",
            "72 block8_sepconv3_act True\n",
            "73 block8_sepconv3 True\n",
            "74 block8_sepconv3_bn True\n",
            "75 add_18 True\n",
            "76 block9_sepconv1_act True\n",
            "77 block9_sepconv1 True\n",
            "78 block9_sepconv1_bn True\n",
            "79 block9_sepconv2_act True\n",
            "80 block9_sepconv2 True\n",
            "81 block9_sepconv2_bn True\n",
            "82 block9_sepconv3_act True\n",
            "83 block9_sepconv3 True\n",
            "84 block9_sepconv3_bn True\n",
            "85 add_19 True\n",
            "86 block10_sepconv1_act True\n",
            "87 block10_sepconv1 True\n",
            "88 block10_sepconv1_bn True\n",
            "89 block10_sepconv2_act True\n",
            "90 block10_sepconv2 True\n",
            "91 block10_sepconv2_bn True\n",
            "92 block10_sepconv3_act True\n",
            "93 block10_sepconv3 True\n",
            "94 block10_sepconv3_bn True\n",
            "95 add_20 True\n",
            "96 block11_sepconv1_act True\n",
            "97 block11_sepconv1 True\n",
            "98 block11_sepconv1_bn True\n",
            "99 block11_sepconv2_act True\n",
            "100 block11_sepconv2 True\n",
            "101 block11_sepconv2_bn True\n",
            "102 block11_sepconv3_act True\n",
            "103 block11_sepconv3 True\n",
            "104 block11_sepconv3_bn True\n",
            "105 add_21 True\n",
            "106 block12_sepconv1_act True\n",
            "107 block12_sepconv1 True\n",
            "108 block12_sepconv1_bn True\n",
            "109 block12_sepconv2_act True\n",
            "110 block12_sepconv2 True\n",
            "111 block12_sepconv2_bn True\n",
            "112 block12_sepconv3_act True\n",
            "113 block12_sepconv3 True\n",
            "114 block12_sepconv3_bn True\n",
            "115 add_22 True\n",
            "116 block13_sepconv1_act True\n",
            "117 block13_sepconv1 True\n",
            "118 block13_sepconv1_bn True\n",
            "119 block13_sepconv2_act True\n",
            "120 block13_sepconv2 True\n",
            "121 block13_sepconv2_bn True\n",
            "122 conv2d_7 True\n",
            "123 block13_pool True\n",
            "124 batch_normalization_7 True\n",
            "125 add_23 True\n",
            "126 block14_sepconv1 True\n",
            "127 block14_sepconv1_bn True\n",
            "128 block14_sepconv1_act True\n",
            "129 block14_sepconv2 True\n",
            "130 block14_sepconv2_bn True\n",
            "131 block14_sepconv2_act True\n"
          ]
        }
      ]
    },
    {
      "cell_type": "code",
      "metadata": {
        "id": "uKb0_D2tCSrZ",
        "colab": {
          "base_uri": "https://localhost:8080/"
        },
        "outputId": "f24e54fc-0725-443a-ec5a-47b520bfe8ac"
      },
      "source": [
        "# Freeze first N layers, e.g., until 14th\n",
        "for i, layer in enumerate(ft_model.get_layer('xception').layers[:90]):\n",
        "  layer.trainable=False\n",
        "for i, layer in enumerate(ft_model.get_layer('xception').layers):\n",
        "   print(i, layer.name, layer.trainable)\n",
        "ft_model.summary()"
      ],
      "execution_count": 50,
      "outputs": [
        {
          "output_type": "stream",
          "name": "stdout",
          "text": [
            "0 input_3 False\n",
            "1 block1_conv1 False\n",
            "2 block1_conv1_bn False\n",
            "3 block1_conv1_act False\n",
            "4 block1_conv2 False\n",
            "5 block1_conv2_bn False\n",
            "6 block1_conv2_act False\n",
            "7 block2_sepconv1 False\n",
            "8 block2_sepconv1_bn False\n",
            "9 block2_sepconv2_act False\n",
            "10 block2_sepconv2 False\n",
            "11 block2_sepconv2_bn False\n",
            "12 conv2d_4 False\n",
            "13 block2_pool False\n",
            "14 batch_normalization_4 False\n",
            "15 add_12 False\n",
            "16 block3_sepconv1_act False\n",
            "17 block3_sepconv1 False\n",
            "18 block3_sepconv1_bn False\n",
            "19 block3_sepconv2_act False\n",
            "20 block3_sepconv2 False\n",
            "21 block3_sepconv2_bn False\n",
            "22 conv2d_5 False\n",
            "23 block3_pool False\n",
            "24 batch_normalization_5 False\n",
            "25 add_13 False\n",
            "26 block4_sepconv1_act False\n",
            "27 block4_sepconv1 False\n",
            "28 block4_sepconv1_bn False\n",
            "29 block4_sepconv2_act False\n",
            "30 block4_sepconv2 False\n",
            "31 block4_sepconv2_bn False\n",
            "32 conv2d_6 False\n",
            "33 block4_pool False\n",
            "34 batch_normalization_6 False\n",
            "35 add_14 False\n",
            "36 block5_sepconv1_act False\n",
            "37 block5_sepconv1 False\n",
            "38 block5_sepconv1_bn False\n",
            "39 block5_sepconv2_act False\n",
            "40 block5_sepconv2 False\n",
            "41 block5_sepconv2_bn False\n",
            "42 block5_sepconv3_act False\n",
            "43 block5_sepconv3 False\n",
            "44 block5_sepconv3_bn False\n",
            "45 add_15 False\n",
            "46 block6_sepconv1_act False\n",
            "47 block6_sepconv1 False\n",
            "48 block6_sepconv1_bn False\n",
            "49 block6_sepconv2_act False\n",
            "50 block6_sepconv2 False\n",
            "51 block6_sepconv2_bn False\n",
            "52 block6_sepconv3_act False\n",
            "53 block6_sepconv3 False\n",
            "54 block6_sepconv3_bn False\n",
            "55 add_16 False\n",
            "56 block7_sepconv1_act False\n",
            "57 block7_sepconv1 False\n",
            "58 block7_sepconv1_bn False\n",
            "59 block7_sepconv2_act False\n",
            "60 block7_sepconv2 False\n",
            "61 block7_sepconv2_bn False\n",
            "62 block7_sepconv3_act False\n",
            "63 block7_sepconv3 False\n",
            "64 block7_sepconv3_bn False\n",
            "65 add_17 False\n",
            "66 block8_sepconv1_act False\n",
            "67 block8_sepconv1 False\n",
            "68 block8_sepconv1_bn False\n",
            "69 block8_sepconv2_act False\n",
            "70 block8_sepconv2 False\n",
            "71 block8_sepconv2_bn False\n",
            "72 block8_sepconv3_act False\n",
            "73 block8_sepconv3 False\n",
            "74 block8_sepconv3_bn False\n",
            "75 add_18 False\n",
            "76 block9_sepconv1_act False\n",
            "77 block9_sepconv1 False\n",
            "78 block9_sepconv1_bn False\n",
            "79 block9_sepconv2_act False\n",
            "80 block9_sepconv2 False\n",
            "81 block9_sepconv2_bn False\n",
            "82 block9_sepconv3_act False\n",
            "83 block9_sepconv3 False\n",
            "84 block9_sepconv3_bn False\n",
            "85 add_19 False\n",
            "86 block10_sepconv1_act False\n",
            "87 block10_sepconv1 False\n",
            "88 block10_sepconv1_bn False\n",
            "89 block10_sepconv2_act False\n",
            "90 block10_sepconv2 True\n",
            "91 block10_sepconv2_bn True\n",
            "92 block10_sepconv3_act True\n",
            "93 block10_sepconv3 True\n",
            "94 block10_sepconv3_bn True\n",
            "95 add_20 True\n",
            "96 block11_sepconv1_act True\n",
            "97 block11_sepconv1 True\n",
            "98 block11_sepconv1_bn True\n",
            "99 block11_sepconv2_act True\n",
            "100 block11_sepconv2 True\n",
            "101 block11_sepconv2_bn True\n",
            "102 block11_sepconv3_act True\n",
            "103 block11_sepconv3 True\n",
            "104 block11_sepconv3_bn True\n",
            "105 add_21 True\n",
            "106 block12_sepconv1_act True\n",
            "107 block12_sepconv1 True\n",
            "108 block12_sepconv1_bn True\n",
            "109 block12_sepconv2_act True\n",
            "110 block12_sepconv2 True\n",
            "111 block12_sepconv2_bn True\n",
            "112 block12_sepconv3_act True\n",
            "113 block12_sepconv3 True\n",
            "114 block12_sepconv3_bn True\n",
            "115 add_22 True\n",
            "116 block13_sepconv1_act True\n",
            "117 block13_sepconv1 True\n",
            "118 block13_sepconv1_bn True\n",
            "119 block13_sepconv2_act True\n",
            "120 block13_sepconv2 True\n",
            "121 block13_sepconv2_bn True\n",
            "122 conv2d_7 True\n",
            "123 block13_pool True\n",
            "124 batch_normalization_7 True\n",
            "125 add_23 True\n",
            "126 block14_sepconv1 True\n",
            "127 block14_sepconv1_bn True\n",
            "128 block14_sepconv1_act True\n",
            "129 block14_sepconv2 True\n",
            "130 block14_sepconv2_bn True\n",
            "131 block14_sepconv2_act True\n",
            "Model: \"model\"\n",
            "_________________________________________________________________\n",
            " Layer (type)                Output Shape              Param #   \n",
            "=================================================================\n",
            " input_4 (InputLayer)        [(None, 96, 96, 3)]       0         \n",
            "                                                                 \n",
            " xception (Functional)       (None, 3, 3, 2048)        20861480  \n",
            "                                                                 \n",
            " Flattening (Flatten)        (None, 18432)             0         \n",
            "                                                                 \n",
            " dropout_2 (Dropout)         (None, 18432)             0         \n",
            "                                                                 \n",
            " dense_2 (Dense)             (None, 256)               4718848   \n",
            "                                                                 \n",
            " dropout_3 (Dropout)         (None, 256)               0         \n",
            "                                                                 \n",
            " dense_3 (Dense)             (None, 8)                 2056      \n",
            "                                                                 \n",
            "=================================================================\n",
            "Total params: 25,582,384\n",
            "Trainable params: 15,813,224\n",
            "Non-trainable params: 9,769,160\n",
            "_________________________________________________________________\n"
          ]
        }
      ]
    },
    {
      "cell_type": "code",
      "metadata": {
        "id": "Kb3wq2DNFgCZ"
      },
      "source": [
        "# Compile the model\n",
        "ft_model.compile(loss=tfk.losses.CategoricalCrossentropy(), optimizer=tfk.optimizers.Adam(1e-4), metrics='accuracy')"
      ],
      "execution_count": 51,
      "outputs": []
    },
    {
      "cell_type": "code",
      "metadata": {
        "id": "gReRof3iferf",
        "colab": {
          "base_uri": "https://localhost:8080/"
        },
        "outputId": "9a9c0780-a46b-4d4f-b07d-1f7a6718b56b"
      },
      "source": [
        "# Fine-tune the model\n",
        "ft_history = ft_model.fit(\n",
        "    x = aug_train_gen,\n",
        "    batch_size = 32,\n",
        "    epochs = 200,\n",
        "    validation_data = valid_gen,\n",
        "    callbacks = [tfk.callbacks.EarlyStopping(monitor='val_accuracy', mode='max', patience=10, restore_best_weights=True)]\n",
        ").history"
      ],
      "execution_count": 52,
      "outputs": [
        {
          "output_type": "stream",
          "name": "stdout",
          "text": [
            "Epoch 1/200\n",
            "84/84 [==============================] - 18s 172ms/step - loss: 1.6032 - accuracy: 0.3905 - val_loss: 1.7802 - val_accuracy: 0.4167\n",
            "Epoch 2/200\n",
            "84/84 [==============================] - 15s 173ms/step - loss: 1.4439 - accuracy: 0.4691 - val_loss: 1.3835 - val_accuracy: 0.5000\n",
            "Epoch 3/200\n",
            "84/84 [==============================] - 13s 160ms/step - loss: 1.3730 - accuracy: 0.5002 - val_loss: 1.3501 - val_accuracy: 0.5149\n",
            "Epoch 4/200\n",
            "84/84 [==============================] - 13s 159ms/step - loss: 1.3328 - accuracy: 0.4983 - val_loss: 1.2013 - val_accuracy: 0.5804\n",
            "Epoch 5/200\n",
            "84/84 [==============================] - 13s 158ms/step - loss: 1.2751 - accuracy: 0.5485 - val_loss: 1.6517 - val_accuracy: 0.4107\n",
            "Epoch 6/200\n",
            "84/84 [==============================] - 14s 170ms/step - loss: 1.2416 - accuracy: 0.5563 - val_loss: 1.4387 - val_accuracy: 0.4851\n",
            "Epoch 7/200\n",
            "84/84 [==============================] - 14s 171ms/step - loss: 1.2450 - accuracy: 0.5391 - val_loss: 1.5370 - val_accuracy: 0.5208\n",
            "Epoch 8/200\n",
            "84/84 [==============================] - 13s 158ms/step - loss: 1.2168 - accuracy: 0.5582 - val_loss: 1.4458 - val_accuracy: 0.5595\n",
            "Epoch 9/200\n",
            "84/84 [==============================] - 13s 160ms/step - loss: 1.1719 - accuracy: 0.5792 - val_loss: 1.2314 - val_accuracy: 0.5893\n",
            "Epoch 10/200\n",
            "84/84 [==============================] - 14s 171ms/step - loss: 1.1632 - accuracy: 0.5867 - val_loss: 1.1836 - val_accuracy: 0.5863\n",
            "Epoch 11/200\n",
            "84/84 [==============================] - 13s 158ms/step - loss: 1.1285 - accuracy: 0.5863 - val_loss: 1.4731 - val_accuracy: 0.5595\n",
            "Epoch 12/200\n",
            "84/84 [==============================] - 13s 158ms/step - loss: 1.1104 - accuracy: 0.6088 - val_loss: 1.6352 - val_accuracy: 0.4554\n",
            "Epoch 13/200\n",
            "84/84 [==============================] - 13s 159ms/step - loss: 1.0795 - accuracy: 0.6121 - val_loss: 1.4885 - val_accuracy: 0.5327\n",
            "Epoch 14/200\n",
            "84/84 [==============================] - 14s 171ms/step - loss: 1.0844 - accuracy: 0.6219 - val_loss: 1.4342 - val_accuracy: 0.5268\n",
            "Epoch 15/200\n",
            "84/84 [==============================] - 13s 159ms/step - loss: 1.0414 - accuracy: 0.6294 - val_loss: 1.4227 - val_accuracy: 0.5804\n",
            "Epoch 16/200\n",
            "84/84 [==============================] - 13s 158ms/step - loss: 1.0508 - accuracy: 0.6159 - val_loss: 1.1658 - val_accuracy: 0.5863\n",
            "Epoch 17/200\n",
            "84/84 [==============================] - 13s 160ms/step - loss: 1.0290 - accuracy: 0.6327 - val_loss: 1.2219 - val_accuracy: 0.5923\n",
            "Epoch 18/200\n",
            "84/84 [==============================] - 14s 165ms/step - loss: 1.0361 - accuracy: 0.6249 - val_loss: 1.1008 - val_accuracy: 0.6310\n",
            "Epoch 19/200\n",
            "84/84 [==============================] - 14s 166ms/step - loss: 1.0103 - accuracy: 0.6428 - val_loss: 1.3524 - val_accuracy: 0.6101\n",
            "Epoch 20/200\n",
            "84/84 [==============================] - 13s 159ms/step - loss: 1.0055 - accuracy: 0.6522 - val_loss: 1.1745 - val_accuracy: 0.6250\n",
            "Epoch 21/200\n",
            "84/84 [==============================] - 13s 157ms/step - loss: 0.9896 - accuracy: 0.6548 - val_loss: 1.1265 - val_accuracy: 0.6071\n",
            "Epoch 22/200\n",
            "84/84 [==============================] - 13s 159ms/step - loss: 0.9880 - accuracy: 0.6417 - val_loss: 1.5145 - val_accuracy: 0.5804\n",
            "Epoch 23/200\n",
            "84/84 [==============================] - 16s 187ms/step - loss: 0.9821 - accuracy: 0.6593 - val_loss: 1.4037 - val_accuracy: 0.5595\n",
            "Epoch 24/200\n",
            "84/84 [==============================] - 13s 159ms/step - loss: 0.9694 - accuracy: 0.6567 - val_loss: 1.1828 - val_accuracy: 0.6012\n",
            "Epoch 25/200\n",
            "84/84 [==============================] - 13s 158ms/step - loss: 0.9235 - accuracy: 0.6717 - val_loss: 1.2968 - val_accuracy: 0.6310\n",
            "Epoch 26/200\n",
            "84/84 [==============================] - 13s 158ms/step - loss: 0.9245 - accuracy: 0.6750 - val_loss: 1.0517 - val_accuracy: 0.6518\n",
            "Epoch 27/200\n",
            "84/84 [==============================] - 14s 170ms/step - loss: 0.9243 - accuracy: 0.6679 - val_loss: 1.1930 - val_accuracy: 0.6042\n",
            "Epoch 28/200\n",
            "84/84 [==============================] - 13s 158ms/step - loss: 0.8686 - accuracy: 0.6893 - val_loss: 1.1077 - val_accuracy: 0.6429\n",
            "Epoch 29/200\n",
            "84/84 [==============================] - 13s 157ms/step - loss: 0.9482 - accuracy: 0.6702 - val_loss: 1.2375 - val_accuracy: 0.6101\n",
            "Epoch 30/200\n",
            "84/84 [==============================] - 13s 157ms/step - loss: 0.9100 - accuracy: 0.6851 - val_loss: 1.5117 - val_accuracy: 0.5952\n",
            "Epoch 31/200\n",
            "84/84 [==============================] - 15s 173ms/step - loss: 0.8854 - accuracy: 0.6956 - val_loss: 1.1400 - val_accuracy: 0.6161\n",
            "Epoch 32/200\n",
            "84/84 [==============================] - 13s 158ms/step - loss: 0.8515 - accuracy: 0.7027 - val_loss: 1.2637 - val_accuracy: 0.6250\n",
            "Epoch 33/200\n",
            "84/84 [==============================] - 13s 158ms/step - loss: 0.8891 - accuracy: 0.6889 - val_loss: 1.1773 - val_accuracy: 0.5655\n",
            "Epoch 34/200\n",
            "84/84 [==============================] - 13s 158ms/step - loss: 0.8754 - accuracy: 0.6866 - val_loss: 1.1549 - val_accuracy: 0.6369\n",
            "Epoch 35/200\n",
            "84/84 [==============================] - 13s 159ms/step - loss: 0.8494 - accuracy: 0.7031 - val_loss: 1.1002 - val_accuracy: 0.6131\n",
            "Epoch 36/200\n",
            "84/84 [==============================] - 14s 172ms/step - loss: 0.8204 - accuracy: 0.7080 - val_loss: 0.9836 - val_accuracy: 0.6577\n",
            "Epoch 37/200\n",
            "84/84 [==============================] - 13s 159ms/step - loss: 0.8474 - accuracy: 0.6893 - val_loss: 1.5020 - val_accuracy: 0.5655\n",
            "Epoch 38/200\n",
            "84/84 [==============================] - 14s 160ms/step - loss: 0.8304 - accuracy: 0.6986 - val_loss: 0.9657 - val_accuracy: 0.6815\n",
            "Epoch 39/200\n",
            "84/84 [==============================] - 13s 157ms/step - loss: 0.8122 - accuracy: 0.7098 - val_loss: 1.2540 - val_accuracy: 0.6369\n",
            "Epoch 40/200\n",
            "84/84 [==============================] - 16s 188ms/step - loss: 0.8342 - accuracy: 0.7087 - val_loss: 1.0635 - val_accuracy: 0.6488\n",
            "Epoch 41/200\n",
            "84/84 [==============================] - 14s 160ms/step - loss: 0.8121 - accuracy: 0.7102 - val_loss: 0.9179 - val_accuracy: 0.6548\n",
            "Epoch 42/200\n",
            "84/84 [==============================] - 14s 162ms/step - loss: 0.7808 - accuracy: 0.7128 - val_loss: 1.3632 - val_accuracy: 0.6131\n",
            "Epoch 43/200\n",
            "84/84 [==============================] - 13s 159ms/step - loss: 0.7992 - accuracy: 0.7121 - val_loss: 1.6146 - val_accuracy: 0.5327\n",
            "Epoch 44/200\n",
            "84/84 [==============================] - 15s 174ms/step - loss: 0.7666 - accuracy: 0.7286 - val_loss: 1.1885 - val_accuracy: 0.6458\n",
            "Epoch 45/200\n",
            "84/84 [==============================] - 13s 158ms/step - loss: 0.7847 - accuracy: 0.7241 - val_loss: 1.1506 - val_accuracy: 0.6518\n",
            "Epoch 46/200\n",
            "84/84 [==============================] - 14s 161ms/step - loss: 0.7994 - accuracy: 0.7166 - val_loss: 1.0601 - val_accuracy: 0.6637\n",
            "Epoch 47/200\n",
            "84/84 [==============================] - 13s 159ms/step - loss: 0.7977 - accuracy: 0.7136 - val_loss: 1.1432 - val_accuracy: 0.6369\n",
            "Epoch 48/200\n",
            "84/84 [==============================] - 15s 175ms/step - loss: 0.7377 - accuracy: 0.7278 - val_loss: 1.1049 - val_accuracy: 0.6071\n"
          ]
        }
      ]
    },
    {
      "cell_type": "code",
      "metadata": {
        "id": "YEJT9OVttR0C",
        "colab": {
          "base_uri": "https://localhost:8080/"
        },
        "outputId": "da5ce4b7-98f8-4837-ad02-889b7f1fca50"
      },
      "source": [
        "ft_model.save('FineTuningModel')\n",
        "del ft_model"
      ],
      "execution_count": 53,
      "outputs": [
        {
          "output_type": "stream",
          "name": "stderr",
          "text": [
            "WARNING:absl:Found untraced functions such as _jit_compiled_convolution_op, _jit_compiled_convolution_op, _jit_compiled_convolution_op, _jit_compiled_convolution_op, _jit_compiled_convolution_op while saving (showing 5 of 40). These functions will not be directly callable after loading.\n"
          ]
        }
      ]
    },
    {
      "cell_type": "code",
      "source": [
        "model_aug = tfk.models.load_model(\"FineTuningModel\")\n",
        "model_aug_test_metrics = model_aug.evaluate(test_gen, return_dict=True)\n",
        "\n",
        "print()\n",
        "print(\"Test metrics with VGG\")\n",
        "print(model_aug_test_metrics)"
      ],
      "metadata": {
        "colab": {
          "base_uri": "https://localhost:8080/"
        },
        "id": "aReSlV5R8CHS",
        "outputId": "654da637-be31-4726-b00f-548f904f9006"
      },
      "execution_count": 54,
      "outputs": [
        {
          "output_type": "stream",
          "name": "stdout",
          "text": [
            "17/17 [==============================] - 2s 66ms/step - loss: 1.0426 - accuracy: 0.6505\n",
            "\n",
            "Test metrics with VGG\n",
            "{'loss': 1.042563796043396, 'accuracy': 0.6504672765731812}\n"
          ]
        }
      ]
    }
  ]
}